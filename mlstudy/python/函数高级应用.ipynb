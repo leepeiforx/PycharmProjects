{
 "cells": [
  {
   "cell_type": "code",
   "execution_count": null,
   "outputs": [],
   "source": [
    "# 偏函数\n",
    "import functools\n",
    "def show(a,b,c=1):\n",
    "    return a+b+c\n",
    "\n",
    "new_func = functools.partial(show,b=1,c=2)\n",
    "\n",
    "result = new_func(1)\n",
    "print(result)"
   ],
   "metadata": {
    "collapsed": false,
    "pycharm": {
     "name": "#%%\n"
    }
   }
  },
  {
   "cell_type": "code",
   "execution_count": 88,
   "metadata": {
    "collapsed": true,
    "pycharm": {
     "is_executing": false
    }
   },
   "outputs": [
    {
     "name": "stdout",
     "text": [
      "hehah\n"
     ],
     "output_type": "stream"
    },
    {
     "data": {
      "text/plain": "3"
     },
     "metadata": {},
     "output_type": "execute_result",
     "execution_count": 88
    }
   ],
   "source": [
    "#高阶函数1\n",
    "# 函数嵌套\n",
    "# 返回函数\n",
    "def show():\n",
    "    def inner():\n",
    "         print('hehah')\n",
    "    return inner\n",
    "\n",
    "#获取返回的函数\n",
    "new_func = show() \n",
    "# 执行返回的函数\n",
    "new_func()\n",
    "\n",
    "def calc(operation):\n",
    "    if operation =='+':\n",
    "        def sum_num(num1,num2):\n",
    "            result = num1 +num2\n",
    "            return result\n",
    "        return sum_num\n",
    "    if operation =='+':\n",
    "        def jq_num(num1,num2):\n",
    "            result = num1 - num2\n",
    "            return result\n",
    "        return jq_num\n",
    "    \n",
    "new_func = calc('+')\n",
    "new_func(1,2)"
   ]
  },
  {
   "cell_type": "code",
   "execution_count": 94,
   "outputs": [
    {
     "name": "stdout",
     "text": [
      "this is a short msg\ninner func\n"
     ],
     "output_type": "stream"
    }
   ],
   "source": [
    "# 高阶函数:当一个函数的参数可以接收一个函数,或者\n",
    "# 还可以返回一个函数,那么这个函数就叫做高阶函数\n",
    "\n",
    "def sum_num(num1,num2):\n",
    "    result = num1 + num2\n",
    "    return result\n",
    "\n",
    "def calc_num(num1,num2,new_func):\n",
    "    value = new_func(num1,num2)\n",
    "    return value\n",
    "\n",
    "res = calc_num(1,2,sum_num)\n",
    "\n",
    "\n",
    "def test(new_func):\n",
    "    new_func()\n",
    "    def inner():\n",
    "        print('inner func')\n",
    "    return inner\n",
    "\n",
    "def show_msg():\n",
    "    print('this is a short msg')\n",
    "\n",
    "res = test(show_msg)\n",
    "res()"
   ],
   "metadata": {
    "collapsed": false,
    "pycharm": {
     "name": "#%%\n",
     "is_executing": false
    }
   }
  },
  {
   "cell_type": "code",
   "execution_count": null,
   "outputs": [],
   "source": [
    "# 高阶函数\n",
    "def multiply_func(func):\n",
    "    if func =='+':\n",
    "        def sum_n(num1,num2):\n",
    "            return sum([num1,num2])\n",
    "        return sum_n\n",
    "    if func =='-':\n",
    "        def ji_n(num1,num2):\n",
    "            return num1-num2\n",
    "        return ji_n\n",
    "    \n",
    "new_func = multiply_func('+')\n",
    "result = new_func(1,2)\n",
    "print(result)"
   ],
   "metadata": {
    "collapsed": false,
    "pycharm": {
     "name": "#%%\n"
    }
   }
  },
  {
   "cell_type": "code",
   "execution_count": 14,
   "outputs": [
    {
     "data": {
      "text/plain": "2"
     },
     "metadata": {},
     "output_type": "execute_result",
     "execution_count": 14
    }
   ],
   "source": [
    "def add(x,y,f):\n",
    "    return f(x)+f(y)\n",
    "add(-1,1,abs)"
   ],
   "metadata": {
    "collapsed": false,
    "pycharm": {
     "name": "#%%\n",
     "is_executing": false
    }
   }
  },
  {
   "cell_type": "code",
   "execution_count": 19,
   "outputs": [
    {
     "data": {
      "text/plain": "15"
     },
     "metadata": {},
     "output_type": "execute_result",
     "execution_count": 19
    }
   ],
   "source": [
    "def calc_sum(*args):\n",
    "    ax = 0\n",
    "    for n in args:\n",
    "        ax = ax + n\n",
    "    return ax\n",
    "\n",
    "def lazy_sum(*args):\n",
    "    def sum():\n",
    "        ax = 0\n",
    "        for n in args:\n",
    "            ax = ax + n\n",
    "        return ax\n",
    "    return sum\n",
    "\n",
    "f = lazy_sum(1,2,3,4,5)\n",
    "f()"
   ],
   "metadata": {
    "collapsed": false,
    "pycharm": {
     "name": "#%%\n",
     "is_executing": false
    }
   }
  },
  {
   "cell_type": "code",
   "execution_count": 98,
   "outputs": [
    {
     "name": "stdout",
     "text": [
      "10\naa bb\n9 9 9\n1 4 9\n"
     ],
     "output_type": "stream"
    }
   ],
   "source": [
    "# 闭包\n",
    "# 在函数嵌套的情况下,内部函数使用了外部函数的参数或者变量,并把这个内部函数返回,这个返回的函数\n",
    "# 可以称为闭包\n",
    "# 闭包的应用场景,可以根据参数生成不同的返回函数(闭包)\n",
    "\n",
    "def show():\n",
    "    num = 10\n",
    "    def inner():\n",
    "        print(num)\n",
    "    return inner\n",
    "\n",
    "new_func = show()\n",
    "new_func()\n",
    "\n",
    "\n",
    "def rep_str(msg,count):\n",
    "    result = msg*count\n",
    "    return result\n",
    "\n",
    "# result = rep_str('a',2)\n",
    "# print(result)\n",
    "\n",
    "def rep_str2(msg,count):\n",
    "    def print_str():\n",
    "        result = msg*count\n",
    "        return result\n",
    "    return print_str\n",
    "\n",
    "new_func1 = rep_str2('a',2)\n",
    "new_func2 = rep_str2('b',2)\n",
    "print(new_func1(),new_func2())\n",
    "\n",
    "'''返回闭包时,返回函数不要引用任何循环变量,或者后续会发生变化的变量\n",
    "如果一定要用循环,应该再创建一个函数,用该函数的参数绑定循环变量当前的值\n",
    "无论该循环变量后续如何改变,已绑定到函数参数的值不变'''    \n",
    "\n",
    "\n",
    "def count():\n",
    "    fs = []\n",
    "    for i in range(1,4):\n",
    "        def f():\n",
    "            return i*i\n",
    "        fs.append(f)\n",
    "    return fs\n",
    "f1, f2, f3 = count()\n",
    "print(f1(),f2(),f3())\n",
    "\n",
    "\n",
    "def count2():\n",
    "    def f(j):\n",
    "        def g():\n",
    "            return j*j\n",
    "        return g\n",
    "    fs = []\n",
    "    for i in range(1,4):\n",
    "        fs.append(f(i))\n",
    "    return fs\n",
    "f1,f2,f3 = count2()\n",
    "print(f1(),f2(),f3())\n"
   ],
   "metadata": {
    "collapsed": false,
    "pycharm": {
     "name": "#%%\n",
     "is_executing": false
    }
   }
  },
  {
   "cell_type": "code",
   "execution_count": 97,
   "outputs": [
    {
     "name": "stdout",
     "text": [
      "hello world\n------------------------------\n北京时间\n2019-10-25 14:55:17.182918\n---------------\n??????????????????????????????\nAAAAA\n计算结果如下\n5\n计算结果如下\n1 4\nNone\ncccccccccccccccccccccccccccccc\n111111\nNone\n------------------------------\n******************************\naaaa\n"
     ],
     "output_type": "stream"
    }
   ],
   "source": [
    "# 装饰器:本质上就是一个函数,可以给原函数的功能进行扩展,且不改变原函数的定义及操作\n",
    "\n",
    "import datetime\n",
    "\n",
    "def get_decorator(text):\n",
    "    def decorator(now):\n",
    "        def inner(str):\n",
    "            print(text)\n",
    "            print('-'*30)\n",
    "            now(str)\n",
    "        return inner\n",
    "    return decorator\n",
    "\n",
    "\n",
    "@get_decorator('hello world')  # => 相当于now = decorator(now)\n",
    "def now(str):\n",
    "    print(str)\n",
    "    print(datetime.datetime.now())\n",
    "\n",
    "now('北京时间')\n",
    "print('---------------')\n",
    "\n",
    "# 装饰器=>通过闭包完成装饰器\n",
    "def decorator(new_func):\n",
    "    def inner():\n",
    "        print('?'*30)\n",
    "        new_func()\n",
    "    return inner\n",
    "\n",
    "@decorator # =>show = decorator(show)\n",
    "# 使用装饰器装饰下面的函数 \n",
    "def show():\n",
    "    print('AAAAA')\n",
    "    \n",
    "show()\n",
    "\n",
    "# 装饰带有参数的函数\n",
    "def decorator(func):\n",
    "    def inner(num1,num2):\n",
    "        print('计算结果如下')\n",
    "        return func(num1,num2)\n",
    "    return inner\n",
    "\n",
    "\n",
    "@decorator   #=>sum_num = decorator(sum_num) \n",
    "def sum_num(num1,num2):\n",
    "    result = num1 + num2\n",
    "    return (result)\n",
    "    \n",
    "print(sum_num(1,4))\n",
    "\n",
    "@decorator\n",
    "def sum_msg(num1,num2):\n",
    "    print(num1,num2)\n",
    "\n",
    "res = sum_msg(1,4)\n",
    "print(res)\n",
    "\n",
    "\n",
    "# 构建通用的装饰器\n",
    "def decorator(func):\n",
    "    def inner(*args,**kwargs):\n",
    "        print('结果如下')\n",
    "        return func(*args,**kwargs)\n",
    "    return inner\n",
    "\n",
    "@decorator\n",
    "def show():\n",
    "    print('无返回无参数的函数')\n",
    "\n",
    "# 定义有参数的装饰器\n",
    "def get_decorator(msg):\n",
    "    def decorator(func):\n",
    "        def inner():\n",
    "            print(msg * 30)\n",
    "            func()\n",
    "        return inner\n",
    "    return decorator\n",
    "\n",
    "@get_decorator('c')\n",
    "# 把@后面的操作相当于执行了一个函数,返回了一个装饰器\n",
    "def shown():\n",
    "    print ('111111')\n",
    "\n",
    "res = shown()\n",
    "print(res)\n",
    "\n",
    "\n",
    "#使用多个装饰器\n",
    "\n",
    "def decorator(func):\n",
    "    def inner():    #inner其实就是封装传入函数的代码\n",
    "        print('-'*30)\n",
    "        func()\n",
    "    return inner\n",
    "\n",
    "def decorator2(func):\n",
    "    def inner():\n",
    "        print('*'*30)\n",
    "        func()\n",
    "    return inner\n",
    "\n",
    "@decorator   # => show = decorator1(decorator2.inner) -> decorator1.inner\n",
    "@decorator2  # => show = decorator2(show) -> decorator2.inner\n",
    "def show():\n",
    "    print('aaaa')\n",
    "show()"
   ],
   "metadata": {
    "collapsed": false,
    "pycharm": {
     "name": "#%%\n",
     "is_executing": false
    }
   }
  },
  {
   "cell_type": "code",
   "execution_count": 102,
   "outputs": [
    {
     "name": "stdout",
     "text": [
      "['3']\n"
     ],
     "output_type": "stream"
    }
   ],
   "source": [
    "# 文件的介绍\n",
    "my_list = []\n",
    "content = input('请输入您的数据')\n",
    "my_list.append(content)\n",
    "\n",
    "print(my_list)\n",
    "#文件以硬盘为载体,可以做到数据的永久存储"
   ],
   "metadata": {
    "collapsed": false,
    "pycharm": {
     "name": "#%%\n",
     "is_executing": false
    }
   }
  },
  {
   "cell_type": "code",
   "execution_count": 123,
   "outputs": [
    {
     "name": "stdout",
     "text": [
      "utf-8\nhelloworld哈哈\n"
     ],
     "output_type": "stream"
    }
   ],
   "source": [
    "'''文件访问模式 \n",
    "r:只读,文件不存在时会报错\n",
    "w:只写,文件不存在时会自动创建一个并打开写\n",
    "入数据,如果文件存在,会将原始数据清空再重新写入\n",
    "使用w模式每次打开文件时,会首先清空原始数据\n",
    "a:追加写入,\n",
    "b:以二进制方式操作文件\n",
    "rb,rw,ra'''\n",
    "# (r,w,a)+模式,支持读写,但是主要看前面的主模式\n",
    " \n",
    "\n",
    "#________________r模式______________________-\n",
    "# 打开文件使用\n",
    "file = open('1.txt','r',encoding='utf-8')\n",
    "\n",
    "print(file.encoding)\n",
    "#读取文件中的数据\n",
    "content = file.read()\n",
    "\n",
    "print(content)\n",
    "#关闭文件\n",
    "file.close()"
   ],
   "metadata": {
    "collapsed": false,
    "pycharm": {
     "name": "#%%\n",
     "is_executing": false
    }
   }
  },
  {
   "cell_type": "code",
   "execution_count": 128,
   "outputs": [],
   "source": [
    "# ______________w模式_________________\n",
    "# 在WIN上操作中文时,要设置编码格式\n",
    "file = open('1.txt','w',encoding='utf-8')\n",
    "\n",
    "file.write('hello ')\n",
    "# 在打开文件时,多次写入数据不会覆盖之前的数据\n",
    "file.write('world ')\n",
    "file.write('cc')\n",
    "file.close()"
   ],
   "metadata": {
    "collapsed": false,
    "pycharm": {
     "name": "#%%\n",
     "is_executing": false
    }
   }
  },
  {
   "cell_type": "code",
   "execution_count": 134,
   "outputs": [],
   "source": [
    "# 追加写入(a)模式\n",
    "file = open('1.txt','a',encoding='utf-8')\n",
    "file.write(' trey next cc 哈哈')\n",
    "file.close()"
   ],
   "metadata": {
    "collapsed": false,
    "pycharm": {
     "name": "#%%\n",
     "is_executing": false
    }
   }
  },
  {
   "cell_type": "code",
   "execution_count": 142,
   "outputs": [
    {
     "name": "stdout",
     "text": [
      "b'hello \\xe5\\x93\\x88\\xe5\\x93\\x88cc \\xe5\\x93\\x88 \\xe5\\x80\\x92\\xe9\\x9c\\x89\\xe9\\xac\\xbc'\n"
     ],
     "output_type": "stream"
    }
   ],
   "source": [
    "# rb模式\n",
    "file = open('1.txt','rb')\n",
    "content = file.read()  #二进制 => 字符串 (解码)\n",
    "print(content)\n",
    "file.close()\n"
   ],
   "metadata": {
    "collapsed": false,
    "pycharm": {
     "name": "#%%\n",
     "is_executing": false
    }
   }
  },
  {
   "cell_type": "code",
   "execution_count": 140,
   "outputs": [],
   "source": [
    "# wb模式\n",
    "file = open('1.txt','wb')\n",
    "# 字符串->二进制 (编码)\n",
    "# 对字符串进行utf-8编码得到二进制数据\n",
    "content = 'hello 哈哈'\n",
    "file_data = content.encode('utf-8')\n",
    "content = file.write(file_data)\n",
    "file.close()\n",
    "\n",
    "\n"
   ],
   "metadata": {
    "collapsed": false,
    "pycharm": {
     "name": "#%%\n",
     "is_executing": false
    }
   }
  },
  {
   "cell_type": "code",
   "execution_count": 143,
   "outputs": [],
   "source": [
    "# ab模式\n",
    "file = open('1.txt','ab')\n",
    "# 字符串->二进制 (编码)\n",
    "# 对字符串进行utf-8编码得到二进制数据\n",
    "content = 'cc 哈 倒霉鬼'\n",
    "file_data = content.encode('utf-8')\n",
    "content = file.write(file_data)\n",
    "file.close()"
   ],
   "metadata": {
    "collapsed": false,
    "pycharm": {
     "name": "#%%\n",
     "is_executing": false
    }
   }
  },
  {
   "cell_type": "code",
   "execution_count": 145,
   "outputs": [],
   "source": [
    "# r+模式\n",
    "# 为了兼容不同系统,只要没有看到b模式,可以使用encoding指定编码格式\n",
    "file = open('1.txt','r+',encoding='utf-8')\n",
    "\n",
    "# 此模式下写入数据时不会先清空数据, 而是把指定数据中的数据替换为写入数据,文件中的其他数据保留\n",
    "file.write('ac')\n",
    "file.close()"
   ],
   "metadata": {
    "collapsed": false,
    "pycharm": {
     "name": "#%%\n",
     "is_executing": false
    }
   }
  },
  {
   "cell_type": "code",
   "execution_count": 155,
   "outputs": [
    {
     "name": "stdout",
     "text": [
      "b'\\xe5\\x93\\x88 \\xe5\\x93\\x88 c \\xe5\\x93\\x88\\xe5\\x93\\x88cc \\xe5\\x93\\x88 \\xe5\\x80\\x92\\xe9\\x9c\\x89\\xe9\\xac\\xbccc \\xe5\\x93\\x88 \\xe5\\x80\\x92\\xe9\\x9c\\x89\\xe9\\xac\\xbc'\n"
     ],
     "output_type": "stream"
    }
   ],
   "source": [
    "# read,readline,readlines读取文件操作\n",
    "# 如果是r模式读取的是指定数据的长度\n",
    "# file = open('1.txt','r',encoding='utf-8')\n",
    "\n",
    "# 如果是rb模式读取的是指定数据的长度\n",
    "file = open('1.txt','rb')\n",
    "content = file.read()\n",
    "# 在UTF-8编码模式下,一个中文占3个字节,数字及字母占一个字节\n",
    "file_data = content.decode('utf-8')\n",
    "print(content)\n",
    "file.close()"
   ],
   "metadata": {
    "collapsed": false,
    "pycharm": {
     "name": "#%%\n",
     "is_executing": false
    }
   }
  },
  {
   "cell_type": "code",
   "execution_count": 168,
   "outputs": [
    {
     "name": "stdout",
     "text": [
      "7\n_t a 是哈cc 哈 倒霉鬼cc 哈 倒霉鬼\n"
     ],
     "output_type": "stream"
    }
   ],
   "source": [
    "#根据指定的文件指针读取数据\n",
    "file = open('1.txt','rb')\n",
    "# 查看文件指针位置\n",
    "tell = file.tell()\n",
    "\n",
    "# 设置文件指针位置\n",
    "file.seek(7)\n",
    "tell = file.tell()\n",
    "print(tell)\n",
    "content = file.read()\n",
    "file_data = content.decode('utf-8')\n",
    "print(file_data)\n",
    "file.close()"
   ],
   "metadata": {
    "collapsed": false,
    "pycharm": {
     "name": "#%%\n",
     "is_executing": false
    }
   }
  },
  {
   "cell_type": "code",
   "execution_count": 169,
   "outputs": [
    {
     "name": "stdout",
     "text": [
      "哈c啊_t a 是哈cc 哈 倒霉鬼cc 哈 倒霉鬼\n"
     ],
     "output_type": "stream"
    }
   ],
   "source": [
    "file = open('1.txt','rb')\n",
    "# 读取一行数据,当读取数据的时候遇到'\\n'表示数据读取结束\n",
    "file_data = file.readline()\n",
    "print(file_data.decode('utf-8'))\n",
    "file.close()"
   ],
   "metadata": {
    "collapsed": false,
    "pycharm": {
     "name": "#%%\n",
     "is_executing": false
    }
   }
  },
  {
   "cell_type": "code",
   "execution_count": 170,
   "outputs": [
    {
     "name": "stdout",
     "text": [
      "哈c啊_t a 是哈cc 哈\r\n\n倒霉鬼cc 哈 倒霉鬼\r\n\n倒霉鬼cc 哈 倒霉鬼\r\n\n倒霉鬼cc 哈 倒霉鬼倒霉鬼cc 哈 倒霉鬼\r\n\n倒霉鬼cc 哈 倒霉鬼\r\n\n\r\n\n\r\n\n"
     ],
     "output_type": "stream"
    }
   ],
   "source": [
    "file = open('1.txt','rb')\n",
    "# 文件中的数据按照每行读取,把每行的数据放到一个列表里面\n",
    "file_data = file.readlines()\n",
    "for data in file_data:\n",
    "    print(data.decode('utf-8'))\n",
    "file.close()\n"
   ],
   "metadata": {
    "collapsed": false,
    "pycharm": {
     "name": "#%%\n",
     "is_executing": false
    }
   }
  },
  {
   "cell_type": "code",
   "execution_count": 173,
   "outputs": [
    {
     "name": "stdout",
     "text": [
      "done\n"
     ],
     "output_type": "stream"
    }
   ],
   "source": [
    "# 1,打开原文件读取数据\n",
    "# rb模式:是比较通用的模式,可以兼容不同类型的文件\n",
    "src_file = open('1.txt','rb')\n",
    "# 读取文件中的全部数据\n",
    "file_data = src_file.read()\n",
    "# 2.打开目标文件准备写入数据\n",
    "dst_file = open('3[副本].txt','wb')\n",
    "# 3.把源文件的数据写入目标文件\n",
    "dst_file.write(file_data)\n",
    "\n",
    "src_file.close()\n",
    "dst_file.close()\n",
    "print('done')"
   ],
   "metadata": {
    "collapsed": false,
    "pycharm": {
     "name": "#%%\n",
     "is_executing": false
    }
   }
  },
  {
   "cell_type": "code",
   "execution_count": 3,
   "outputs": [
    {
     "name": "stdout",
     "text": [
      "1024\n2048\n3072\n4096\n5120\n5450\n数据读取完成! b''\n"
     ],
     "output_type": "stream"
    }
   ],
   "source": [
    "# 模拟大文件拷贝\n",
    "src_file = open('1.txt','rb')\n",
    "dst_file = open('1[副本].txt','wb')\n",
    "\n",
    "while True:\n",
    "    file_data = src_file.read(1024)\n",
    "    # 判读数据是否读取完成\n",
    "    # if len(file_data) >0:\n",
    "    # 判断二进制变量类型是否有数据\n",
    "    if file_data:\n",
    "        print(src_file.tell())\n",
    "        dst_file.write(file_data)\n",
    "    else:\n",
    "        print('数据拷贝完成!',file_data)\n",
    "        break\n",
    "# 关闭文件\n",
    "src_file.close()\n",
    "dst_file.close()\n",
    "        \n",
    "        "
   ],
   "metadata": {
    "collapsed": false,
    "pycharm": {
     "name": "#%%\n",
     "is_executing": false
    }
   }
  },
  {
   "cell_type": "code",
   "execution_count": 7,
   "outputs": [],
   "source": [
    "# if判断的拓展\n",
    "# if :bool类型,数字类型,容器类型(字符串,元组,列表,字典,集合),None(空值)\n",
    "# if True:\n",
    "#     print('条件成立')\n",
    "# # 数字类型,非0即真,只要不是0就是成立的\n",
    "# if -1:\n",
    "#     print('条件成立')\n",
    "# # 容器类型,容器类型里面有数据的时候表示条件成立,否则条件不成立\n",
    "# if 'xxx':\n",
    "#     print('条件成立')   \n",
    "# if [1,2]:\n",
    "#     print('成立')\n",
    "# if (1,2):\n",
    "#     print('成立')\n",
    "# if {}:\n",
    "#     print('成立')\n",
    "\n",
    "# 非None,None表示条件不成立"
   ],
   "metadata": {
    "collapsed": false,
    "pycharm": {
     "name": "#%%\n",
     "is_executing": false
    }
   }
  },
  {
   "cell_type": "code",
   "execution_count": 60,
   "outputs": [],
   "source": [
    "# 文件及文件夹相关操作\n",
    "\n",
    "file = open('4.txt','w',encoding='utf-8')\n",
    "file.write('acf')\n",
    "file.close()\n",
    "\n",
    "# 文件和文件夹相关模块\n",
    "import os\n",
    "\n",
    "# 文件操作的高级模块\n",
    "import shutil"
   ],
   "metadata": {
    "collapsed": false,
    "pycharm": {
     "name": "#%%\n",
     "is_executing": false
    }
   }
  },
  {
   "cell_type": "code",
   "execution_count": null,
   "outputs": [],
   "source": [
    "# 重命名 提示:目标文件必须存在\n",
    "# os.rename('4.txt','444.txt')\n",
    "\n",
    "# 创建文件夹\n",
    "# os.mkdir('ccc')\n",
    "# 重命名文件夹\n",
    "# os.rename('ccc','3c')\n",
    "\n",
    "# 在指定文件夹下创建文件(在3c文件夹下创建文件)\n",
    "# 1.指定路径创建\n",
    "# file = open('3c/1.txt','w',encoding='utf-8') \n",
    "# file.close()\n",
    "\n",
    "# 2.切换到指定BBB目录创建,默认路径是py文件操作的目录\n",
    "# 获取当前路径\n",
    "os.chdir(r'C:\\Users\\bolat\\PycharmProjects\\untitled\\WeatherData')\n",
    "current_path = os.getcwd()\n",
    "print(current_path)\n",
    "\n",
    "# 切换到指定路径\n",
    "os.chdir('3c')\n",
    "current_path = os.getcwd()\n",
    "print(current_path)\n",
    "file = open('2.txt','w',encoding='utf-8') \n",
    "file.close()"
   ],
   "metadata": {
    "collapsed": false,
    "pycharm": {
     "name": "#%%\n"
    }
   }
  },
  {
   "cell_type": "code",
   "execution_count": 51,
   "outputs": [
    {
     "name": "stdout",
     "text": [
      "['1.txt', '3c', 'asti_270615.csv', 'bologna_270615.csv', 'cesena_270615.csv', 'faenza_270615.csv', 'ferrara_270615.csv', 'mantova_270615.csv', 'milano_270615.csv', 'piacenza_270615.csv', 'ravenna_270615.csv', 'torino_270615.csv', '函数高级应用.ipynb']\nC:\\Users\\bolat\\PycharmProjects\\untitled\\WeatherData\\3c\n['43.txt', '46.docx']\n"
     ],
     "output_type": "stream"
    }
   ],
   "source": [
    "# os.renames()可以同时修改文件名及其文件夹名称\n",
    "os.chdir(r'C:\\Users\\bolat\\PycharmProjects\\untitled\\WeatherData')\n",
    "# os.renames(r'4c/3.txt','3c/43.txt')\n",
    "\n",
    "# %%\n",
    "# 查看目录下的文件名列表信息\n",
    "\n",
    "file_list = os.listdir()\n",
    "print(file_list)\n",
    "\n",
    "os.chdir('3c')\n",
    "current_path = os.getcwd()\n",
    "print(current_path)\n",
    "# '.'表示当前目录,'..'表示上级目录\n",
    "file_list = os.listdir('.')\n",
    "print(file_list)"
   ],
   "metadata": {
    "collapsed": false,
    "pycharm": {
     "name": "#%%\n",
     "is_executing": false
    }
   }
  },
  {
   "cell_type": "code",
   "execution_count": 66,
   "outputs": [
    {
     "name": "stdout",
     "text": [
      "C:\\Users\\bolat\\PycharmProjects\\untitled\\WeatherData\\1.txt\n1.txt\n1 .txt\n"
     ],
     "output_type": "stream"
    }
   ],
   "source": [
    "# 删除文件\n",
    "os.chdir(r'C:\\Users\\bolat\\PycharmProjects\\untitled\\WeatherData')\n",
    "\n",
    "# 删除文件(remove只能删除文件,无法删除目录(文件夹)\n",
    "# os.remove(r'3c/43.txt')\n",
    "# os.remove('3c/46.docx')\n",
    "\n",
    "# 删除目录树\n",
    "# shutil.rmtree('3c')\n",
    "\n",
    "# 扩展\n",
    "# 获取文件的绝对路径(从根目录算起的文件路径称为绝对路径)\n",
    "abs_path = os.path.abspath('1.txt')\n",
    "print(abs_path)\n",
    "\n",
    "# 根据绝对路径获取路径中的文件名\n",
    "file_name = os.path.basename(abs_path)\n",
    "print(file_name)\n",
    "\n",
    "# 获取文件名及文件名后缀\n",
    "file_name,file_extend = os.path.splitext(file_name)\n",
    "print(file_name,file_extend)\n",
    "\n",
    "\n",
    "\n"
   ],
   "metadata": {
    "collapsed": false,
    "pycharm": {
     "name": "#%%\n",
     "is_executing": false
    }
   }
  }
 ],
 "metadata": {
  "language_info": {
   "codemirror_mode": {
    "name": "ipython",
    "version": 2
   },
   "file_extension": ".py",
   "mimetype": "text/x-python",
   "name": "python",
   "nbconvert_exporter": "python",
   "pygments_lexer": "ipython2",
   "version": "2.7.6"
  },
  "kernelspec": {
   "name": "python3",
   "language": "python",
   "display_name": "Python 3"
  },
  "pycharm": {
   "stem_cell": {
    "cell_type": "raw",
    "source": [],
    "metadata": {
     "collapsed": false
    }
   }
  }
 },
 "nbformat": 4,
 "nbformat_minor": 0
}