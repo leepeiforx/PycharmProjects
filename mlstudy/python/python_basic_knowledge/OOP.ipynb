{
 "cells": [
  {
   "cell_type": "code",
   "execution_count": 7,
   "metadata": {
    "collapsed": true,
    "pycharm": {
     "is_executing": false
    }
   },
   "outputs": [
    {
     "name": "stdout",
     "text": [
      "King Author\n100\nNew Value\n{'value': 'New Value', 'anothername': 'spam'}\n"
     ],
     "output_type": "stream"
    }
   ],
   "source": [
    "# 类的创建\n",
    "class firstClass:\n",
    "    def setData(self,value):\n",
    "        self.value = value\n",
    "    def display(self):\n",
    "        print(self.value)\n",
    "\n",
    "x = firstClass()\n",
    "y = firstClass()\n",
    "x.setData('King Author')\n",
    "y.setData(100)\n",
    "\n",
    "x.display()\n",
    "y.display()\n",
    "\n",
    "x.value = 'New Value'\n",
    "x.anothername = 'spam'\n",
    "x.display()\n",
    "print(x.__dict__)"
   ]
  },
  {
   "cell_type": "code",
   "execution_count": 11,
   "outputs": [
    {
     "name": "stdout",
     "text": [
      "Current value = 42\n{'value': 42}\n<class '__main__.SecondClass'>\n"
     ],
     "output_type": "stream"
    }
   ],
   "source": [
    "# 类的继承\n",
    "class SecondClass(firstClass):\n",
    "    def display(self):\n",
    "        print('Current value = %s'%self.value)\n",
    "\n",
    "z = SecondClass()\n",
    "z.setData(42)\n",
    "z.display()\n",
    "print(z.__dict__)\n",
    "print(z.__class__)\n"
   ],
   "metadata": {
    "collapsed": false,
    "pycharm": {
     "name": "#%%\n",
     "is_executing": false
    }
   }
  },
  {
   "cell_type": "code",
   "execution_count": 23,
   "outputs": [
    {
     "name": "stdout",
     "text": [
      "Current value = abc\n[ThirdClass: abc]\nCurrent value = abcxyz\n[ThirdClass: abcxyz]\n[ThirdClass: abcabcabc]\n"
     ],
     "output_type": "stream"
    }
   ],
   "source": [
    "# 类运算符重载\n",
    "class ThirdClass(SecondClass):\n",
    "    def __init__(self,value):\n",
    "        self.value = value\n",
    "    def __add__(self, other):\n",
    "        return ThirdClass(self.value + other)\n",
    "    def __str__(self):\n",
    "        return '[ThirdClass: %s]'%self.value\n",
    "    def mul(self, other):\n",
    "        self.value *= other\n",
    "        \n",
    "a = ThirdClass('abc')\n",
    "a.display()\n",
    "print(a)\n",
    "b = a + 'xyz'\n",
    "b.display()\n",
    "print(b)\n",
    "a.mul(3)\n",
    "print(a)\n"
   ],
   "metadata": {
    "collapsed": false,
    "pycharm": {
     "name": "#%%\n",
     "is_executing": false
    }
   }
  },
  {
   "cell_type": "code",
   "execution_count": 26,
   "outputs": [
    {
     "data": {
      "text/plain": "('trainer', ('vls', 'developer'))"
     },
     "metadata": {},
     "output_type": "execute_result",
     "execution_count": 26
    }
   ],
   "source": [
    "class rec:\n",
    "    pass\n",
    "\n",
    "pers1 = rec()\n",
    "pers1.name ='mel'\n",
    "pers1.job = 'trainer'\n",
    "pers1.age = 40\n",
    "\n",
    "pers2 =rec()\n",
    "pers2.name = 'vls'\n",
    "pers2.job = 'developer'\n",
    "pers1.name ,pers2.name \n",
    "\n",
    "class Person:\n",
    "    def __init__(self,name,job):\n",
    "        self.name = name\n",
    "        self.job = job\n",
    "    def info(self):\n",
    "        return (self.name,self.job)\n",
    "\n",
    "rec1 = Person('mel','trainer')\n",
    "rec2 = Person('vls','developer')\n",
    "rec1.job,rec2.info()"
   ],
   "metadata": {
    "collapsed": false,
    "pycharm": {
     "name": "#%%\n",
     "is_executing": false
    }
   }
  },
  {
   "cell_type": "code",
   "execution_count": 32,
   "outputs": [
    {
     "name": "stdout",
     "text": [
      "---All there---\n[Person: Bob Smith,0]\n[Person: Sue Jones,132000]\n[Person: Tom Jones,120000]\n"
     ],
     "output_type": "stream"
    }
   ],
   "source": [
    "class Person:\n",
    "    def __init__(self,name,job=None,pay=0):\n",
    "        self.name = name\n",
    "        self.job = job\n",
    "        self.pay = pay\n",
    "    def lastName(self):\n",
    "        return self.name.split()[-1]\n",
    "    def giveRaise(self,percent):\n",
    "        self.pay = int(self.pay*(1+percent))\n",
    "    def __str__(self):\n",
    "        return '[Person: %s,%s]'%(self.name,self.pay)\n",
    "\n",
    "# 子类\n",
    "class Manager(Person):\n",
    "    def giveRaise(self,percent,bonus=.1):\n",
    "        Person.giveRaise(self,percent+bonus)\n",
    "\n",
    "if __name__ == '__main__':\n",
    "    bob = Person('Bob Smith')\n",
    "    sue = Person('Sue Jones',job='dev',pay=100000)\n",
    "    # print(bob.name,bob.pay)\n",
    "    # print(bob)\n",
    "    # print(sue.name,sue.pay)\n",
    "    # print(sue)\n",
    "    # print(bob.lastName(),sue.lastName())\n",
    "    sue.giveRaise(.2)\n",
    "    # print(sue.pay)\n",
    "    # print(sue)\n",
    "    tom = Manager('Tom Jones','mgr',100000)\n",
    "    # tom.giveRaise(.2)\n",
    "    # print(tom.lastName())\n",
    "    # print(tom)\n",
    "    \n",
    "    print('---All there---')\n",
    "    for object in (bob,sue,tom):\n",
    "        object.giveRaise(.10)\n",
    "        print(object)\n",
    "                "
   ],
   "metadata": {
    "collapsed": false,
    "pycharm": {
     "name": "#%%\n",
     "is_executing": false
    }
   }
  },
  {
   "cell_type": "code",
   "execution_count": 1,
   "outputs": [
    {
     "name": "stdout",
     "text": [
      "[Person Bob Smith 0]\n[Person Sue Jones 100000]\nSmith Jones\n[Person Sue Jones 110000]\nJones\n[Person Tom Jones 65000]\ndict_keys(['name', 'job', 'pay'])\n"
     ],
     "output_type": "stream"
    }
   ],
   "source": [
    "# 继承,定制和拓展\n",
    "# 实例创建,行为方法,运算符重载,定制行为,定制构造函数\n",
    "\n",
    "class Person:\n",
    "    def __init__(self,name,job=None,pay=0):\n",
    "        self.name = name\n",
    "        self.job = job\n",
    "        self.pay = pay\n",
    "    def lastName(self):\n",
    "        return self.name.split()[-1]\n",
    "    def giveRaise(self,percent):\n",
    "        self.pay = int(self.pay*(1+percent))\n",
    "    def __str__(self):\n",
    "        return '[Person %s %s]'%(self.name,self.pay)\n",
    "    \n",
    "class Manager(Person):\n",
    "    def __init__(self,name,pay):\n",
    "        Person.__init__(self,name,'mgr',pay)\n",
    "    def giveRaise(self,percent,bonus=.1):\n",
    "        Person.giveRaise(self,percent+bonus)\n",
    " \n",
    "# 委托  \n",
    "class Manager2(Person):\n",
    "    def __init__(self,name,pay):\n",
    "        self.person = Person(name,'mgr',pay)\n",
    "    def giveRaise(self,percent,bonus=.1):\n",
    "        self.person.giveRaise(percent+bonus)\n",
    "    def __getattr__(self, item):\n",
    "        return getattr(self.person,item)\n",
    "    def __str__(self):\n",
    "        return str(self.person)\n",
    "    \n",
    "    \n",
    "if __name__ == '__main__':\n",
    "    bob = Person('Bob Smith')\n",
    "    sue = Person('Sue Jones',job='dev',pay=100000)\n",
    "    print(bob)\n",
    "    print(sue)\n",
    "    print(bob.lastName(),sue.lastName())\n",
    "    sue.giveRaise(.1)\n",
    "    print(sue)\n",
    "    tom = Manager2('Tom Jones',pay=50000)\n",
    "    tom.giveRaise(.2)\n",
    "    print(tom.lastName())\n",
    "    print(tom)\n",
    "    \n",
    "    print(bob.__dict__.keys())\n",
    "    dir(bob)\n",
    "    list(bob    .__dict__.keys())"
   ],
   "metadata": {
    "collapsed": false,
    "pycharm": {
     "name": "#%%\n",
     "is_executing": false
    }
   }
  },
  {
   "cell_type": "code",
   "execution_count": 9,
   "outputs": [
    {
     "data": {
      "text/plain": "5"
     },
     "metadata": {},
     "output_type": "execute_result",
     "execution_count": 9
    }
   ],
   "source": [
    "# 私有成员,公有成员\n",
    "\n",
    "class A:\n",
    "    def __init__(self,value1=0,value2=0):\n",
    "        self._value1= value1\n",
    "        self.__value2 = value2\n",
    "    def setValue(self,value1,value2):\n",
    "        self._value1 = value1\n",
    "        self.__value2 = value2\n",
    "    def show(self):\n",
    "        print(self._value1)\n",
    "        print(self.__value2)\n",
    "\n",
    "a = A()\n",
    "a._value1,a._A__value2\n",
    "\n",
    "class Demo:\n",
    "    def __init__(self,v):\n",
    "        self.____value = v\n",
    "\n",
    "d = Demo(3)\n",
    "d._Demo____value\n",
    "\n",
    "class __:\n",
    "    def __init__(self,v):\n",
    "        self.____value = v\n",
    "dd = __(5)\n",
    "dd.____value"
   ],
   "metadata": {
    "collapsed": false,
    "pycharm": {
     "name": "#%%\n",
     "is_executing": false
    }
   }
  },
  {
   "cell_type": "code",
   "execution_count": 47,
   "outputs": [
    {
     "traceback": [
      "\u001b[1;31m---------------------------------------------------------------------------\u001b[0m",
      "\u001b[1;31mException\u001b[0m                                 Traceback (most recent call last)",
      "\u001b[1;32m<ipython-input-47-1e007112be90>\u001b[0m in \u001b[0;36m<module>\u001b[1;34m\u001b[0m\n\u001b[0;32m     13\u001b[0m \u001b[0mt2\u001b[0m \u001b[1;33m=\u001b[0m \u001b[0mDemo\u001b[0m\u001b[1;33m(\u001b[0m\u001b[1;33m)\u001b[0m\u001b[1;33m\u001b[0m\u001b[1;33m\u001b[0m\u001b[0m\n\u001b[0;32m     14\u001b[0m \u001b[0mt3\u001b[0m \u001b[1;33m=\u001b[0m \u001b[0mDemo\u001b[0m\u001b[1;33m(\u001b[0m\u001b[1;33m)\u001b[0m\u001b[1;33m\u001b[0m\u001b[1;33m\u001b[0m\u001b[0m\n\u001b[1;32m---> 15\u001b[1;33m \u001b[0mt4\u001b[0m \u001b[1;33m=\u001b[0m \u001b[0mDemo\u001b[0m\u001b[1;33m(\u001b[0m\u001b[1;33m)\u001b[0m\u001b[1;33m\u001b[0m\u001b[1;33m\u001b[0m\u001b[0m\n\u001b[0m\u001b[0;32m     16\u001b[0m \u001b[1;33m\u001b[0m\u001b[0m\n",
      "\u001b[1;32m<ipython-input-47-1e007112be90>\u001b[0m in \u001b[0;36m__new__\u001b[1;34m(cls, *args, **kwargs)\u001b[0m\n\u001b[0;32m      4\u001b[0m     \u001b[1;32mdef\u001b[0m \u001b[0m__new__\u001b[0m\u001b[1;33m(\u001b[0m\u001b[0mcls\u001b[0m\u001b[1;33m,\u001b[0m \u001b[1;33m*\u001b[0m\u001b[0margs\u001b[0m\u001b[1;33m,\u001b[0m \u001b[1;33m**\u001b[0m\u001b[0mkwargs\u001b[0m\u001b[1;33m)\u001b[0m\u001b[1;33m:\u001b[0m\u001b[1;33m\u001b[0m\u001b[1;33m\u001b[0m\u001b[0m\n\u001b[0;32m      5\u001b[0m         \u001b[1;32mif\u001b[0m \u001b[0mcls\u001b[0m\u001b[1;33m.\u001b[0m\u001b[0mtotal\u001b[0m \u001b[1;33m>=\u001b[0m\u001b[1;36m3\u001b[0m\u001b[1;33m:\u001b[0m\u001b[1;33m\u001b[0m\u001b[1;33m\u001b[0m\u001b[0m\n\u001b[1;32m----> 6\u001b[1;33m             \u001b[1;32mraise\u001b[0m  \u001b[0mException\u001b[0m\u001b[1;33m(\u001b[0m\u001b[1;34m'最多只能创建3个对象'\u001b[0m\u001b[1;33m)\u001b[0m\u001b[1;33m\u001b[0m\u001b[1;33m\u001b[0m\u001b[0m\n\u001b[0m\u001b[0;32m      7\u001b[0m         \u001b[1;32melse\u001b[0m\u001b[1;33m:\u001b[0m\u001b[1;33m\u001b[0m\u001b[1;33m\u001b[0m\u001b[0m\n\u001b[0;32m      8\u001b[0m             \u001b[1;32mreturn\u001b[0m \u001b[0mobject\u001b[0m\u001b[1;33m.\u001b[0m\u001b[0m__new__\u001b[0m\u001b[1;33m(\u001b[0m\u001b[0mcls\u001b[0m\u001b[1;33m)\u001b[0m\u001b[1;33m\u001b[0m\u001b[1;33m\u001b[0m\u001b[0m\n",
      "\u001b[1;31mException\u001b[0m: 最多只能创建3个对象"
     ],
     "ename": "Exception",
     "evalue": "最多只能创建3个对象",
     "output_type": "error"
    }
   ],
   "source": [
    "# 数据成员,(对象数据成员,类数据成员)\n",
    "class Demo(object):\n",
    "    total = 0\n",
    "    def __new__(cls, *args, **kwargs):\n",
    "        if cls.total >=3:\n",
    "            raise  Exception('最多只能创建3个对象')\n",
    "        else:\n",
    "            return object.__new__(cls)\n",
    "    def __init__(self):\n",
    "        Demo.total  = Demo.total + 1\n",
    "        \n",
    "t1 = Demo()\n",
    "t2 = Demo()\n",
    "t3 = Demo()\n",
    "t4 = Demo()\n"
   ],
   "metadata": {
    "collapsed": false,
    "pycharm": {
     "name": "#%%\n",
     "is_executing": false
    }
   }
  },
  {
   "cell_type": "code",
   "execution_count": 33,
   "outputs": [
    {
     "name": "stdout",
     "text": [
      "3\n5\n"
     ],
     "output_type": "stream"
    },
    {
     "traceback": [
      "\u001b[1;31m---------------------------------------------------------------------------\u001b[0m",
      "\u001b[1;31mAttributeError\u001b[0m                            Traceback (most recent call last)",
      "\u001b[1;32m<ipython-input-33-f770b2bd2fa6>\u001b[0m in \u001b[0;36m<module>\u001b[1;34m\u001b[0m\n\u001b[0;32m     24\u001b[0m \u001b[0mt\u001b[0m\u001b[1;33m.\u001b[0m\u001b[0mvalue\u001b[0m\u001b[1;33m\u001b[0m\u001b[1;33m\u001b[0m\u001b[0m\n\u001b[0;32m     25\u001b[0m \u001b[1;31m# t.value=5\u001b[0m\u001b[1;33m\u001b[0m\u001b[1;33m\u001b[0m\u001b[1;33m\u001b[0m\u001b[0m\n\u001b[1;32m---> 26\u001b[1;33m \u001b[1;32mdel\u001b[0m \u001b[0mt\u001b[0m\u001b[1;33m.\u001b[0m\u001b[0mvalue\u001b[0m\u001b[1;33m\u001b[0m\u001b[1;33m\u001b[0m\u001b[0m\n\u001b[0m\u001b[0;32m     27\u001b[0m \u001b[0mt\u001b[0m\u001b[1;33m.\u001b[0m\u001b[0mvalue\u001b[0m\u001b[1;33m\u001b[0m\u001b[1;33m\u001b[0m\u001b[0m\n\u001b[0;32m     28\u001b[0m \u001b[1;33m\u001b[0m\u001b[0m\n",
      "\u001b[1;31mAttributeError\u001b[0m: can't delete attribute"
     ],
     "ename": "AttributeError",
     "evalue": "can't delete attribute",
     "output_type": "error"
    }
   ],
   "source": [
    "# 属性\n",
    "class Demo:\n",
    "    pass\n",
    "t = Demo\n",
    "def test(self,v):\n",
    "    self.value = v\n",
    "t.test = test\n",
    "t.test(t,3)\n",
    "print(t.value)\n",
    "\n",
    "import types\n",
    "# 动态增加绑定的方法\n",
    "t.test = types.MethodType(test,t)\n",
    "t.test(5)\n",
    "print(t.value)\n",
    "\n",
    "class Test:\n",
    "    def __init__(self,value):\n",
    "        self.__value = value        #私有数据成员\n",
    "    @property               #修饰器,定义属性,提供对私有数据成员的访问\n",
    "    def value(self):        #只读属性,无法修改和删除\n",
    "        return self.__value\n",
    "t = Test(3)\n",
    "t.value\n",
    "# t.value=5\n",
    "del t.value\n",
    "t.value"
   ],
   "metadata": {
    "collapsed": false,
    "pycharm": {
     "name": "#%%\n",
     "is_executing": false
    }
   }
  },
  {
   "cell_type": "code",
   "execution_count": 39,
   "outputs": [
    {
     "name": "stdout",
     "text": [
      "5\n"
     ],
     "output_type": "stream"
    },
    {
     "traceback": [
      "\u001b[1;31m---------------------------------------------------------------------------\u001b[0m",
      "\u001b[1;31mAttributeError\u001b[0m                            Traceback (most recent call last)",
      "\u001b[1;32m<ipython-input-39-e713b8d0c87a>\u001b[0m in \u001b[0;36m<module>\u001b[1;34m\u001b[0m\n\u001b[0;32m     19\u001b[0m \u001b[0mt\u001b[0m\u001b[1;33m.\u001b[0m\u001b[0mshow\u001b[0m\u001b[1;33m(\u001b[0m\u001b[1;33m)\u001b[0m\u001b[1;33m\u001b[0m\u001b[1;33m\u001b[0m\u001b[0m\n\u001b[0;32m     20\u001b[0m \u001b[1;33m\u001b[0m\u001b[0m\n\u001b[1;32m---> 21\u001b[1;33m \u001b[1;32mdel\u001b[0m \u001b[0mt\u001b[0m\u001b[1;33m.\u001b[0m\u001b[0mvalue\u001b[0m\u001b[1;33m\u001b[0m\u001b[1;33m\u001b[0m\u001b[0m\n\u001b[0m\u001b[0;32m     22\u001b[0m \u001b[1;33m\u001b[0m\u001b[0m\n\u001b[0;32m     23\u001b[0m \u001b[1;33m\u001b[0m\u001b[0m\n",
      "\u001b[1;31mAttributeError\u001b[0m: can't delete attribute"
     ],
     "ename": "AttributeError",
     "evalue": "can't delete attribute",
     "output_type": "error"
    }
   ],
   "source": [
    "# 设置为可读,可修改,不可删除\n",
    "class Test2:\n",
    "    def __init__(self,value):\n",
    "        self.__value = value    \n",
    "    def __get(self):\n",
    "        return self.__value\n",
    "    def __set(self,value):\n",
    "        self.__value = value\n",
    "    #可读/写属性,指定相应的读写方法 \n",
    "    value = property(__get,__set)\n",
    "    \n",
    "    def show(self):\n",
    "        print(self.__value)\n",
    "        \n",
    "t = Test2(3)\n",
    "t.value\n",
    "t.value = 5\n",
    "t.value\n",
    "t.show()\n",
    "\n",
    "del t.value"
   ],
   "metadata": {
    "collapsed": false,
    "pycharm": {
     "name": "#%%\n",
     "is_executing": false
    }
   }
  },
  {
   "cell_type": "code",
   "execution_count": 48,
   "outputs": [
    {
     "traceback": [
      "\u001b[1;31m---------------------------------------------------------------------------\u001b[0m",
      "\u001b[1;31mAttributeError\u001b[0m                            Traceback (most recent call last)",
      "\u001b[1;32m<ipython-input-48-f65cf0bab031>\u001b[0m in \u001b[0;36m<module>\u001b[1;34m\u001b[0m\n\u001b[0;32m     18\u001b[0m \u001b[0mt\u001b[0m\u001b[1;33m.\u001b[0m\u001b[0mvalue\u001b[0m\u001b[1;33m\u001b[0m\u001b[1;33m\u001b[0m\u001b[0m\n\u001b[0;32m     19\u001b[0m \u001b[1;32mdel\u001b[0m \u001b[0mt\u001b[0m\u001b[1;33m.\u001b[0m\u001b[0mvalue\u001b[0m\u001b[1;33m\u001b[0m\u001b[1;33m\u001b[0m\u001b[0m\n\u001b[1;32m---> 20\u001b[1;33m \u001b[0mt\u001b[0m\u001b[1;33m.\u001b[0m\u001b[0mvalue\u001b[0m\u001b[1;33m\u001b[0m\u001b[1;33m\u001b[0m\u001b[0m\n\u001b[0m\u001b[0;32m     21\u001b[0m \u001b[0mt\u001b[0m\u001b[1;33m.\u001b[0m\u001b[0mshow\u001b[0m\u001b[1;33m(\u001b[0m\u001b[1;33m)\u001b[0m\u001b[1;33m\u001b[0m\u001b[1;33m\u001b[0m\u001b[0m\n\u001b[0;32m     22\u001b[0m \u001b[0mt\u001b[0m\u001b[1;33m.\u001b[0m\u001b[0mvalue\u001b[0m\u001b[1;33m\u001b[0m\u001b[1;33m\u001b[0m\u001b[0m\n",
      "\u001b[1;32m<ipython-input-48-f65cf0bab031>\u001b[0m in \u001b[0;36m__get\u001b[1;34m(self)\u001b[0m\n\u001b[0;32m      4\u001b[0m         \u001b[0mself\u001b[0m\u001b[1;33m.\u001b[0m\u001b[0m__value\u001b[0m \u001b[1;33m=\u001b[0m \u001b[0mvalue\u001b[0m\u001b[1;33m\u001b[0m\u001b[1;33m\u001b[0m\u001b[0m\n\u001b[0;32m      5\u001b[0m     \u001b[1;32mdef\u001b[0m \u001b[0m__get\u001b[0m\u001b[1;33m(\u001b[0m\u001b[0mself\u001b[0m\u001b[1;33m)\u001b[0m\u001b[1;33m:\u001b[0m\u001b[1;33m\u001b[0m\u001b[1;33m\u001b[0m\u001b[0m\n\u001b[1;32m----> 6\u001b[1;33m         \u001b[1;32mreturn\u001b[0m \u001b[0mself\u001b[0m\u001b[1;33m.\u001b[0m\u001b[0m__value\u001b[0m\u001b[1;33m\u001b[0m\u001b[1;33m\u001b[0m\u001b[0m\n\u001b[0m\u001b[0;32m      7\u001b[0m     \u001b[1;32mdef\u001b[0m \u001b[0m__set\u001b[0m\u001b[1;33m(\u001b[0m\u001b[0mself\u001b[0m\u001b[1;33m,\u001b[0m\u001b[0mv\u001b[0m\u001b[1;33m)\u001b[0m\u001b[1;33m:\u001b[0m\u001b[1;33m\u001b[0m\u001b[1;33m\u001b[0m\u001b[0m\n\u001b[0;32m      8\u001b[0m         \u001b[0mself\u001b[0m\u001b[1;33m.\u001b[0m\u001b[0m__value\u001b[0m \u001b[1;33m=\u001b[0m \u001b[0mv\u001b[0m\u001b[1;33m\u001b[0m\u001b[1;33m\u001b[0m\u001b[0m\n",
      "\u001b[1;31mAttributeError\u001b[0m: 'Test' object has no attribute '_Test__value'"
     ],
     "ename": "AttributeError",
     "evalue": "'Test' object has no attribute '_Test__value'",
     "output_type": "error"
    }
   ],
   "source": [
    "#可读,可修改,可删除\n",
    "class Test:\n",
    "    def __init__(self,value):\n",
    "        self.__value = value\n",
    "    def __get(self):\n",
    "        return self.__value\n",
    "    def __set(self,v):\n",
    "        self.__value = v\n",
    "    def __del(self):\n",
    "        del self.__value\n",
    "    value = property(__get,__set,__del)\n",
    "    def show(self):\n",
    "        print(self.__value)\n",
    "        \n",
    "t = Test(3)\n",
    "t.value\n",
    "t = Test(6)\n",
    "t.value\n",
    "del t.value\n",
    "t.value\n",
    "t.show()\n",
    "t.value"
   ],
   "metadata": {
    "collapsed": false,
    "pycharm": {
     "name": "#%%\n",
     "is_executing": false
    }
   }
  },
  {
   "cell_type": "code",
   "execution_count": 9,
   "outputs": [
    {
     "name": "stdout",
     "text": [
      "1\n1\n2\n2\nself.__value: 3\nRoot.__total: 2\n333333\n"
     ],
     "output_type": "stream"
    },
    {
     "traceback": [
      "\u001b[1;31m---------------------------------------------------------------------------\u001b[0m",
      "\u001b[1;31mTypeError\u001b[0m                                 Traceback (most recent call last)",
      "\u001b[1;32m<ipython-input-9-510173d20c7a>\u001b[0m in \u001b[0;36m<module>\u001b[1;34m\u001b[0m\n\u001b[0;32m     57\u001b[0m \u001b[0mb\u001b[0m \u001b[1;33m=\u001b[0m \u001b[0mBar\u001b[0m\u001b[1;33m(\u001b[0m\u001b[1;33m)\u001b[0m\u001b[1;33m\u001b[0m\u001b[1;33m\u001b[0m\u001b[0m\n\u001b[0;32m     58\u001b[0m \u001b[0mb\u001b[0m\u001b[1;33m.\u001b[0m\u001b[0mf3\u001b[0m\u001b[1;33m(\u001b[0m\u001b[1;33m)\u001b[0m\u001b[1;33m\u001b[0m\u001b[1;33m\u001b[0m\u001b[0m\n\u001b[1;32m---> 59\u001b[1;33m \u001b[0mc\u001b[0m \u001b[1;33m=\u001b[0m\u001b[0mFoo\u001b[0m\u001b[1;33m(\u001b[0m\u001b[1;33m)\u001b[0m\u001b[1;33m\u001b[0m\u001b[1;33m\u001b[0m\u001b[0m\n\u001b[0m\u001b[0;32m     60\u001b[0m \u001b[0mc\u001b[0m\u001b[1;33m.\u001b[0m\u001b[0mf3\u001b[0m\u001b[1;33m(\u001b[0m\u001b[1;33m)\u001b[0m\u001b[1;33m\u001b[0m\u001b[1;33m\u001b[0m\u001b[0m\n",
      "\u001b[1;31mTypeError\u001b[0m: Can't instantiate abstract class Foo with abstract methods f3"
     ],
     "ename": "TypeError",
     "evalue": "Can't instantiate abstract class Foo with abstract methods f3",
     "output_type": "error"
    }
   ],
   "source": [
    "#成员方法,类方法,静态方法,抽象方法\n",
    "class Root:\n",
    "    __total = 0\n",
    "    \n",
    "    #构造方法,特殊方法\n",
    "    def __init__(self,v):\n",
    "        self.__value = v\n",
    "        Root.__total +=1\n",
    "    \n",
    "    #普通实例方法,一般以self作为第一个参数名\n",
    "    def show(self):\n",
    "        print('self.__value:',self.__value)\n",
    "        print('Root.__total:',Root.__total)\n",
    "    \n",
    "    #修饰器,声明类方法\n",
    "    @classmethod    \n",
    "    #类方法,一般以cls作为第一个参数名\n",
    "    def classShowTotal(cls):\n",
    "        print(cls.__total)\n",
    "        \n",
    "    #修饰器,声明静态方法\n",
    "    @staticmethod\n",
    "    #静态方法,可以没有参数\n",
    "    def staticShowTotal():\n",
    "        print(Root.__total)\n",
    "r = Root(3)\n",
    "#通过对象来调用类方法\n",
    "r.classShowTotal()\n",
    "#通过对象来调用静态方法\n",
    "r.staticShowTotal()\n",
    "\n",
    "rr = Root(5)\n",
    "#通过类名调用类方法\n",
    "Root.classShowTotal()\n",
    "#通过类名调用静态方法\n",
    "Root.staticShowTotal()\n",
    "\n",
    "Root.show(r)\n",
    "\n",
    "import abc\n",
    "\n",
    "#抽象类\n",
    "class Foo(metaclass=abc.ABCMeta):\n",
    "    def f1(self):\n",
    "        print(123)\n",
    "    def f2(self):\n",
    "        print(456)\n",
    "    #抽象方法\n",
    "    @abc.abstractmethod\n",
    "    def f3(self):\n",
    "        raise Exception('You must reimplement this method.')\n",
    "\n",
    "class Bar(Foo):\n",
    "    def f3(self):\n",
    "        print(333333)\n",
    "\n",
    "b = Bar()\n",
    "b.f3()\n",
    "c =Foo()\n",
    "c.f3()"
   ],
   "metadata": {
    "collapsed": false,
    "pycharm": {
     "name": "#%%\n",
     "is_executing": false
    }
   }
  },
  {
   "cell_type": "code",
   "execution_count": 1,
   "outputs": [
    {
     "traceback": [
      "\u001b[1;31m---------------------------------------------------------------------------\u001b[0m",
      "\u001b[1;31mTypeError\u001b[0m                                 Traceback (most recent call last)",
      "\u001b[1;32m<ipython-input-1-ddb18e769903>\u001b[0m in \u001b[0;36m<module>\u001b[1;34m\u001b[0m\n\u001b[0;32m     10\u001b[0m         \u001b[1;32mpass\u001b[0m\u001b[1;33m\u001b[0m\u001b[1;33m\u001b[0m\u001b[0m\n\u001b[0;32m     11\u001b[0m \u001b[1;33m\u001b[0m\u001b[0m\n\u001b[1;32m---> 12\u001b[1;33m \u001b[0mx\u001b[0m \u001b[1;33m=\u001b[0m \u001b[0mSuper\u001b[0m\u001b[1;33m(\u001b[0m\u001b[1;33m)\u001b[0m\u001b[1;33m\u001b[0m\u001b[1;33m\u001b[0m\u001b[0m\n\u001b[0m\u001b[0;32m     13\u001b[0m \u001b[0mx\u001b[0m\u001b[1;33m.\u001b[0m\u001b[0mdelegate\u001b[0m\u001b[1;33m(\u001b[0m\u001b[1;33m)\u001b[0m\u001b[1;33m\u001b[0m\u001b[1;33m\u001b[0m\u001b[0m\n\u001b[0;32m     14\u001b[0m \u001b[1;33m\u001b[0m\u001b[0m\n",
      "\u001b[1;31mTypeError\u001b[0m: Can't instantiate abstract class Super with abstract methods action"
     ],
     "ename": "TypeError",
     "evalue": "Can't instantiate abstract class Super with abstract methods action",
     "output_type": "error"
    }
   ],
   "source": [
    "# 抽象类\n",
    "from abc import ABCMeta,abstractmethod\n",
    "class Super(metaclass=ABCMeta):\n",
    "    def delegate(self):\n",
    "        self.action()\n",
    "    @abstractmethod\n",
    "    def action(self):\n",
    "        # assert False ,'action must be defined'\n",
    "        # raise NotImplementedError('action must be deined')\n",
    "        pass\n",
    "    \n",
    "x = Super()\n",
    "x.delegate()\n",
    "\n",
    "class Sub(Super):\n",
    "    def action(self):\n",
    "        print('spam')\n",
    "y = Sub()\n",
    "y.delegate()"
   ],
   "metadata": {
    "collapsed": false,
    "pycharm": {
     "name": "#%%\n",
     "is_executing": false
    }
   }
  },
  {
   "cell_type": "code",
   "execution_count": null,
   "outputs": [],
   "source": [
    "\n"
   ],
   "metadata": {
    "collapsed": false,
    "pycharm": {
     "name": "#%%\n"
    }
   }
  }
 ],
 "metadata": {
  "language_info": {
   "codemirror_mode": {
    "name": "ipython",
    "version": 2
   },
   "file_extension": ".py",
   "mimetype": "text/x-python",
   "name": "python",
   "nbconvert_exporter": "python",
   "pygments_lexer": "ipython2",
   "version": "2.7.6"
  },
  "kernelspec": {
   "name": "python3",
   "language": "python",
   "display_name": "Python 3"
  },
  "pycharm": {
   "stem_cell": {
    "cell_type": "raw",
    "source": [],
    "metadata": {
     "collapsed": false
    }
   }
  }
 },
 "nbformat": 4,
 "nbformat_minor": 0
}