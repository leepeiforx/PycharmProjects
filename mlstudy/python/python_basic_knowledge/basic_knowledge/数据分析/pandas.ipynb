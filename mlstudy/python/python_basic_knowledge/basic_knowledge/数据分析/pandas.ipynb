{
 "cells": [
  {
   "cell_type": "code",
   "execution_count": 67,
   "metadata": {
    "collapsed": true,
    "pycharm": {
     "is_executing": false
    }
   },
   "outputs": [],
   "source": [
    "%matplotlib inline\n",
    "import pandas as pd\n",
    "import numpy as np\n",
    "import matplotlib.pyplot as plt"
   ]
  },
  {
   "cell_type": "code",
   "execution_count": 6,
   "outputs": [
    {
     "name": "stdout",
     "text": [
      "a    10\nb    20\nc    30\ndtype: int64 \n <class 'pandas.core.series.Series'>\n"
     ],
     "output_type": "stream"
    },
    {
     "data": {
      "text/plain": "0    0.567393\n1   -0.977261\n2    0.450823\n3    0.136563\n4    1.234730\ndtype: float64"
     },
     "metadata": {},
     "output_type": "execute_result",
     "execution_count": 6
    }
   ],
   "source": [
    "# Series\n",
    "# Series 是 Pandas 中最基本的一维数组形式。其可以储存整数、浮点数、\n",
    "# 字符串等类型的数据。Series 基本结构如下：\n",
    "# pandas.Series(data=None, index=None)\n",
    "# data 可以是字典，或者NumPy 里的 ndarray 对象等。index 是数据索引，\n",
    "# 索引是 Pandas 数据结构中的一大特性，它主要的功能是帮助我们更快速地定位数据\n",
    "\n",
    "s = pd.Series({'a':10,'b':20,'c':30})\n",
    "print(s,'\\n',type(s))\n",
    "\n",
    "s = pd.Series(np.random.randn(5))\n",
    "s"
   ],
   "metadata": {
    "collapsed": false,
    "pycharm": {
     "name": "#%%\n",
     "is_executing": false
    }
   }
  },
  {
   "cell_type": "code",
   "execution_count": 2,
   "outputs": [
    {
     "data": {
      "text/plain": "   0  1  2  3  4\n0  0  4  3  3  3\n1  2  1  1  3  1\n2  1  2  1  2  0\n3  2  0  4  1  2\n4  0  3  2  4  1",
      "text/html": "<div>\n<style scoped>\n    .dataframe tbody tr th:only-of-type {\n        vertical-align: middle;\n    }\n\n    .dataframe tbody tr th {\n        vertical-align: top;\n    }\n\n    .dataframe thead th {\n        text-align: right;\n    }\n</style>\n<table border=\"1\" class=\"dataframe\">\n  <thead>\n    <tr style=\"text-align: right;\">\n      <th></th>\n      <th>0</th>\n      <th>1</th>\n      <th>2</th>\n      <th>3</th>\n      <th>4</th>\n    </tr>\n  </thead>\n  <tbody>\n    <tr>\n      <th>0</th>\n      <td>0</td>\n      <td>4</td>\n      <td>3</td>\n      <td>3</td>\n      <td>3</td>\n    </tr>\n    <tr>\n      <th>1</th>\n      <td>2</td>\n      <td>1</td>\n      <td>1</td>\n      <td>3</td>\n      <td>1</td>\n    </tr>\n    <tr>\n      <th>2</th>\n      <td>1</td>\n      <td>2</td>\n      <td>1</td>\n      <td>2</td>\n      <td>0</td>\n    </tr>\n    <tr>\n      <th>3</th>\n      <td>2</td>\n      <td>0</td>\n      <td>4</td>\n      <td>1</td>\n      <td>2</td>\n    </tr>\n    <tr>\n      <th>4</th>\n      <td>0</td>\n      <td>3</td>\n      <td>2</td>\n      <td>4</td>\n      <td>1</td>\n    </tr>\n  </tbody>\n</table>\n</div>"
     },
     "metadata": {},
     "output_type": "execute_result",
     "execution_count": 2
    }
   ],
   "source": [
    "# DataFrame\n",
    "# DataFrame 是 Pandas 中最为常见、最重要且使用频率最高的数据结构。\n",
    "# DataFrame 和平常的电子表格或 SQL 表结构相似。\n",
    "# 你可以把 DataFrame 看成是 Series 的扩展类型，\n",
    "# 它仿佛是由多个 Series 拼合而成。\n",
    "# 它和 Series 的直观区别在于，数据不但具有行索引，且具有列索引。\n",
    "\n",
    "# pandas.DataFrame(data=None, index=None, columns=None)\n",
    "# 区别于 Series，其增加了 columns 列索引。DataFrame 可以由以下多个类型的数据构建：\n",
    "# • 一维数组、列表、字典或者 Series 字典。\n",
    "# • 二维或者结构化的 numpy.ndarray。\n",
    "# • 一个 Series 或者另一个 DataFrame。\n",
    "\n",
    "df = pd.DataFrame({'one':pd.Series([1,2,3]),\n",
    "                   'two':pd.Series([4,5,6])})\n",
    "df = pd.DataFrame(np.random.randint(5,size=(5,5)))\n",
    "df"
   ],
   "metadata": {
    "collapsed": false,
    "pycharm": {
     "name": "#%%\n",
     "is_executing": false
    }
   }
  },
  {
   "cell_type": "code",
   "execution_count": 12,
   "outputs": [
    {
     "traceback": [
      "\u001b[1;31m---------------------------------------------------------------------------\u001b[0m",
      "\u001b[1;31mNameError\u001b[0m                                 Traceback (most recent call last)",
      "\u001b[1;32m<ipython-input-12-b0818c6c9799>\u001b[0m in \u001b[0;36m<module>\u001b[1;34m\u001b[0m\n\u001b[0;32m      1\u001b[0m \u001b[1;31m# 数据读取\u001b[0m\u001b[1;33m\u001b[0m\u001b[1;33m\u001b[0m\u001b[1;33m\u001b[0m\u001b[0m\n\u001b[0;32m      2\u001b[0m \u001b[1;31m# pd.read_csv\u001b[0m\u001b[1;33m\u001b[0m\u001b[1;33m\u001b[0m\u001b[1;33m\u001b[0m\u001b[0m\n\u001b[1;32m----> 3\u001b[1;33m \u001b[0m等\u001b[0m\u001b[1;33m\u001b[0m\u001b[1;33m\u001b[0m\u001b[0m\n\u001b[0m",
      "\u001b[1;31mNameError\u001b[0m: name '等' is not defined"
     ],
     "ename": "NameError",
     "evalue": "name '等' is not defined",
     "output_type": "error"
    }
   ],
   "source": [
    "# 数据读取\n",
    "# pd.read_csv等"
   ],
   "metadata": {
    "collapsed": false,
    "pycharm": {
     "name": "#%%\n",
     "is_executing": false
    }
   }
  },
  {
   "cell_type": "code",
   "execution_count": 15,
   "outputs": [
    {
     "data": {
      "text/plain": "   0  1  2  3  4\n2  0  1  2  0  1\n3  3  2  4  4  1\n4  1  3  3  1  2",
      "text/html": "<div>\n<style scoped>\n    .dataframe tbody tr th:only-of-type {\n        vertical-align: middle;\n    }\n\n    .dataframe tbody tr th {\n        vertical-align: top;\n    }\n\n    .dataframe thead th {\n        text-align: right;\n    }\n</style>\n<table border=\"1\" class=\"dataframe\">\n  <thead>\n    <tr style=\"text-align: right;\">\n      <th></th>\n      <th>0</th>\n      <th>1</th>\n      <th>2</th>\n      <th>3</th>\n      <th>4</th>\n    </tr>\n  </thead>\n  <tbody>\n    <tr>\n      <th>2</th>\n      <td>0</td>\n      <td>1</td>\n      <td>2</td>\n      <td>0</td>\n      <td>1</td>\n    </tr>\n    <tr>\n      <th>3</th>\n      <td>3</td>\n      <td>2</td>\n      <td>4</td>\n      <td>4</td>\n      <td>1</td>\n    </tr>\n    <tr>\n      <th>4</th>\n      <td>1</td>\n      <td>3</td>\n      <td>3</td>\n      <td>1</td>\n      <td>2</td>\n    </tr>\n  </tbody>\n</table>\n</div>"
     },
     "metadata": {},
     "output_type": "execute_result",
     "execution_count": 15
    }
   ],
   "source": [
    "# 基本操作\n",
    "# 默认显示前 5 条\n",
    "df.head()\n",
    "# 指定显示后 7 条\n",
    "df.tail(3)\n",
    "# describe() 相当于对数据集进行概览，会输出该数据集每一列数据的计数、最大值、最小值等。\n",
    "df.describe()\n",
    "# Pandas 基于 NumPy 开发，所以任何时候你都可以通过 .values 将 DataFrame 转换为 NumPy 数组。\n",
    "df.values\n",
    "# 查看索引\n",
    "df.index \n",
    "# 查看列名\n",
    "df.columns \n",
    "# 查看形状\n",
    "df.shape "
   ],
   "metadata": {
    "collapsed": false,
    "pycharm": {
     "name": "#%%\n",
     "is_executing": false
    }
   }
  },
  {
   "cell_type": "code",
   "execution_count": 36,
   "outputs": [
    {
     "name": "stdout",
     "text": [
      "   A  B   C   D\n0  0  1   2   3\n1  4  5   6   7\n2  8  9  10  11\n     A    B    C    D\n0  0.0  1.0  2.0  3.0\n1  4.0  5.0  6.0  7.0\n3  NaN  NaN  NaN  NaN\n   A   C\n0  0   2\n1  4   6\n2  8  10\n   A  B   C\n0  0  1   2\n1  4  5   6\n2  8  9  10\n"
     ],
     "output_type": "stream"
    },
    {
     "name": "stderr",
     "text": [
      "C:\\Users\\bolat\\Anaconda3\\lib\\site-packages\\ipykernel_launcher.py:27: FutureWarning: \nPassing list-likes to .loc or [] with any missing label will raise\nKeyError in the future, you can use .reindex() as an alternative.\n\nSee the documentation here:\nhttps://pandas.pydata.org/pandas-docs/stable/user_guide/indexing.html#deprecate-loc-reindex-listlike\n"
     ],
     "output_type": "stream"
    }
   ],
   "source": [
    "# 数据选择\n",
    "# 基于索引数字选择\n",
    "# 我们可以选择前 3 行数据\n",
    "# print(df.iloc[:])\n",
    "# print(df[:3])\n",
    "\n",
    "# 选择特定的一行\n",
    "# 特定行需要使用.iloc,否则输出的为特定列的值\n",
    "# print(df.iloc[4])\n",
    "# print(df[4])\n",
    "\n",
    "# 输出特定多行\n",
    "# print(df.iloc[[1,3,4]])\n",
    "\n",
    "# 输出列\n",
    "# print(df.iloc[:,1:4])\n",
    "\n",
    "# 基于标签名称选择\n",
    "# df.loc[]\n",
    "# 1. 单个标签。例如：2 或 'a'，这里的 2 指的是标签而不是索引位置。\n",
    "# 2. 列表或数组包含的标签。例如：['A', 'B', 'C']。\n",
    "# 3. 切片对象。例如：'A':'E'，注意这里和上面切片的不同支持，首尾都包含在内。\n",
    "# 4. 布尔数组。\n",
    "# 5. 可返回标签的函数或参数。\n",
    "df = pd.DataFrame(np.arange(12).reshape((3,4)),columns=['A','B','C','D'])\n",
    "print(df.loc[0:2])\n",
    "print(df.loc[[0,1,3]])\n",
    "print(df.loc[:,['A','C']])\n",
    "print(df.loc[:,'A':'C'])"
   ],
   "metadata": {
    "collapsed": false,
    "pycharm": {
     "name": "#%%\n",
     "is_executing": false
    }
   }
  },
  {
   "cell_type": "code",
   "execution_count": 48,
   "outputs": [
    {
     "data": {
      "text/plain": "   A  B   C   D\n0  0  1   2   3\n1  4  5   6   7\n2  8  9  10  11",
      "text/html": "<div>\n<style scoped>\n    .dataframe tbody tr th:only-of-type {\n        vertical-align: middle;\n    }\n\n    .dataframe tbody tr th {\n        vertical-align: top;\n    }\n\n    .dataframe thead th {\n        text-align: right;\n    }\n</style>\n<table border=\"1\" class=\"dataframe\">\n  <thead>\n    <tr style=\"text-align: right;\">\n      <th></th>\n      <th>A</th>\n      <th>B</th>\n      <th>C</th>\n      <th>D</th>\n    </tr>\n  </thead>\n  <tbody>\n    <tr>\n      <th>0</th>\n      <td>0</td>\n      <td>1</td>\n      <td>2</td>\n      <td>3</td>\n    </tr>\n    <tr>\n      <th>1</th>\n      <td>4</td>\n      <td>5</td>\n      <td>6</td>\n      <td>7</td>\n    </tr>\n    <tr>\n      <th>2</th>\n      <td>8</td>\n      <td>9</td>\n      <td>10</td>\n      <td>11</td>\n    </tr>\n  </tbody>\n</table>\n</div>"
     },
     "metadata": {},
     "output_type": "execute_result",
     "execution_count": 48
    }
   ],
   "source": [
    "# 数据删减\n",
    "# DataFrame.drop\n",
    "# df.drop(labels=['A','C'],axis=1)\n",
    "# df.drop(columns=['A','D'])\n",
    "# df.drop(index=[0,1])\n",
    "\n",
    "# 去重\n",
    "# df.drop_duplicates()\n",
    "\n",
    "# 删除缺省值\n",
    "df.dropna()"
   ],
   "metadata": {
    "collapsed": false,
    "pycharm": {
     "name": "#%%\n",
     "is_executing": false
    }
   }
  },
  {
   "cell_type": "code",
   "execution_count": 72,
   "outputs": [
    {
     "data": {
      "text/plain": "<matplotlib.axes._subplots.AxesSubplot at 0x21c23166e48>"
     },
     "metadata": {},
     "output_type": "execute_result",
     "execution_count": 72
    },
    {
     "data": {
      "text/plain": "<Figure size 432x288 with 1 Axes>",
      "image/png": "[encoded data removed]"
     },
     "metadata": {
      "needs_background": "light"
     },
     "output_type": "display_data"
    }
   ],
   "source": [
    "# 数据填充\n",
    "# 检测缺失值\n",
    "# DataFlame.isna()\n",
    "# DataFlame.notna()\n",
    "df = pd.DataFrame(np.random.rand(9, 5), columns=list('ABCDE'))\n",
    "df.insert(value=pd.Timestamp('2019/8/28'),loc=0,column='Time')\n",
    "df.iloc[[1,3,5,7],[0,2,4]] = np.nan\n",
    "df.iloc[[2,4,6,8],[1,3,5]] = np.nan\n",
    "df\n",
    "# df.isna()\n",
    "# df.notna()\n",
    "\n",
    "# 填充缺失值\n",
    "# df.fillna(0)\n",
    "# 使用缺失值前面的值进行填充\n",
    "# df.fillna(method='pad')\n",
    "# 使用缺失值后面的值进行填充\n",
    "# df.fillna(method='bfill')\n",
    "\n",
    "# 可以看到，连续缺失值也是按照前序数值进行填充的，\n",
    "# 并且完全填充。这里，我们可以通过 limit= \\\n",
    "# 参数设置连续填充的限制数\n",
    "# 最多填充一项\n",
    "# df.fillna(method='pad', limit=1)\n",
    "\n",
    "# 对 C 列和 E 列用平均值填充\n",
    "df.fillna(df.mean()['C':'E'])\n",
    "\n",
    "# 插值填充\n",
    "# 插值是数值分析中一种方法。简而言之，\n",
    "# 就是借助于一个函数（线性或非线性），\n",
    "# 再根据已知数据去求解未知数据的值。\n",
    "# 插值在数据领域非常常见，它的好处在于，\n",
    "# 可以尽量去还原数据本身的样子。\n",
    "\n",
    "# 对于 interpolate() 支持的插值算法，也就是 method=。下面给出几条选择的建议：\n",
    "# 1. 如果你的数据增长速率越来越快，可以选择 method='quadratic'二次插值。\n",
    "# 2. 如果数据集呈现出累计分布的样子，推荐选择 method='pchip'。\n",
    "# 3. 如果需要填补缺省值，以平滑绘图为目标，推荐选择 method='akima'。\n",
    "# 当然，最后提到的 method='akima'，需要你的环境中安装了 Scipy 库。\n",
    "# 除此之外，method='barycentric' 和 method='pchip' \n",
    "# 同样也需要 Scipy 才能使用。\n",
    "df = pd.DataFrame({'A':[1.1,2.2,np.nan,4.5,5.7,6.9],\n",
    "                   'B':[.21,np.nan,np.nan,3.1,11.7,13.2]})\n",
    "df_interpolated = df.interpolate()\n",
    "df_interpolated.plot(kind='bar')"
   ],
   "metadata": {
    "collapsed": false,
    "pycharm": {
     "name": "#%%\n",
     "is_executing": false
    }
   }
  },
  {
   "cell_type": "code",
   "execution_count": 73,
   "outputs": [],
   "source": [
    "# 数据可视化"
   ],
   "metadata": {
    "collapsed": false,
    "pycharm": {
     "name": "#%%\n",
     "is_executing": false
    }
   }
  },
  {
   "cell_type": "code",
   "execution_count": 74,
   "outputs": [],
   "source": [
    "# 数据计算\n"
   ],
   "metadata": {
    "collapsed": false,
    "pycharm": {
     "name": "#%%\n",
     "is_executing": false
    }
   }
  },
  {
   "cell_type": "code",
   "execution_count": 76,
   "outputs": [],
   "source": [
    "# 统计分析\n"
   ],
   "metadata": {
    "collapsed": false,
    "pycharm": {
     "name": "#%%\n",
     "is_executing": false
    }
   }
  },
  {
   "cell_type": "code",
   "execution_count": 77,
   "outputs": [
    {
     "traceback": [
      "\u001b[1;31m---------------------------------------------------------------------------\u001b[0m",
      "\u001b[1;31mNameError\u001b[0m                                 Traceback (most recent call last)",
      "\u001b[1;32m<ipython-input-77-f895fa37323f>\u001b[0m in \u001b[0;36m<module>\u001b[1;34m\u001b[0m\n\u001b[1;32m----> 1\u001b[1;33m \u001b[0m时间序列\u001b[0m\u001b[1;33m\u001b[0m\u001b[1;33m\u001b[0m\u001b[0m\n\u001b[0m\u001b[0;32m      2\u001b[0m \u001b[1;33m\u001b[0m\u001b[0m\n",
      "\u001b[1;31mNameError\u001b[0m: name '时间序列' is not defined"
     ],
     "ename": "NameError",
     "evalue": "name '时间序列' is not defined",
     "output_type": "error"
    }
   ],
   "source": [
    "# 时间序列\n"
   ],
   "metadata": {
    "collapsed": false,
    "pycharm": {
     "name": "#%%\n",
     "is_executing": false
    }
   }
  }
 ],
 "metadata": {
  "language_info": {
   "codemirror_mode": {
    "name": "ipython",
    "version": 2
   },
   "file_extension": ".py",
   "mimetype": "text/x-python",
   "name": "python",
   "nbconvert_exporter": "python",
   "pygments_lexer": "ipython2",
   "version": "2.7.6"
  },
  "kernelspec": {
   "name": "python3",
   "language": "python",
   "display_name": "Python 3"
  },
  "pycharm": {
   "stem_cell": {
    "cell_type": "raw",
    "source": [],
    "metadata": {
     "collapsed": false
    }
   }
  }
 },
 "nbformat": 4,
 "nbformat_minor": 0
}