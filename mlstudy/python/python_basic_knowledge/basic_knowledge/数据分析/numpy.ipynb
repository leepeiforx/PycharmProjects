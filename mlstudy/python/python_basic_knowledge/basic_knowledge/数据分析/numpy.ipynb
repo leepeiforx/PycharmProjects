{
 "cells": [
  {
   "cell_type": "code",
   "execution_count": 1,
   "metadata": {
    "collapsed": true,
    "pycharm": {
     "is_executing": false
    }
   },
   "outputs": [],
   "source": [
    "import numpy as np"
   ]
  },
  {
   "cell_type": "code",
   "execution_count": 2,
   "outputs": [
    {
     "data": {
      "text/plain": "dtype('float64')"
     },
     "metadata": {},
     "output_type": "execute_result",
     "execution_count": 2
    }
   ],
   "source": [
    "a = np.array([1.1,2.2,3.3,3.3])\n",
    "a.dtype"
   ],
   "metadata": {
    "collapsed": false,
    "pycharm": {
     "name": "#%%\n",
     "is_executing": false
    }
   }
  },
  {
   "cell_type": "code",
   "execution_count": 9,
   "outputs": [
    {
     "data": {
      "text/plain": "dtype('int32')"
     },
     "metadata": {},
     "output_type": "execute_result",
     "execution_count": 9
    }
   ],
   "source": [
    "a.astype(int).dtype"
   ],
   "metadata": {
    "collapsed": false,
    "pycharm": {
     "name": "#%%\n",
     "is_executing": false
    }
   }
  },
  {
   "cell_type": "code",
   "execution_count": 19,
   "outputs": [
    {
     "name": "stdout",
     "text": [
      "[ 0.          1.11111111  2.22222222  3.33333333  4.44444444  5.55555556\n  6.66666667  7.77777778  8.88888889 10.        ] \n [0. 1. 2. 3. 4. 5. 6. 7. 8. 9.]\n[[0. 1. 2. 3.]\n [1. 2. 3. 4.]\n [2. 3. 4. 5.]\n [3. 4. 5. 6.]\n [4. 5. 6. 7.]]\n3\nint32\n[[1 4 7]\n [2 5 8]\n [3 6 9]]\n[[1 4 7]\n [2 5 8]\n [3 6 9]]\n[[0 0 0]\n [0 0 0]\n [0 0 0]]\n[[1 2 3]\n [4 5 6]\n [7 8 9]]\n9\n4\n36\n2\n(3, 3)\n(12, 4)\n"
     ],
     "output_type": "stream"
    }
   ],
   "source": [
    "# NumPy 数组生成\n",
    "# np.ndarray(shape, dtype=None, buffer=None, offset=0, strides=None, order=None)\n",
    "    #ndarray通用的同构数据多维容器,其所有的元素必须是相同类型的\n",
    "    # shape：数组的形状。\n",
    "    # dtype：数据类型。\n",
    "    # buffer：对象暴露缓冲区接口。\n",
    "    # offset：数组数据的偏移量。\n",
    "    # strides：数据步长。\n",
    "    # order：{'C'，'F'}，以行或列为主排列顺序。\n",
    "\n",
    "# numpy.array(object, dtype=None, copy=True, order=None, subok=False, ndmin=0)\n",
    "    # object：列表、元组等。\n",
    "    # dtype：数据类型。如果未给出，则类型为被保存对象所需的最小类型。\n",
    "    # copy：布尔类型，默认 True，表示复制对象。\n",
    "    # order：顺序。\n",
    "    # subok：布尔类型，表示子类是否被传递。\n",
    "    # ndmin：生成的数组应具有的最小维数。\n",
    "\n",
    "arr = np.array([[1,2,3],[4,5,6]],dtype=int)\n",
    "arr2 = np.array([(1,2),(3,4),(5,6)])\n",
    "\n",
    "# numpy.arange(start, stop, step, dtype=None)\n",
    "# python内置函数range的数组版\n",
    "arr_arange = np.arange(0,10,10,dtype=float)\n",
    "\n",
    "# numpy.linspace(start, stop, num=50, endpoint=True, retstep=False, dtype=None)\n",
    "    # start：序列的起始值。\n",
    "    # stop：序列的结束值。\n",
    "    # num：生成的样本数。默认值为50。\n",
    "    # endpoint：布尔值，如果为真，则最后一个样本包含在序列内。\n",
    "    # retstep：布尔值，如果为真，返回间距。\n",
    "    # dtype：数组的类型。\n",
    "arr_line1 = np.linspace(0,10,10,endpoint=True)\n",
    "arr_line2 = np.linspace(0,10,10,endpoint=False)\n",
    "print(arr_line1,'\\n',arr_line2)\n",
    "\n",
    "# numpy.ones(shape, dtype=None, order='C')\n",
    "\n",
    "    # shape：用于指定数组形状，例如（1， 2）或 3。\n",
    "    # dtype：数据类型。\n",
    "    # order：{'C'，'F'}，按行或列方式储存数组。\n",
    "\n",
    "# numpy.zeros(shape, dtype=None, order='C')\n",
    "# \n",
    "#     shape：用于指定数组形状，例如（1， 2）或3。\n",
    "#     dtype：数据类型。\n",
    "#     order：{'C'，'F'}，按行或列方式储存数组。\n",
    "\n",
    "# numpy.eye(N, M=None, k=0, dtype=<type 'float'>)\n",
    "\n",
    "    # N：输出数组的行数。\n",
    "    # M：输出数组的列数。\n",
    "    # k：对角线索引：0（默认）是指主对角线，正值是指上对角线，\n",
    "# 负值是指下对角线。\n",
    "\n",
    "# 从已知数据创建\n",
    "# \n",
    "# 我们还可以从已知数据文件、函数中创建 ndarray。NumPy 提供了下面 5 个方法：\n",
    "# \n",
    "#     frombuffer（buffer）：将缓冲区转换为 1 维数组。\n",
    "#     fromfile（file，dtype，count，sep）：从文本或二进制文件中构建多维数组。\n",
    "#     fromfunction（function，shape）：通过函数返回值来创建多维数组。\n",
    "#     fromiter（iterable，dtype，count）：从可迭代对象创建 1 维数组。\n",
    "#     fromstring（string，dtype，count，sep）：从字符串中创建 1 维数组。\n",
    "\n",
    "arr_ff = np.fromfunction(lambda a,b: a+b,(5,4))\n",
    "print(arr_ff)\n",
    "\n",
    "func = lambda a,b:a+b\n",
    "print(func(1,2))\n",
    "\n",
    "# ndarray 数组属性\n",
    "array = np.array([[1,2,3],[4,5,6],[7,8,9]])\n",
    "\n",
    "# ndarray.dtype 用来输出数组包含元素的数据类型。\n",
    "print(array.dtype)\n",
    "\n",
    "# ndarray.T 用于数组的转置，与 .transpose() 相同。\n",
    "print(array.T)\n",
    "print(array.transpose())\n",
    "\n",
    "# ndarray.imag 用来输出数组包含元素的虚部。\n",
    "print(array.imag)\n",
    "\n",
    "# ndarray.real用来输出数组包含元素的实部。\n",
    "print(array.real)\n",
    "\n",
    "# ndarray.size用来输出数组中的总包含元素数。\n",
    "print(array.size)\n",
    "\n",
    "# ndarray.itemsize输出一个数组元素的字节数。\n",
    "print(array.itemsize)\n",
    "\n",
    "# ndarray.nbytes用来输出数组的元素总字节数。\n",
    "print(array.nbytes)\n",
    "\n",
    "# ndarray.ndim用来输出数组尺寸。\n",
    "print(array.ndim)\n",
    "\n",
    "# ndarray.shape用来输出数组维数组。\n",
    "print(array.shape)\n",
    "\n",
    "# ndarray.strides用来遍历数组时，输出每个维度中步进的字节数组。\n",
    "print(array.strides)"
   ],
   "metadata": {
    "collapsed": false,
    "pycharm": {
     "name": "#%%\n",
     "is_executing": false
    }
   }
  },
  {
   "cell_type": "code",
   "execution_count": 28,
   "outputs": [
    {
     "name": "stdout",
     "text": [
      "(5,) (2, 5) (2, 2, 5)\n1 2 3\n"
     ],
     "output_type": "stream"
    }
   ],
   "source": [
    "# 数组维度和形状\n",
    "# \n",
    "# 前面，我们已经对 NumPy 数组的类型和常用的生成方法进行了介绍。\n",
    "# \n",
    "# 再继续了解更多内容前，必须先搞清楚一个重要的问题，\n",
    "# 那就是 NumPy 数组的维度和形状。\n",
    "# \n",
    "# NumPy 数组又被称之为 ndarray 多维数组，那么 n 就可以从 1 维依次递增。\n",
    "\n",
    "one = np.array([i for i in range(5)])\n",
    "two = np.array([[i for i in range(5)],[p for p in range(5,10)]])\n",
    "three = np.array([[[i for i in range(5)],[p for p in range(5)]],\n",
    "                  [[i for i in range(5)],[p for p in range(5)]]])\n",
    "print(one.shape,two.shape,three.shape)\n",
    "print(one.ndim,two.ndim,three.ndim)"
   ],
   "metadata": {
    "collapsed": false,
    "pycharm": {
     "name": "#%%\n",
     "is_executing": false
    }
   }
  },
  {
   "cell_type": "code",
   "execution_count": 5,
   "outputs": [
    {
     "name": "stdout",
     "text": [
      "[[0 3 6]\n [1 4 7]\n [2 5 8]]\n[0 3 6 1 4 7 2 5 8]\n(1, 2, 3) (2, 3, 1)\n(1, 4, 3) (3, 4, 1)\n[1 2 3] \n [[4 5 6]] \n [[[7]\n  [8]\n  [9]]]\n(3,) (1, 3) (1, 3, 1)\n"
     ],
     "output_type": "stream"
    }
   ],
   "source": [
    "# 数组基本操作\n",
    "# \n",
    "# 至此，我们了解了如何利用 NumPy 创建各式各样的 ndarray，以及数组形状和维度的概念。\n",
    "# 接下来，我们将利用学会针对 ndarray 的各种花式操作技巧。\n",
    "\n",
    "# 重设形状\n",
    "# reshape 可以在不改变数组数据的同时，\n",
    "# 改变数组的形状。其中，numpy.reshape() \n",
    "# 等效于 ndarray.reshape()。reshape 方法非常简单：\n",
    "# numpy.reshape(a, newshape)\n",
    "# 其中，a 表示原数组，newshape 用于指定新的形状(整数或者元组)\n",
    "# order 表示变换时的读取顺序，默认是按照行依次读取，\n",
    "# 当 order='F' 时，可以按列依次读取排序。\n",
    "arr_reshape = np.arange(9).reshape((3,3),order='F')\n",
    "print(arr_reshape)\n",
    "\n",
    "# 数组展开\n",
    "# ravel 的目的是将任意形状的数组扁平化，变为 1 维数组\n",
    "# 其中，a 表示需要处理的数组。order 表示变换时的读取顺序，\n",
    "# 默认是按照行依次读取，当 order='F' 时，可以按列依次读取排序。：\n",
    "arr_r = np.ravel(arr_reshape,order='C')\n",
    "print(arr_r)\n",
    "\n",
    "# 轴移动\n",
    "# numpy.moveaxis(a, source, destination)\n",
    "\n",
    "    # a：数组。\n",
    "    # source：要移动的轴的原始位置。\n",
    "    # destination：要移动的轴的目标位置。\n",
    "\n",
    "a = np.ones((1,2,3))\n",
    "a_new = np.moveaxis(a,0,2)\n",
    "print(a.shape,a_new.shape)\n",
    "\n",
    "# 轴交换\n",
    "# 和 moveaxis 不同的是，\n",
    "# swapaxes 可以用来交换数组的轴。其方法如下：\n",
    "# numpy.swapaxes(a, axis1, axis2)\n",
    "\n",
    "    # a：数组。\n",
    "    # axis1：需要交换的轴 1 位置。\n",
    "    # axis2：需要与轴 1 交换位置的轴 1 位置。\n",
    "a2 = np.ones((1,4,3))\n",
    "a_new2 = np.swapaxes(a2,0,2)\n",
    "print(a2.shape,a_new2.shape)\n",
    "\n",
    "# 数组转置\n",
    "\n",
    "# transpose 类似于矩阵的转置，\n",
    "# 它可以将 2 维数组的横轴和纵轴交换。其方法如下：\n",
    "# numpy.transpose(a, axes=None)\n",
    "a3 = np.arange(4).reshape((2,2))\n",
    "a3_T = np.transpose(a3)\n",
    "\n",
    "# 维度改变\n",
    "# atleast_xd 支持将输入数据直接视为 x维。\n",
    "# 这里的 x 可以表示：1，2，3\n",
    "arr_1d = np.atleast_1d([1,2,3])\n",
    "arr_2d = np.atleast_2d([4,5,6])\n",
    "arr_3d = np.atleast_3d([7,8,9])\n",
    "print(arr_1d,'\\n',arr_2d,'\\n',arr_3d)\n",
    "print(arr_1d.shape,arr_2d.shape,arr_3d.shape)"
   ],
   "metadata": {
    "collapsed": false,
    "pycharm": {
     "name": "#%%\n",
     "is_executing": false
    }
   }
  },
  {
   "cell_type": "code",
   "execution_count": 7,
   "outputs": [
    {
     "name": "stdout",
     "text": [
      "[[0 1]\n [2 3]]\n"
     ],
     "output_type": "stream"
    }
   ],
   "source": [
    "# 类型转换\n",
    "# 在 NumPy 中，还有一系列以 as 开头的方法，\n",
    "# 它们可以将特定输入转换为数组，亦可将数组转换为矩阵、\n",
    "# 标量，ndarray 等。\n",
    "#   asarray(a，dtype，order)：将特定输入转换为数组。\n",
    "#   asanyarray(a，dtype，order)：将特定输入转换为 ndarray。\n",
    "#   asmatrix(data，dtype)：将特定输入转换为矩阵。\n",
    "#   asfarray(a，dtype)：将特定输入转换为 float 类型的数组。\n",
    "#   asarray_chkfinite(a，dtype，order)：将特定输入转换为数组，\n",
    "#   检查 NaN 或 infs。\n",
    "#   asscalar(a)：将大小为 1 的数组转换为标量。\n",
    "a = np.arange(4).reshape((2,2))\n",
    "arr_matrix = np.asmatrix(a)\n",
    "print(arr_matrix)\n"
   ],
   "metadata": {
    "collapsed": false,
    "pycharm": {
     "name": "#%%\n",
     "is_executing": false
    }
   }
  },
  {
   "cell_type": "code",
   "execution_count": 14,
   "outputs": [
    {
     "name": "stdout",
     "text": [
      "[[ 1  3  5  7  8]\n [ 2  4  6  9 10]]\n"
     ],
     "output_type": "stream"
    }
   ],
   "source": [
    "# 数组连接\n",
    "# numpy.concatenate((a1, a2, ...), axis=0)\n",
    "#   (a1, a2, ...)：需要连接的数组。\n",
    "#   axis：指定连接轴。0 :纵向\n",
    "a = np.array([[1,2],[3,4],[5,6]])\n",
    "b = np.array([[7,8],[9,10]])\n",
    "c = np.array([[11,12]])\n",
    "\n",
    "d = np.concatenate((a,b,c),axis=0)\n",
    "e = np.concatenate((a.T,b),axis=1)\n",
    "print(e)\n"
   ],
   "metadata": {
    "collapsed": false,
    "pycharm": {
     "name": "#%%\n",
     "is_executing": false
    }
   }
  },
  {
   "cell_type": "code",
   "execution_count": 23,
   "outputs": [
    {
     "name": "stdout",
     "text": [
      "[[[ 1  2  3]\n  [ 4  5  6]]\n\n [[ 7  8  9]\n  [10 11 12]]] \n [[[ 1  2  3]\n  [ 7  8  9]]\n\n [[ 4  5  6]\n  [10 11 12]]]\n[[ 1  2  3  7  8  9]\n [ 4  5  6 10 11 12]]\n[[ 1  2  3]\n [ 4  5  6]\n [ 7  8  9]\n [10 11 12]]\n"
     ],
     "output_type": "stream"
    }
   ],
   "source": [
    "# 数组堆叠\n",
    "# • stack(arrays，axis)：沿着新轴连接数组的序列。\n",
    "# • column_stack()：将 1 维数组作为列堆叠到 2 维数组中。\n",
    "# • hstack()：按水平方向堆叠数组。\n",
    "# • vstack()：按垂直方向堆叠数组。\n",
    "# • dstack()：按深度方向堆叠数组。\n",
    "a = np.array([[1,2,3],[4,5,6]])\n",
    "b = np.array([[7,8,9],[10,11,12]])\n",
    "c = np.stack((a,b),axis=0)\n",
    "d = np.stack((a,b),axis=1)\n",
    "print(c,'\\n',d)\n",
    "print(np.hstack((a,b)))\n",
    "print(np.vstack((a,b)))"
   ],
   "metadata": {
    "collapsed": false,
    "pycharm": {
     "name": "#%%\n",
     "is_executing": false
    }
   }
  },
  {
   "cell_type": "code",
   "execution_count": 33,
   "outputs": [
    {
     "name": "stdout",
     "text": [
      "[[0 1 2 3 4]\n [5 6 7 8 9]] \n [array([[0, 1, 2, 3, 4]]), array([[5, 6, 7, 8, 9]])]\n"
     ],
     "output_type": "stream"
    }
   ],
   "source": [
    "# 拆分\n",
    "# • split(ary，indices_or_sections，axis)：\n",
    "# 将数组拆分为多个子数组。\n",
    "# • dsplit(ary，indices_or_sections)：\n",
    "# 按深度方向将数组拆分成多个子数组。\n",
    "# • hsplit(ary，indices_or_sections)：\n",
    "# 按水平方向将数组拆分成多个子数组。\n",
    "# • vsplit(ary，indices_or_sections)：\n",
    "# 按垂直方向将数组拆分成多个子数组\n",
    "a = np.arange(10)\n",
    "b = np.arange(10).reshape(2,5)\n",
    "c = np.split(a,5)\n",
    "d = np.split(b,2)\n",
    "print(b,'\\n',d)"
   ],
   "metadata": {
    "collapsed": false,
    "pycharm": {
     "name": "#%%\n",
     "is_executing": false
    }
   }
  },
  {
   "cell_type": "code",
   "execution_count": 41,
   "outputs": [
    {
     "name": "stdout",
     "text": [
      "[[ 0  1  2  3]\n [ 4  5  6  7]\n [ 8  9 10 11]] \n [[0 1 2 3]\n [4 5 6 7]] \n [[ 0  1  3]\n [ 4  5  7]\n [ 8  9 11]]\n"
     ],
     "output_type": "stream"
    }
   ],
   "source": [
    "# 删除\n",
    "# delete(arr，obj，axis)：沿特定轴删除数组中的子数组\n",
    "a = np.arange(12).reshape((3,4))\n",
    "b = np.delete(a,2,axis=0)\n",
    "c = np.delete(a,2,axis=1)\n",
    "print(a,'\\n',b,'\\n',c)"
   ],
   "metadata": {
    "collapsed": false,
    "pycharm": {
     "name": "#%%\n",
     "is_executing": false
    }
   }
  },
  {
   "cell_type": "code",
   "execution_count": 49,
   "outputs": [
    {
     "name": "stdout",
     "text": [
      "[[ 0  1  2  3]\n [ 4  5  6  7]\n [ 0  1  2  3]\n [ 8  9 10 11]]\n[0 1 2 3 4 5 0 1 2]\n[[0 1 2]\n [3 4 5]\n [0 1 2]]\n"
     ],
     "output_type": "stream"
    }
   ],
   "source": [
    "# 数组插入\n",
    "# insert(arr，obj，values，axis)：依据索引在特定轴之前插入值。\n",
    "a = np.arange(12).reshape((3,4))\n",
    "b = np.arange(4)\n",
    "c = np.insert(a,2,b,axis=0)\n",
    "print(c)\n",
    "# 附加\n",
    "# append(arr，values，axis)：将值附加到数组的末尾，并返回 1 维数组。\n",
    "e = np.arange(6).reshape((2,3))\n",
    "f = np.arange(3)\n",
    "g = np.append(e,f)\n",
    "print(g)\n",
    "# 注意 append方法返回值，默认是展平状态下的 1 维数组。\n",
    "# 重设尺寸\n",
    "# resize(a，new_shape)：对数组尺寸进行重新设定。\n",
    "# reshape 在改变形状时，不会影响原数组，\n",
    "# 相当于对原数组做了一份拷贝。\n",
    "# 而 resize 则是对原数组执行操作。\n",
    "g.resize((3,3))\n",
    "print(g)"
   ],
   "metadata": {
    "collapsed": false,
    "pycharm": {
     "name": "#%%\n",
     "is_executing": false
    }
   }
  },
  {
   "cell_type": "code",
   "execution_count": 51,
   "outputs": [
    {
     "name": "stdout",
     "text": [
      "[[ 0  1  2  3]\n [ 4  5  6  7]\n [ 8  9 10 11]\n [12 13 14 15]]\n[[ 3  2  1  0]\n [ 7  6  5  4]\n [11 10  9  8]\n [15 14 13 12]]\n[[12 13 14 15]\n [ 8  9 10 11]\n [ 4  5  6  7]\n [ 0  1  2  3]]\n"
     ],
     "output_type": "stream"
    }
   ],
   "source": [
    "# 翻转数组\n",
    "# fliplr(m)：左右翻转数组。\n",
    "# flipud(m)：上下翻转数组。\n",
    "a = np.arange(16).reshape((4,4))\n",
    "print(a)\n",
    "print(np.fliplr(a))\n",
    "print(np.flipud(a))"
   ],
   "metadata": {
    "collapsed": false,
    "pycharm": {
     "name": "#%%\n",
     "is_executing": false
    }
   }
  },
  {
   "cell_type": "code",
   "execution_count": 62,
   "outputs": [
    {
     "name": "stdout",
     "text": [
      "[[0.76296864 0.39229161 0.87553858 0.2714912  0.34641361]\n [0.52619478 0.65873151 0.65001914 0.45688572 0.3129794 ]]\n[[-0.29731453 -0.64527255  2.61917701 -0.11775486  0.498504  ]\n [-0.16275684  0.7738028  -2.04519289  0.7609462   0.51114921]]\n[[1 9 2]\n [4 7 1]\n [6 9 5]]\n[[0.00679503 0.16993901 0.99073762 0.90512952 0.78091239]\n [0.76510004 0.24551232 0.37854137 0.52878842 0.44534189]]\n[8 6 9 0 5]\n"
     ],
     "output_type": "stream"
    }
   ],
   "source": [
    "# 随机数\n",
    "# numpy.random.rand(d0, d1, ..., dn) \n",
    "# 方法的作用为：指定一个数组，并使用 [0, 1) \n",
    "# 区间随机数据填充，这些数据均匀分布。\n",
    "array_rand = np.random.rand(2,5)\n",
    "print(array_rand)\n",
    "\n",
    "# numpy.random.randn(d0, d1, ..., dn)\n",
    "# 从标准正态分布中返回一个或多个样本值\n",
    "array_randn = np.random.randn(2,5)\n",
    "print(array_randn)\n",
    "\n",
    "# randint(low, high, size, dtype) \n",
    "# 生成 [low, high) 的随机整数。注意这是一个半开半闭区间。\n",
    "arr_randi = np.random.randint(1,10,9)\n",
    "print(arr_randi.reshape((3,3)))\n",
    "\n",
    "# random_sample(size)\n",
    "# 在 [0, 1) 区间内生成指定 size 的随机浮点数。\n",
    "arr_rs = np.random.random_sample([10])\n",
    "print(arr_rs.reshape((2,5)))\n",
    "# numpy.random.random([size])\n",
    "# numpy.random.ranf([size])\n",
    "# numpy.random.sample([size])\n",
    "\n",
    "# choice(a, size, replace, p)\n",
    "# 给定的数组里随机抽取几个值，该方法类似于随机抽样。\n",
    "arr_choice = np.random.choice(10,5)\n",
    "print(arr_choice)"
   ],
   "metadata": {
    "collapsed": false,
    "pycharm": {
     "name": "#%%\n",
     "is_executing": false
    }
   }
  },
  {
   "cell_type": "code",
   "execution_count": 63,
   "outputs": [],
   "source": [
    "# 概率密度分布\n",
    "# numpy.random.beta(a，b，size)：\n",
    "# 从 Beta 分布中生成随机数。\n",
    "\n",
    "# • numpy.random.binomial(n, p, size)：\n",
    "# 从二项分布中生成随机数。\n",
    "\n",
    "# • numpy.random.chisquare(df，size)：\n",
    "# 从卡方分布中生成随机数。\n",
    "\n",
    "# • numpy.random.dirichlet(alpha，size)：\n",
    "# 从 Dirichlet 分布中生成随机数。\n",
    "\n",
    "# • numpy.random.exponential(scale，size)：\n",
    "# 从指数分布中生成随机数。\n",
    "\n",
    "# • numpy.random.f(dfnum，dfden，size)：\n",
    "# 从 F 分布中生成随机数。\n",
    "\n",
    "# • numpy.random.gamma(shape，scale，size)：\n",
    "# 从 Gamma 分布中生成随机数。\n",
    "\n",
    "# • numpy.random.geometric(p，size)：\n",
    "# 从几何分布中生成随机数。\n",
    "\n",
    "# • numpy.random.gumbel(loc，scale，size)：\n",
    "# 从 Gumbel 分布中生成随机数。\n",
    " \n",
    "#   numpy.random.hypergeometric(ngood, nbad, nsample, size)：\n",
    "#   从超几何分布中生成随机数。\n",
    "\n",
    "# • numpy.random.laplace(loc，scale，size)：\n",
    "# 从拉普拉斯双指数分布中生成随机数。\n",
    "\n",
    "# • numpy.random.logistic(loc，scale，size)：\n",
    "# 从逻辑分布中生成随机数。\n",
    "\n",
    "# • numpy.random.lognormal(mean，sigma，size)：\n",
    "# 从对数正态分布中生成随机数。\n",
    "\n",
    "# • numpy.random.logseries(p，size)：\n",
    "# 从对数系列分布中生成随机数。\n",
    "\n",
    "# • numpy.random.multinomial(n，pvals，size)：\n",
    "# 从多项分布中生成随机数。\n",
    "\n",
    "# • numpy.random.multivariate_normal(mean, cov, size)：\n",
    "# 从多变量正态分布绘制随机样本。\n",
    "\n",
    "# • numpy.random.negative_binomial(n, p, size)：\n",
    "# 从负二项分布中生成随机数。\n",
    "\n",
    "# • numpy.random.noncentral_chisquare(df，nonc，size)：\n",
    "# 从非中心卡方分布中生成随机数。\n",
    "\n",
    "# • numpy.random.noncentral_f(dfnum, dfden, nonc, size)：\n",
    "# 从非中心 F 分布中抽取样本。\n",
    "\n",
    "# 1. numpy.random.normal(loc，scale，size)：\n",
    "# 从正态分布绘制随机样本。\n",
    "\n",
    "# • numpy.random.pareto(a，size)：\n",
    "# 从具有指定形状的 Pareto II 或 Lomax 分布中生成随机数。\n",
    "\n",
    "# • numpy.random.poisson(lam，size)：\n",
    "# 从泊松分布中生成随机数。\n",
    "\n",
    "# • numpy.random.power(a，size)：\n",
    "# 从具有正指数 a-1 的功率分布中在 0，1 中生成随机数。\n",
    "\n",
    "# • numpy.random.rayleigh(scale，size)：\n",
    "# 从瑞利分布中生成随机数。\n",
    "\n",
    "# • numpy.random.standard_cauchy(size)：\n",
    "# 从标准 Cauchy 分布中生成随机数。\n",
    "\n",
    "# • numpy.random.standard_exponential(size)：\n",
    "# 从标准指数分布中生成随机数。\n",
    "\n",
    "# • numpy.random.standard_gamma(shape，size)：\n",
    "# 从标准 Gamma 分布中生成随机数。\n",
    "\n",
    "# • numpy.random.standard_normal(size)：\n",
    "# 从标准正态分布中生成随机数。\n",
    "\n",
    "# • numpy.random.standard_t(df，size)：\n",
    "# 从具有 df 自由度的标准学生 t 分布中生成随机数。\n",
    "\n",
    "# 1. numpy.random.triangular(left，mode，right，size)：\n",
    "# 从三角分布中生成随机数。\n",
    "\n",
    "# • numpy.random.uniform(low，high，size)：\n",
    "# 从均匀分布中生成随机数。\n",
    "\n",
    "# • numpy.random.vonmises(mu，kappa，size)：\n",
    "# 从 von Mises 分布中生成随机数。\n",
    "\n",
    "# • numpy.random.wald(mean，scale，size)：\n",
    "# 从 Wald 或反高斯分布中生成随机数。\n",
    "\n",
    "# • numpy.random.weibull(a，size)：\n",
    "# 从威布尔分布中生成随机数。\n",
    "\n",
    "# • numpy.random.zipf(a，size)：\n",
    "# 从 Zipf 分布中生成随机数。"
   ],
   "metadata": {
    "collapsed": false,
    "pycharm": {
     "name": "#%%\n",
     "is_executing": false
    }
   }
  },
  {
   "cell_type": "code",
   "execution_count": 77,
   "outputs": [
    {
     "name": "stdout",
     "text": [
      "[[0 1 2 3 4]\n [5 6 7 8 9]]\n[ 5  7  9 11 13]\n"
     ],
     "output_type": "stream"
    }
   ],
   "source": [
    "# 数学函数\n",
    "# 三角函数\n",
    "# • numpy.sin(x)：三角正弦。\n",
    "# • numpy.cos(x)：三角余弦。\n",
    "# • numpy.tan(x)：三角正切。\n",
    "# • numpy.arcsin(x)：三角反正弦。\n",
    "# • numpy.arccos(x)：三角反余弦。\n",
    "# • numpy.arctan(x)：三角反正切。\n",
    "# • numpy.hypot(x1,x2)：直角三角形求斜边。\n",
    "# • numpy.degrees(x)：弧度转换为度。\n",
    "# 1. numpy.radians(x)：度转换为弧度。\n",
    "# • numpy.deg2rad(x)：度转换为弧度。\n",
    "# • numpy.rad2deg(x)：弧度转换为度\n",
    "\n",
    "# 双曲函数\n",
    "# • numpy.sinh(x)：双曲正弦。\n",
    "# • numpy.cosh(x)：双曲余弦。\n",
    "# • numpy.tanh(x)：双曲正切。\n",
    "# • numpy.arcsinh(x)：反双曲正弦。\n",
    "# • numpy.arccosh(x)：反双曲余弦。\n",
    "# • numpy.arctanh(x)：反双曲正切\n",
    "\n",
    "# 数值修约\n",
    "# 数值修约, 又称数字修约, 是指在进行具体的数字运算前, \n",
    "# 按照一定的规则确定一致的位数, 然后舍去某些数字后面多余的尾数的过程。\n",
    "# 比如, 我们常听到的「4 舍 5 入」就属于数值修约中的一种。\n",
    "# • numpy.around(a)：平均到给定的小数位数。\n",
    "# • numpy.round_(a)：将数组舍入到给定的小数位数。\n",
    "# • numpy.rint(x)：修约到最接近的整数。\n",
    "# • numpy.fix(x, y)：向 0 舍入到最接近的整数。\n",
    "# • numpy.floor(x)：返回输入的底部(标量 x 的底部是最大的整数 i)。\n",
    "# • numpy.ceil(x)：返回输入的上限(标量 x 的底部是最小的整数 i).\n",
    "# • numpy.trunc(x)：返回输入的截断值。\n",
    "a = np.random.randn(5)*10\n",
    "# print(a)\n",
    "# print(np.around(a))\n",
    "# print(np.round_(a))\n",
    "# print(np.rint(a))\n",
    "# print(np.fix(a))\n",
    "# print(np.trunc(a))\n",
    "\n",
    "# 求和、求积、差分\n",
    "# numpy.prod(a, axis, dtype, keepdims)：\n",
    "# 返回指定轴上的数组元素的乘积。\n",
    "# • numpy.sum(a, axis, dtype, keepdims)：\n",
    "# 返回指定轴上的数组元素的总和。\n",
    "# • numpy.nanprod(a, axis, dtype, keepdims)\n",
    "# ：返回指定轴上的数组元素的乘积, 将 NaN 视作 1。\n",
    "# • numpy.nansum(a, axis, dtype, keepdims)：\n",
    "# 返回指定轴上的数组元素的总和, 将 NaN 视作 0。\n",
    "# • numpy.cumprod(a, axis, dtype)：\n",
    "# 返回沿给定轴的元素的累积乘积。\n",
    "# • numpy.cumsum(a, axis, dtype)：\n",
    "# 返回沿给定轴的元素的累积总和。\n",
    "# • numpy.nancumprod(a, axis, dtype)：\n",
    "# 返回沿给定轴的元素的累积乘积, 将 NaN 视作 1。\n",
    "# • numpy.nancumsum(a, axis, dtype)：\n",
    "# 返回沿给定轴的元素的累积总和, 将 NaN 视作 0。\n",
    "# • numpy.diff(a, n, axis)：\n",
    "# 计算沿指定轴的第 n 个离散差分。\n",
    "# • numpy.ediff1d(ary, to_end, to_begin)：\n",
    "# 数组的连续元素之间的差异。\n",
    "# numpy.gradient(f)：\n",
    "# 返回 N 维数组的梯度。\n",
    "# numpy.cross(a, b, axisa, axisb, axisc, axis)：\n",
    "# 返回两个(数组）向量的叉积。\n",
    "# • numpy.trapz(y, x, dx, axis)：\n",
    "# 使用复合梯形规则沿给定轴积分\n",
    "\n",
    "arr_sum = np.arange(10).reshape((2,5))\n",
    "print(arr_sum)\n",
    "print(np.sum(arr_sum,axis=0))\n",
    "\n",
    "# 指数和对数\n",
    "# numpy.exp(x)：计算输入数组中所有元素的指数。\n",
    "# numpy.log(x)：计算自然对数。\n",
    "# numpy.log10(x)：计算常用对数。\n",
    "# numpy.log2(x)：计算二进制对数。\n",
    "\n",
    "# 算术运算\n",
    "# • numpy.add(x1, x2)：对应元素相加。\n",
    "#   numpy.reciprocal(x)：求倒数 1/x。\n",
    "# • numpy.negative(x)：求对应负数。\n",
    "# • numpy.multiply(x1, x2)：求解乘法。\n",
    "# • numpy.divide(x1, x2)：相除 x1/x2。\n",
    "# • numpy.power(x1, x2)：类似于 x1^x2。\n",
    "# • numpy.subtract(x1, x2)：减法。\n",
    "# • numpy.fmod(x1, x2)：返回除法的元素余项。\n",
    "# • numpy.mod(x1, x2)：返回余项。\n",
    "#   numpy.modf(x1)：返回数组的小数和整数部分。\n",
    "# • numpy.remainder(x1, x2)：返回除法余数。\n",
    "\n",
    "# 矩阵和向量积\n",
    "# • numpy.dot(a, b)：求解两个数组的点积。\n",
    "# • numpy.vdot(a, b)：求解两个向量的点积。\n",
    "# • numpy.inner(a, b)：求解两个数组的内积。\n",
    "# • numpy.outer(a, b)：求解两个向量的外积。\n",
    "# • numpy.matmul(a, b)：求解两个数组的矩阵乘积。\n",
    "# • numpy.tensordot(a, b)：求解张量点积。\n",
    "# • numpy.kron(a, b)：计算 Kronecker 乘积。\n",
    "\n",
    "# 其他:\n",
    "#   numpy.angle(z, deg)：返回复参数的角度。\n",
    "# • numpy.real(val)：返回数组元素的实部。\n",
    "# • numpy.imag(val)：返回数组元素的虚部。\n",
    "# • numpy.conj(x)：按元素方式返回共轭复数。\n",
    "# • numpy.convolve(a, v, mode)：返回线性卷积。\n",
    "# • numpy.sqrt(x)：平方根。\n",
    "# • numpy.cbrt(x)：立方根。\n",
    "# • numpy.square(x)：平方。\n",
    "# • numpy.absolute(x)：绝对值, 可求解复数。\n",
    "# • numpy.fabs(x)：绝对值。\n",
    "# • numpy.sign(x)：符号函数。\n",
    "# • numpy.maximum(x1, x2)：最大值。\n",
    "#   numpy.minimum(x1, x2)：最小值。\n",
    "# • numpy.nan_to_num(x)：用 0 替换 NaN。\n",
    "# • numpy.interp(x, xp, fp, left, right, period)：线性插值。\n",
    "\n",
    "# 代数运算\n",
    "# • numpy.linalg.cholesky(a)：\n",
    "# Cholesky 分解。\n",
    "# • numpy.linalg.qr(a ,mode)：\n",
    "# 计算矩阵的 QR 因式分解。\n",
    "# • numpy.linalg.svd(a ,full_matrices,compute_uv)：\n",
    "# 奇异值分解。\n",
    "# • numpy.linalg.eig(a)：\n",
    "# 计算正方形数组的特征值和右特征向量。\n",
    "# • numpy.linalg.eigh(a, UPLO)：\n",
    "# 返回 Hermitian 或对称矩阵的特征值和特征向量。\n",
    "# • numpy.linalg.eigvals(a)：\n",
    "# 计算矩阵的特征值。\n",
    "# • numpy.linalg.eigvalsh(a, UPLO)：\n",
    "# 计算 Hermitian 或真实对称矩阵的特征值。\n",
    "# • numpy.linalg.norm(x ,ord,axis,keepdims)：\n",
    "# 计算矩阵或向量范数。\n",
    "# • numpy.linalg.cond(x ,p)：\n",
    "# 计算矩阵的条件数。\n",
    "#   numpy.linalg.det(a)：\n",
    "#   计算数组的行列式。\n",
    "# • numpy.linalg.matrix_rank(M ,tol)：\n",
    "# 使用奇异值分解方法返回秩。\n",
    "# • numpy.linalg.slogdet(a)：\n",
    "# 计算数组的行列式的符号和自然对数。\n",
    "# • numpy.trace(a ,offset,axis1,axis2,dtype,out)：\n",
    "# 沿数组的对角线返回总和。\n",
    "# • numpy.linalg.solve(a, b)：\n",
    "# 求解线性矩阵方程或线性标量方程组。\n",
    "# • numpy.linalg.tensorsolve(a, b ,axes)：\n",
    "# 为 x 解出张量方程 a x = b\n",
    "# • numpy.linalg.lstsq(a, b ,rcond)：\n",
    "# 将最小二乘解返回到线性矩阵方程。\n",
    "# • numpy.linalg.inv(a)：\n",
    "# 计算逆矩阵。\n",
    "# • numpy.linalg.pinv(a ,rcond)：\n",
    "# 计算矩阵的（Moore-Penrose）伪逆。\n",
    "# • numpy.linalg.tensorinv(a ,ind)：\n",
    "# 计算 N 维数组的逆。"
   ],
   "metadata": {
    "collapsed": false,
    "pycharm": {
     "name": "#%%\n",
     "is_executing": false
    }
   }
  },
  {
   "cell_type": "code",
   "execution_count": 15,
   "outputs": [
    {
     "name": "stdout",
     "text": [
      "[[ 0  1  2  3  4  5]\n [ 6  7  8  9 10 11]\n [12 13 14 15 16 17]\n [18 19 20 21 22 23]\n [24 25 26 27 28 29]]\n[ 9 16]\n[[[ 0  1  2  3  4]\n  [ 5  6  7  8  9]\n  [10 11 12 13 14]]\n\n [[15 16 17 18 19]\n  [20 21 22 23 24]\n  [25 26 27 28 29]]]\n[ 6 27]\n[[ 0  1  2  3  4]\n [ 5  6  7  8  9]\n [10 11 12 13 14]\n [15 16 17 18 19]]\n[2 7 1 9 7 1 8 5 8 7 5 6 2 1 4 0 0 7 3 0]\n3\n15\n(array([ 0,  1,  2,  3,  4,  5,  6,  7,  8,  9, 10, 11, 12, 13, 14, 17, 18],\n      dtype=int64),)\n17\n"
     ],
     "output_type": "stream"
    }
   ],
   "source": [
    "# 数组索引和切片\n",
    "# 数组索引\n",
    "arr_index_2d = np.arange(30).reshape((5,6))\n",
    "print(arr_index_2d)\n",
    "print(arr_index_2d[[1,2],[3,4]])\n",
    "\n",
    "arr_index_3d =np.arange(30).reshape((2,3,5))\n",
    "print(arr_index_3d)\n",
    "print(arr_index_3d[[0,1],[1,2],[1,2]])\n",
    "\n",
    "# 数组切片\n",
    "# Ndarray[start:stop:step]\n",
    "\n",
    "# 排序、搜索、计数\n",
    "# 排序\n",
    "# numpy.sort(a, axis=-1, kind='quicksort', order=None)\n",
    "# • a：数组。\n",
    "# • axis：要排序的轴。\n",
    "# 如果为None，则在排序之前将数组铺平。默认值为 -1，沿最后一个轴排序。\n",
    "# • kind：{'quicksort'，'mergesort'，'heapsort'}，\n",
    "# 排序算法。默认值为 quicksort。\n",
    "\n",
    "a = np.arange(20).reshape((4,5))\n",
    "print(np.sort(a))\n",
    "# 除了 numpy.sort，还有这样一些对数组进行排序的方法：\n",
    "# • numpy.lexsort(keys ,axis)：使用多个键进行间接排序。\n",
    "# • numpy.argsort(a ,axis,kind,order)：沿给定轴执行间接排序。\n",
    "# • numpy.msort(a)：沿第 1 个轴排序。\n",
    "# • numpy.sort_complex(a)：针对复数排序。\n",
    "\n",
    "# 搜索和计数\n",
    "# argmax(a ,axis,out)：\n",
    "# 返回数组中指定轴的最大值的索引。\n",
    "# • nanargmax(a ,axis)：\n",
    "# 返回数组中指定轴的最大值的索引,忽略 NaN。\n",
    "# • argmin(a ,axis,out)：\n",
    "# 返回数组中指定轴的最小值的索引。\n",
    "# • nanargmin(a ,axis)：\n",
    "# 返回数组中指定轴的最小值的索引,忽略 NaN。\n",
    "# • argwhere(a)：\n",
    "# 返回数组中非 0 元素的索引,按元素分组。\n",
    "# • nonzero(a)：\n",
    "# 返回数组中非 0 元素的索引。\n",
    "# • flatnonzero(a)：\n",
    "# 返回数组中非 0 元素的索引,并铺平。\n",
    "# • where(条件,x,y)：\n",
    "# 根据指定条件,从指定行、列返回元素。\n",
    "# • searchsorted(a,v ,side,sorter)：\n",
    "# 查找要插入元素以维持顺序的索引。\n",
    "#  extract(condition,arr)：\n",
    "#  返回满足某些条件的数组的元素。\n",
    "# • count_nonzero(a)：\n",
    "# 计算数组中非 0 元素的数量。\n",
    "a = np.random.randint(0,10,20)\n",
    "print(a)\n",
    "print(np.argmax(a))\n",
    "print(np.argmin(a))\n",
    "print(np.nonzero(a))\n",
    "print(np.count_nonzero(a))"
   ],
   "metadata": {
    "collapsed": false,
    "pycharm": {
     "name": "#%%\n",
     "is_executing": false
    }
   }
  }
 ],
 "metadata": {
  "language_info": {
   "codemirror_mode": {
    "name": "ipython",
    "version": 2
   },
   "file_extension": ".py",
   "mimetype": "text/x-python",
   "name": "python",
   "nbconvert_exporter": "python",
   "pygments_lexer": "ipython2",
   "version": "2.7.6"
  },
  "kernelspec": {
   "name": "python3",
   "language": "python",
   "display_name": "Python 3"
  },
  "pycharm": {
   "stem_cell": {
    "cell_type": "raw",
    "source": [],
    "metadata": {
     "collapsed": false
    }
   }
  }
 },
 "nbformat": 4,
 "nbformat_minor": 0
}