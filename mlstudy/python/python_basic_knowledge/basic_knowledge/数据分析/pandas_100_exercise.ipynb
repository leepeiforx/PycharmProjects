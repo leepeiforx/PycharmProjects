{
 "cells": [
  {
   "cell_type": "code",
   "execution_count": 1,
   "outputs": [],
   "source": [
    "import pandas as pd\n",
    "import numpy as np\n",
    "%matplotlib inline"
   ],
   "metadata": {
    "collapsed": false,
    "pycharm": {
     "name": "#%%\n",
     "is_executing": false
    }
   }
  },
  {
   "cell_type": "code",
   "execution_count": 3,
   "outputs": [
    {
     "name": "stdout",
     "text": [
      "0.25.0\n"
     ],
     "output_type": "stream"
    }
   ],
   "source": [
    "# 查看 Pandas 版本信息\n",
    "print(pd.__version__)"
   ],
   "metadata": {
    "collapsed": false,
    "pycharm": {
     "name": "#%%\n",
     "is_executing": false
    }
   }
  },
  {
   "cell_type": "code",
   "execution_count": 5,
   "outputs": [
    {
     "data": {
      "text/plain": "0    1\n1    2\n2    3\n3    4\ndtype: int64"
     },
     "metadata": {},
     "output_type": "execute_result",
     "execution_count": 5
    }
   ],
   "source": [
    "# 从列表创建 Series\n",
    "s1 = pd.Series([1,2,3,4])"
   ],
   "metadata": {
    "collapsed": false,
    "pycharm": {
     "name": "#%%\n",
     "is_executing": false
    }
   }
  },
  {
   "cell_type": "code",
   "execution_count": 7,
   "outputs": [
    {
     "data": {
      "text/plain": "A    0\nB    1\nC    2\nD    3\nE    4\ndtype: int32"
     },
     "metadata": {},
     "output_type": "execute_result",
     "execution_count": 7
    }
   ],
   "source": [
    "# 从 Ndarray 创建 Series\n",
    "s1 = pd.Series(np.arange(5))\n",
    "s1.index =list('ABCDE')"
   ],
   "metadata": {
    "collapsed": false,
    "pycharm": {
     "name": "#%%\n",
     "is_executing": false
    }
   }
  },
  {
   "cell_type": "code",
   "execution_count": 9,
   "outputs": [
    {
     "data": {
      "text/plain": "A    1\nB    2\nC    3\nD    4\ndtype: int64"
     },
     "metadata": {},
     "output_type": "execute_result",
     "execution_count": 9
    }
   ],
   "source": [
    "# 从字典创建 Series\n",
    "s3 = pd.Series({'A':1,\n",
    "                'B':2,\n",
    "                'C':3,\n",
    "                'D':4})\n",
    "s3"
   ],
   "metadata": {
    "collapsed": false,
    "pycharm": {
     "name": "#%%\n",
     "is_executing": false
    }
   }
  },
  {
   "cell_type": "code",
   "execution_count": null,
   "outputs": [],
   "source": [
    "# Series 基本操作\n",
    "# 修改 Series 索引\n",
    "s1.index=list('ABCDE')\n",
    "s1"
   ],
   "metadata": {
    "collapsed": false,
    "pycharm": {
     "name": "#%%\n"
    }
   }
  },
  {
   "cell_type": "code",
   "execution_count": 11,
   "outputs": [
    {
     "data": {
      "text/plain": "A    0\nB    1\nC    2\nD    3\nE    4\nA    1\nB    2\nC    3\nD    4\ndtype: int64"
     },
     "metadata": {},
     "output_type": "execute_result",
     "execution_count": 11
    }
   ],
   "source": [
    "# Series 纵向拼接\n",
    "s2 = s1.append(s3)\n",
    "s2"
   ],
   "metadata": {
    "collapsed": false,
    "pycharm": {
     "name": "#%%\n",
     "is_executing": false
    }
   }
  },
  {
   "cell_type": "code",
   "execution_count": null,
   "outputs": [],
   "source": [
    "# Series 按指定索引删除元素\n",
    "print(s2)\n",
    "s2.drop(labels='A',axis=0)"
   ],
   "metadata": {
    "collapsed": false,
    "pycharm": {
     "name": "#%%\n"
    }
   }
  },
  {
   "cell_type": "code",
   "execution_count": null,
   "outputs": [],
   "source": [
    "# Series 修改指定索引元素\n",
    "s2['B'] = 0\n",
    "s2"
   ],
   "metadata": {
    "collapsed": false,
    "pycharm": {
     "name": "#%%\n"
    }
   }
  },
  {
   "cell_type": "code",
   "execution_count": null,
   "outputs": [],
   "source": [
    "# Series 按指定索引查找元素\n",
    "s2['C']"
   ],
   "metadata": {
    "collapsed": false,
    "pycharm": {
     "name": "#%%\n"
    }
   }
  },
  {
   "cell_type": "code",
   "execution_count": null,
   "outputs": [],
   "source": [
    "# Series 切片操作\n",
    "s2[:3]"
   ],
   "metadata": {
    "collapsed": false,
    "pycharm": {
     "name": "#%%\n"
    }
   }
  },
  {
   "cell_type": "code",
   "execution_count": null,
   "outputs": [],
   "source": [
    "# Series 运算\n",
    "# Series 加法运算\n",
    "# Series 的加法运算是按照索引计算，\n",
    "# 如果索引不同则填充为 NaN（空值）。\n",
    "print(s1,s3)\n",
    "# print(s1.add(s3))\n",
    "# print(s1+s3)"
   ],
   "metadata": {
    "collapsed": false,
    "pycharm": {
     "name": "#%%\n"
    }
   }
  },
  {
   "cell_type": "code",
   "execution_count": null,
   "outputs": [],
   "source": [
    "# Series 减法运算\n",
    "# Series的减法运算是按照索引对应计算，\n",
    "# 如果不同则填充为 NaN（空值）\n",
    "# print(s1.sub(s3))\n",
    "# print(s1-s3)"
   ],
   "metadata": {
    "collapsed": false,
    "pycharm": {
     "name": "#%%\n"
    }
   }
  },
  {
   "cell_type": "code",
   "execution_count": null,
   "outputs": [],
   "source": [
    "# Series 乘法运算\n",
    "# s1*s3\n",
    "s1.mul(s3)"
   ],
   "metadata": {
    "collapsed": false,
    "pycharm": {
     "name": "#%%\n"
    }
   }
  },
  {
   "cell_type": "code",
   "execution_count": null,
   "outputs": [],
   "source": [
    "# Series 除法运算\n",
    "# s1/s3\n",
    "s1.divide(s3)"
   ],
   "metadata": {
    "collapsed": false,
    "pycharm": {
     "name": "#%%\n"
    }
   }
  },
  {
   "cell_type": "code",
   "execution_count": null,
   "outputs": [],
   "source": [
    "# Series 求中位数\n",
    "s1.median()"
   ],
   "metadata": {
    "collapsed": false,
    "pycharm": {
     "name": "#%%\n"
    }
   }
  },
  {
   "cell_type": "code",
   "execution_count": 13,
   "outputs": [
    {
     "name": "stdout",
     "text": [
      "10\n"
     ],
     "output_type": "stream"
    }
   ],
   "source": [
    "# Series 求和\n",
    "s1.sum()"
   ],
   "metadata": {
    "collapsed": false,
    "pycharm": {
     "name": "#%%\n",
     "is_executing": false
    }
   }
  },
  {
   "cell_type": "code",
   "execution_count": null,
   "outputs": [],
   "source": [
    "# Series 求最大值\n",
    "s1.max()"
   ],
   "metadata": {
    "collapsed": false,
    "pycharm": {
     "name": "#%%\n"
    }
   }
  },
  {
   "cell_type": "code",
   "execution_count": null,
   "outputs": [],
   "source": [
    "# Series 求最小值\n",
    "s1.min()"
   ],
   "metadata": {
    "collapsed": false,
    "pycharm": {
     "name": "#%%\n"
    }
   }
  },
  {
   "cell_type": "code",
   "execution_count": 17,
   "outputs": [
    {
     "data": {
      "text/plain": "                   A         B         C         D\n2019-09-02 -1.548542 -1.092147 -0.126574 -0.092236\n2019-09-03 -0.386975 -0.887827  0.711987  1.314569\n2019-09-04  0.982853 -1.296105 -0.286186 -1.979146\n2019-09-05 -0.757977 -2.619267 -0.218279 -0.742393\n2019-09-06 -0.102875 -0.093544 -1.402942 -1.559880\n2019-09-07  0.791275 -0.081574 -1.125972 -0.079966",
      "text/html": "<div>\n<style scoped>\n    .dataframe tbody tr th:only-of-type {\n        vertical-align: middle;\n    }\n\n    .dataframe tbody tr th {\n        vertical-align: top;\n    }\n\n    .dataframe thead th {\n        text-align: right;\n    }\n</style>\n<table border=\"1\" class=\"dataframe\">\n  <thead>\n    <tr style=\"text-align: right;\">\n      <th></th>\n      <th>A</th>\n      <th>B</th>\n      <th>C</th>\n      <th>D</th>\n    </tr>\n  </thead>\n  <tbody>\n    <tr>\n      <th>2019-09-02</th>\n      <td>-1.548542</td>\n      <td>-1.092147</td>\n      <td>-0.126574</td>\n      <td>-0.092236</td>\n    </tr>\n    <tr>\n      <th>2019-09-03</th>\n      <td>-0.386975</td>\n      <td>-0.887827</td>\n      <td>0.711987</td>\n      <td>1.314569</td>\n    </tr>\n    <tr>\n      <th>2019-09-04</th>\n      <td>0.982853</td>\n      <td>-1.296105</td>\n      <td>-0.286186</td>\n      <td>-1.979146</td>\n    </tr>\n    <tr>\n      <th>2019-09-05</th>\n      <td>-0.757977</td>\n      <td>-2.619267</td>\n      <td>-0.218279</td>\n      <td>-0.742393</td>\n    </tr>\n    <tr>\n      <th>2019-09-06</th>\n      <td>-0.102875</td>\n      <td>-0.093544</td>\n      <td>-1.402942</td>\n      <td>-1.559880</td>\n    </tr>\n    <tr>\n      <th>2019-09-07</th>\n      <td>0.791275</td>\n      <td>-0.081574</td>\n      <td>-1.125972</td>\n      <td>-0.079966</td>\n    </tr>\n  </tbody>\n</table>\n</div>"
     },
     "metadata": {},
     "output_type": "execute_result",
     "execution_count": 17
    }
   ],
   "source": [
    "# 创建 DataFrame 数据类型\n",
    "# 通过 NumPy 数组创建 DataFrame\n",
    "# 定义时间序列作为 index\n",
    "dates = pd.date_range('2019/09/02',periods=6,freq='D',)\n",
    "num_arr = np.random.randn(6,4)\n",
    "columns = list('ABCD')\n",
    "df = pd.DataFrame(num_arr,index=dates,columns=columns)\n",
    "df"
   ],
   "metadata": {
    "collapsed": false,
    "pycharm": {
     "name": "#%%\n",
     "is_executing": false
    }
   }
  },
  {
   "cell_type": "code",
   "execution_count": 19,
   "outputs": [
    {
     "data": {
      "text/plain": "  animal  age  visits priority\na    cat  2.5       1      yes\nb    cat  3.0       3      yes\nc  snake  0.5       2       no\nd    dog  NaN       3      yes\ne    dog  5.0       2       no\nf    cat  2.0       3       no\ng  snake  4.5       1       no\nh    cat  NaN       1      yes\ni    dog  7.0       2       no\nj    dog  3.0       1       no",
      "text/html": "<div>\n<style scoped>\n    .dataframe tbody tr th:only-of-type {\n        vertical-align: middle;\n    }\n\n    .dataframe tbody tr th {\n        vertical-align: top;\n    }\n\n    .dataframe thead th {\n        text-align: right;\n    }\n</style>\n<table border=\"1\" class=\"dataframe\">\n  <thead>\n    <tr style=\"text-align: right;\">\n      <th></th>\n      <th>animal</th>\n      <th>age</th>\n      <th>visits</th>\n      <th>priority</th>\n    </tr>\n  </thead>\n  <tbody>\n    <tr>\n      <th>a</th>\n      <td>cat</td>\n      <td>2.5</td>\n      <td>1</td>\n      <td>yes</td>\n    </tr>\n    <tr>\n      <th>b</th>\n      <td>cat</td>\n      <td>3.0</td>\n      <td>3</td>\n      <td>yes</td>\n    </tr>\n    <tr>\n      <th>c</th>\n      <td>snake</td>\n      <td>0.5</td>\n      <td>2</td>\n      <td>no</td>\n    </tr>\n    <tr>\n      <th>d</th>\n      <td>dog</td>\n      <td>NaN</td>\n      <td>3</td>\n      <td>yes</td>\n    </tr>\n    <tr>\n      <th>e</th>\n      <td>dog</td>\n      <td>5.0</td>\n      <td>2</td>\n      <td>no</td>\n    </tr>\n    <tr>\n      <th>f</th>\n      <td>cat</td>\n      <td>2.0</td>\n      <td>3</td>\n      <td>no</td>\n    </tr>\n    <tr>\n      <th>g</th>\n      <td>snake</td>\n      <td>4.5</td>\n      <td>1</td>\n      <td>no</td>\n    </tr>\n    <tr>\n      <th>h</th>\n      <td>cat</td>\n      <td>NaN</td>\n      <td>1</td>\n      <td>yes</td>\n    </tr>\n    <tr>\n      <th>i</th>\n      <td>dog</td>\n      <td>7.0</td>\n      <td>2</td>\n      <td>no</td>\n    </tr>\n    <tr>\n      <th>j</th>\n      <td>dog</td>\n      <td>3.0</td>\n      <td>1</td>\n      <td>no</td>\n    </tr>\n  </tbody>\n</table>\n</div>"
     },
     "metadata": {},
     "output_type": "execute_result",
     "execution_count": 19
    }
   ],
   "source": [
    "# 通过字典数组创建 DataFrame\n",
    "data = dict(zip(('animal','age','visits','priority'),\n",
    "                (['cat', 'cat', 'snake', 'dog', \n",
    "                  'dog', 'cat', 'snake', 'cat', 'dog', 'dog'],\n",
    "                 [2.5, 3, 0.5, np.nan, 5, 2, 4.5, np.nan, 7, 3],\n",
    "                 [1, 3, 2, 3, 2, 3, 1, 1, 2, 1],\n",
    "                 ['yes', 'yes', 'no', 'yes', \n",
    "                  'no', 'no', 'no', 'yes', 'no', 'no'])))\n",
    "labels = list('abcdefghij')\n",
    "df = pd.DataFrame(data,index=labels)\n",
    "df"
   ],
   "metadata": {
    "collapsed": false,
    "pycharm": {
     "name": "#%%\n",
     "is_executing": false
    }
   }
  },
  {
   "cell_type": "code",
   "execution_count": null,
   "outputs": [],
   "source": [
    "# 查看 DataFrame 的数据类型\n",
    "df.dtypes"
   ],
   "metadata": {
    "collapsed": false,
    "pycharm": {
     "name": "#%%\n"
    }
   }
  },
  {
   "cell_type": "code",
   "execution_count": null,
   "outputs": [],
   "source": [
    "# DataFrame 基本操作\n",
    "# 23. 预览 DataFrame 的前 5 行数据\n",
    "df.head()"
   ],
   "metadata": {
    "collapsed": false,
    "pycharm": {
     "name": "#%%\n"
    }
   }
  },
  {
   "cell_type": "code",
   "execution_count": null,
   "outputs": [],
   "source": [
    "# 查看 DataFrame 的后 3 行数据\n",
    "df.tail(3)"
   ],
   "metadata": {
    "collapsed": false,
    "pycharm": {
     "name": "#%%\n"
    }
   }
  },
  {
   "cell_type": "code",
   "execution_count": 16,
   "outputs": [
    {
     "data": {
      "text/plain": "DatetimeIndex(['2019-09-02 15:05:45.941631', '2019-09-03 15:05:45.941631',\n               '2019-09-04 15:05:45.941631', '2019-09-05 15:05:45.941631',\n               '2019-09-06 15:05:45.941631', '2019-09-07 15:05:45.941631'],\n              dtype='datetime64[ns]', freq='D')"
     },
     "metadata": {},
     "output_type": "execute_result",
     "execution_count": 16
    }
   ],
   "source": [
    "# 查看 DataFrame 的索引\n",
    "df.index"
   ],
   "metadata": {
    "collapsed": false,
    "pycharm": {
     "name": "#%%\n",
     "is_executing": false
    }
   }
  },
  {
   "cell_type": "code",
   "execution_count": null,
   "outputs": [],
   "source": [
    "# 查看 DataFrame 的列名\n",
    "df.columns"
   ],
   "metadata": {
    "collapsed": false,
    "pycharm": {
     "name": "#%%\n"
    }
   }
  },
  {
   "cell_type": "code",
   "execution_count": null,
   "outputs": [],
   "source": [
    "# 查看 DataFrame 的数值\n",
    "df.values"
   ],
   "metadata": {
    "collapsed": false,
    "pycharm": {
     "name": "#%%\n"
    }
   }
  },
  {
   "cell_type": "code",
   "execution_count": null,
   "outputs": [],
   "source": [
    "# 查看 DataFrame 的统计数据\n",
    "df.describe()"
   ],
   "metadata": {
    "collapsed": false,
    "pycharm": {
     "name": "#%%\n"
    }
   }
  },
  {
   "cell_type": "code",
   "execution_count": 18,
   "outputs": [
    {
     "data": {
      "text/plain": "   2019-09-02  2019-09-03  2019-09-04  2019-09-05  2019-09-06  2019-09-07\nA   -1.548542   -0.386975    0.982853   -0.757977   -0.102875    0.791275\nB   -1.092147   -0.887827   -1.296105   -2.619267   -0.093544   -0.081574\nC   -0.126574    0.711987   -0.286186   -0.218279   -1.402942   -1.125972\nD   -0.092236    1.314569   -1.979146   -0.742393   -1.559880   -0.079966",
      "text/html": "<div>\n<style scoped>\n    .dataframe tbody tr th:only-of-type {\n        vertical-align: middle;\n    }\n\n    .dataframe tbody tr th {\n        vertical-align: top;\n    }\n\n    .dataframe thead th {\n        text-align: right;\n    }\n</style>\n<table border=\"1\" class=\"dataframe\">\n  <thead>\n    <tr style=\"text-align: right;\">\n      <th></th>\n      <th>2019-09-02</th>\n      <th>2019-09-03</th>\n      <th>2019-09-04</th>\n      <th>2019-09-05</th>\n      <th>2019-09-06</th>\n      <th>2019-09-07</th>\n    </tr>\n  </thead>\n  <tbody>\n    <tr>\n      <th>A</th>\n      <td>-1.548542</td>\n      <td>-0.386975</td>\n      <td>0.982853</td>\n      <td>-0.757977</td>\n      <td>-0.102875</td>\n      <td>0.791275</td>\n    </tr>\n    <tr>\n      <th>B</th>\n      <td>-1.092147</td>\n      <td>-0.887827</td>\n      <td>-1.296105</td>\n      <td>-2.619267</td>\n      <td>-0.093544</td>\n      <td>-0.081574</td>\n    </tr>\n    <tr>\n      <th>C</th>\n      <td>-0.126574</td>\n      <td>0.711987</td>\n      <td>-0.286186</td>\n      <td>-0.218279</td>\n      <td>-1.402942</td>\n      <td>-1.125972</td>\n    </tr>\n    <tr>\n      <th>D</th>\n      <td>-0.092236</td>\n      <td>1.314569</td>\n      <td>-1.979146</td>\n      <td>-0.742393</td>\n      <td>-1.559880</td>\n      <td>-0.079966</td>\n    </tr>\n  </tbody>\n</table>\n</div>"
     },
     "metadata": {},
     "output_type": "execute_result",
     "execution_count": 18
    }
   ],
   "source": [
    "# DataFrame 转置操作\n",
    "df.T"
   ],
   "metadata": {
    "collapsed": false,
    "pycharm": {
     "name": "#%%\n",
     "is_executing": false
    }
   }
  },
  {
   "cell_type": "code",
   "execution_count": 20,
   "outputs": [
    {
     "data": {
      "text/plain": "  animal  age  visits priority\ni    dog  7.0       2       no\ne    dog  5.0       2       no\ng  snake  4.5       1       no\nb    cat  3.0       3      yes\nj    dog  3.0       1       no\na    cat  2.5       1      yes\nf    cat  2.0       3       no\nc  snake  0.5       2       no\nd    dog  NaN       3      yes\nh    cat  NaN       1      yes",
      "text/html": "<div>\n<style scoped>\n    .dataframe tbody tr th:only-of-type {\n        vertical-align: middle;\n    }\n\n    .dataframe tbody tr th {\n        vertical-align: top;\n    }\n\n    .dataframe thead th {\n        text-align: right;\n    }\n</style>\n<table border=\"1\" class=\"dataframe\">\n  <thead>\n    <tr style=\"text-align: right;\">\n      <th></th>\n      <th>animal</th>\n      <th>age</th>\n      <th>visits</th>\n      <th>priority</th>\n    </tr>\n  </thead>\n  <tbody>\n    <tr>\n      <th>i</th>\n      <td>dog</td>\n      <td>7.0</td>\n      <td>2</td>\n      <td>no</td>\n    </tr>\n    <tr>\n      <th>e</th>\n      <td>dog</td>\n      <td>5.0</td>\n      <td>2</td>\n      <td>no</td>\n    </tr>\n    <tr>\n      <th>g</th>\n      <td>snake</td>\n      <td>4.5</td>\n      <td>1</td>\n      <td>no</td>\n    </tr>\n    <tr>\n      <th>b</th>\n      <td>cat</td>\n      <td>3.0</td>\n      <td>3</td>\n      <td>yes</td>\n    </tr>\n    <tr>\n      <th>j</th>\n      <td>dog</td>\n      <td>3.0</td>\n      <td>1</td>\n      <td>no</td>\n    </tr>\n    <tr>\n      <th>a</th>\n      <td>cat</td>\n      <td>2.5</td>\n      <td>1</td>\n      <td>yes</td>\n    </tr>\n    <tr>\n      <th>f</th>\n      <td>cat</td>\n      <td>2.0</td>\n      <td>3</td>\n      <td>no</td>\n    </tr>\n    <tr>\n      <th>c</th>\n      <td>snake</td>\n      <td>0.5</td>\n      <td>2</td>\n      <td>no</td>\n    </tr>\n    <tr>\n      <th>d</th>\n      <td>dog</td>\n      <td>NaN</td>\n      <td>3</td>\n      <td>yes</td>\n    </tr>\n    <tr>\n      <th>h</th>\n      <td>cat</td>\n      <td>NaN</td>\n      <td>1</td>\n      <td>yes</td>\n    </tr>\n  </tbody>\n</table>\n</div>"
     },
     "metadata": {},
     "output_type": "execute_result",
     "execution_count": 20
    }
   ],
   "source": [
    "# 对 DataFrame 进行按列排序\n",
    "df.sort_values(by='age',ascending=False)"
   ],
   "metadata": {
    "collapsed": false,
    "pycharm": {
     "name": "#%%\n",
     "is_executing": false
    }
   }
  },
  {
   "cell_type": "code",
   "execution_count": 21,
   "outputs": [
    {
     "data": {
      "text/plain": "  animal  age  visits priority\na    cat  2.5       1      yes\nb    cat  3.0       3      yes\nc  snake  0.5       2       no\nd    dog  NaN       3      yes",
      "text/html": "<div>\n<style scoped>\n    .dataframe tbody tr th:only-of-type {\n        vertical-align: middle;\n    }\n\n    .dataframe tbody tr th {\n        vertical-align: top;\n    }\n\n    .dataframe thead th {\n        text-align: right;\n    }\n</style>\n<table border=\"1\" class=\"dataframe\">\n  <thead>\n    <tr style=\"text-align: right;\">\n      <th></th>\n      <th>animal</th>\n      <th>age</th>\n      <th>visits</th>\n      <th>priority</th>\n    </tr>\n  </thead>\n  <tbody>\n    <tr>\n      <th>a</th>\n      <td>cat</td>\n      <td>2.5</td>\n      <td>1</td>\n      <td>yes</td>\n    </tr>\n    <tr>\n      <th>b</th>\n      <td>cat</td>\n      <td>3.0</td>\n      <td>3</td>\n      <td>yes</td>\n    </tr>\n    <tr>\n      <th>c</th>\n      <td>snake</td>\n      <td>0.5</td>\n      <td>2</td>\n      <td>no</td>\n    </tr>\n    <tr>\n      <th>d</th>\n      <td>dog</td>\n      <td>NaN</td>\n      <td>3</td>\n      <td>yes</td>\n    </tr>\n  </tbody>\n</table>\n</div>"
     },
     "metadata": {},
     "output_type": "execute_result",
     "execution_count": 21
    }
   ],
   "source": [
    "# 对 DataFrame 数据切片\n",
    "df.iloc[0:4]"
   ],
   "metadata": {
    "collapsed": false,
    "pycharm": {
     "name": "#%%\n",
     "is_executing": false
    }
   }
  },
  {
   "cell_type": "code",
   "execution_count": null,
   "outputs": [],
   "source": [
    "# 对 DataFrame 通过标签查询（单列）\n",
    "# df['age']\n",
    "# df.loc[:,['age']]\n",
    "df.age"
   ],
   "metadata": {
    "collapsed": false,
    "pycharm": {
     "name": "#%%\n"
    }
   }
  },
  {
   "cell_type": "code",
   "execution_count": 22,
   "outputs": [
    {
     "data": {
      "text/plain": "   age  visits\na  2.5       1\nb  3.0       3\nc  0.5       2\nd  NaN       3\ne  5.0       2\nf  2.0       3\ng  4.5       1\nh  NaN       1\ni  7.0       2\nj  3.0       1",
      "text/html": "<div>\n<style scoped>\n    .dataframe tbody tr th:only-of-type {\n        vertical-align: middle;\n    }\n\n    .dataframe tbody tr th {\n        vertical-align: top;\n    }\n\n    .dataframe thead th {\n        text-align: right;\n    }\n</style>\n<table border=\"1\" class=\"dataframe\">\n  <thead>\n    <tr style=\"text-align: right;\">\n      <th></th>\n      <th>age</th>\n      <th>visits</th>\n    </tr>\n  </thead>\n  <tbody>\n    <tr>\n      <th>a</th>\n      <td>2.5</td>\n      <td>1</td>\n    </tr>\n    <tr>\n      <th>b</th>\n      <td>3.0</td>\n      <td>3</td>\n    </tr>\n    <tr>\n      <th>c</th>\n      <td>0.5</td>\n      <td>2</td>\n    </tr>\n    <tr>\n      <th>d</th>\n      <td>NaN</td>\n      <td>3</td>\n    </tr>\n    <tr>\n      <th>e</th>\n      <td>5.0</td>\n      <td>2</td>\n    </tr>\n    <tr>\n      <th>f</th>\n      <td>2.0</td>\n      <td>3</td>\n    </tr>\n    <tr>\n      <th>g</th>\n      <td>4.5</td>\n      <td>1</td>\n    </tr>\n    <tr>\n      <th>h</th>\n      <td>NaN</td>\n      <td>1</td>\n    </tr>\n    <tr>\n      <th>i</th>\n      <td>7.0</td>\n      <td>2</td>\n    </tr>\n    <tr>\n      <th>j</th>\n      <td>3.0</td>\n      <td>1</td>\n    </tr>\n  </tbody>\n</table>\n</div>"
     },
     "metadata": {},
     "output_type": "execute_result",
     "execution_count": 22
    }
   ],
   "source": [
    "# 对 DataFrame 通过标签查询（多列）\n",
    "# df.loc[:,['age','visits']]\n",
    "df[['age','visits']]"
   ],
   "metadata": {
    "collapsed": false,
    "pycharm": {
     "name": "#%%\n",
     "is_executing": false
    }
   }
  },
  {
   "cell_type": "code",
   "execution_count": 23,
   "outputs": [
    {
     "data": {
      "text/plain": "  animal  age  visits priority\nb    cat  3.0       3      yes\nc  snake  0.5       2       no",
      "text/html": "<div>\n<style scoped>\n    .dataframe tbody tr th:only-of-type {\n        vertical-align: middle;\n    }\n\n    .dataframe tbody tr th {\n        vertical-align: top;\n    }\n\n    .dataframe thead th {\n        text-align: right;\n    }\n</style>\n<table border=\"1\" class=\"dataframe\">\n  <thead>\n    <tr style=\"text-align: right;\">\n      <th></th>\n      <th>animal</th>\n      <th>age</th>\n      <th>visits</th>\n      <th>priority</th>\n    </tr>\n  </thead>\n  <tbody>\n    <tr>\n      <th>b</th>\n      <td>cat</td>\n      <td>3.0</td>\n      <td>3</td>\n      <td>yes</td>\n    </tr>\n    <tr>\n      <th>c</th>\n      <td>snake</td>\n      <td>0.5</td>\n      <td>2</td>\n      <td>no</td>\n    </tr>\n  </tbody>\n</table>\n</div>"
     },
     "metadata": {},
     "output_type": "execute_result",
     "execution_count": 23
    }
   ],
   "source": [
    "# 对 DataFrame 通过位置查询\n",
    "df.iloc[1:3]"
   ],
   "metadata": {
    "collapsed": false,
    "pycharm": {
     "name": "#%%\n",
     "is_executing": false
    }
   }
  },
  {
   "cell_type": "code",
   "execution_count": 24,
   "outputs": [
    {
     "data": {
      "text/plain": "  animal  age  visits priority\na    cat  2.5       1      yes\nb    cat  3.0       3      yes\nc  snake  0.5       2       no\nd    dog  NaN       3      yes\ne    dog  5.0       2       no\nf    cat  2.0       3       no\ng  snake  4.5       1       no\nh    cat  NaN       1      yes\ni    dog  7.0       2       no\nj    dog  3.0       1       no",
      "text/html": "<div>\n<style scoped>\n    .dataframe tbody tr th:only-of-type {\n        vertical-align: middle;\n    }\n\n    .dataframe tbody tr th {\n        vertical-align: top;\n    }\n\n    .dataframe thead th {\n        text-align: right;\n    }\n</style>\n<table border=\"1\" class=\"dataframe\">\n  <thead>\n    <tr style=\"text-align: right;\">\n      <th></th>\n      <th>animal</th>\n      <th>age</th>\n      <th>visits</th>\n      <th>priority</th>\n    </tr>\n  </thead>\n  <tbody>\n    <tr>\n      <th>a</th>\n      <td>cat</td>\n      <td>2.5</td>\n      <td>1</td>\n      <td>yes</td>\n    </tr>\n    <tr>\n      <th>b</th>\n      <td>cat</td>\n      <td>3.0</td>\n      <td>3</td>\n      <td>yes</td>\n    </tr>\n    <tr>\n      <th>c</th>\n      <td>snake</td>\n      <td>0.5</td>\n      <td>2</td>\n      <td>no</td>\n    </tr>\n    <tr>\n      <th>d</th>\n      <td>dog</td>\n      <td>NaN</td>\n      <td>3</td>\n      <td>yes</td>\n    </tr>\n    <tr>\n      <th>e</th>\n      <td>dog</td>\n      <td>5.0</td>\n      <td>2</td>\n      <td>no</td>\n    </tr>\n    <tr>\n      <th>f</th>\n      <td>cat</td>\n      <td>2.0</td>\n      <td>3</td>\n      <td>no</td>\n    </tr>\n    <tr>\n      <th>g</th>\n      <td>snake</td>\n      <td>4.5</td>\n      <td>1</td>\n      <td>no</td>\n    </tr>\n    <tr>\n      <th>h</th>\n      <td>cat</td>\n      <td>NaN</td>\n      <td>1</td>\n      <td>yes</td>\n    </tr>\n    <tr>\n      <th>i</th>\n      <td>dog</td>\n      <td>7.0</td>\n      <td>2</td>\n      <td>no</td>\n    </tr>\n    <tr>\n      <th>j</th>\n      <td>dog</td>\n      <td>3.0</td>\n      <td>1</td>\n      <td>no</td>\n    </tr>\n  </tbody>\n</table>\n</div>"
     },
     "metadata": {},
     "output_type": "execute_result",
     "execution_count": 24
    }
   ],
   "source": [
    "# DataFrame 副本拷贝\n",
    "df2 = df.copy()\n",
    "df2"
   ],
   "metadata": {
    "collapsed": false,
    "pycharm": {
     "name": "#%%\n",
     "is_executing": false
    }
   }
  },
  {
   "cell_type": "code",
   "execution_count": null,
   "outputs": [],
   "source": [
    "# 判断 DataFrame 元素是否为空\n",
    "df.isnull()"
   ],
   "metadata": {
    "collapsed": false,
    "pycharm": {
     "name": "#%%\n"
    }
   }
  },
  {
   "cell_type": "code",
   "execution_count": null,
   "outputs": [],
   "source": [
    "# 添加列数据\n",
    "num = pd.Series([i for i in range(10)],index=df.index)\n",
    "df['No.'] = num\n",
    "df"
   ],
   "metadata": {
    "collapsed": false,
    "pycharm": {
     "name": "#%%\n"
    }
   }
  },
  {
   "cell_type": "code",
   "execution_count": 28,
   "outputs": [
    {
     "name": "stdout",
     "text": [
      "  animal  age  visits priority\na    cat  2.5       1      yes\nb    cat  0.0       3      yes\nc  snake  0.5       2       no\nd    dog  NaN       3      yes\ne    dog  5.0       2       no\nf    cat  2.0       3       no\ng  snake  4.5       1       no\nh    cat  NaN       1      yes\ni    dog  7.0       2       no\nj    dog  3.0       1       no\n  animal  age  visits priority\na    cat  2.5       1      yes\nb    cat  0.0       3      yes\nc  snake  0.5       2       no\nd    dog  NaN       3      yes\ne    dog  5.0       2       no\nf    cat  2.0       3       no\ng  snake  4.5       1       no\nh    cat  NaN       1      yes\ni    dog  7.0       2       no\nj    dog  3.0       1       no\n"
     ],
     "output_type": "stream"
    }
   ],
   "source": [
    "# 根据 DataFrame 的下标值进行更改。\n",
    "df2\n",
    "#df.iat ?\n",
    "df2.iat[1,1] = 0\n",
    "# df2.iloc[[1],[1]] = 1\n",
    "print(df2)"
   ],
   "metadata": {
    "collapsed": false,
    "pycharm": {
     "name": "#%%\n",
     "is_executing": false
    }
   }
  },
  {
   "cell_type": "code",
   "execution_count": 29,
   "outputs": [
    {
     "data": {
      "text/plain": "  animal  age  visits priority\nf    cat  2.0       3       no\ng  snake  4.5       1       no",
      "text/html": "<div>\n<style scoped>\n    .dataframe tbody tr th:only-of-type {\n        vertical-align: middle;\n    }\n\n    .dataframe tbody tr th {\n        vertical-align: top;\n    }\n\n    .dataframe thead th {\n        text-align: right;\n    }\n</style>\n<table border=\"1\" class=\"dataframe\">\n  <thead>\n    <tr style=\"text-align: right;\">\n      <th></th>\n      <th>animal</th>\n      <th>age</th>\n      <th>visits</th>\n      <th>priority</th>\n    </tr>\n  </thead>\n  <tbody>\n    <tr>\n      <th>f</th>\n      <td>cat</td>\n      <td>2.0</td>\n      <td>3</td>\n      <td>no</td>\n    </tr>\n    <tr>\n      <th>g</th>\n      <td>snake</td>\n      <td>4.5</td>\n      <td>1</td>\n      <td>no</td>\n    </tr>\n  </tbody>\n</table>\n</div>"
     },
     "metadata": {},
     "output_type": "execute_result",
     "execution_count": 29
    }
   ],
   "source": [
    "# 根据 DataFrame 的标签对数据进行修改\n",
    "df2.loc['f',['age','visits']] = 1"
   ],
   "metadata": {
    "collapsed": false,
    "pycharm": {
     "name": "#%%\n",
     "is_executing": false
    }
   }
  },
  {
   "cell_type": "code",
   "execution_count": null,
   "outputs": [],
   "source": [
    "# DataFrame 求平均值操作\n",
    "df2.mean()"
   ],
   "metadata": {
    "collapsed": false,
    "pycharm": {
     "name": "#%%\n"
    }
   }
  },
  {
   "cell_type": "code",
   "execution_count": null,
   "outputs": [],
   "source": [
    "# 对 DataFrame 中任意列做求和操作\n",
    "df2.age.mean()\n",
    "df2['age'].mean()"
   ],
   "metadata": {
    "collapsed": false,
    "pycharm": {
     "name": "#%%\n"
    }
   }
  },
  {
   "cell_type": "code",
   "execution_count": null,
   "outputs": [],
   "source": [
    "# 字符串操作\n",
    "# 42. 将字符串转化为小写字母\n",
    "string = pd.Series(['A','B','C','Aaba','Baca',\n",
    "                    np.nan,'CABA','dog','cat'])\n",
    "print(string)\n",
    "print(string.str.lower())"
   ],
   "metadata": {
    "collapsed": false,
    "pycharm": {
     "name": "#%%\n"
    }
   }
  },
  {
   "cell_type": "code",
   "execution_count": null,
   "outputs": [],
   "source": [
    "# 将字符串转化为大写字母\n",
    "string.str.upper()\n",
    "string"
   ],
   "metadata": {
    "collapsed": false,
    "pycharm": {
     "name": "#%%\n"
    }
   }
  },
  {
   "cell_type": "code",
   "execution_count": null,
   "outputs": [],
   "source": [
    "# DataFrame 缺失值操作\n",
    "# 对缺失值进行填充\n",
    "df2 = df.copy()\n",
    "print(df2)\n",
    "# df3 = df2.fillna(value=2)\n",
    "# df3\n",
    "# 删除存在缺失值的行\n",
    "print(df2.dropna(how='any'))"
   ],
   "metadata": {
    "collapsed": false,
    "pycharm": {
     "name": "#%%\n"
    }
   }
  },
  {
   "cell_type": "code",
   "execution_count": null,
   "outputs": [],
   "source": [
    "# 46. DataFrame 按指定列合并\n",
    "left = pd.DataFrame({'key':['fool1','fool2'],\n",
    "                     'one':[1,2]})\n",
    "right = pd.DataFrame({'key':['fool2','fool4'],\n",
    "                      'two':[4,5]})\n",
    "print(left,'\\n',right)\n",
    "print(pd.merge(left,right,how='left',on='key'))"
   ],
   "metadata": {
    "collapsed": false,
    "pycharm": {
     "name": "#%%\n"
    }
   }
  },
  {
   "cell_type": "code",
   "execution_count": null,
   "outputs": [],
   "source": [
    "# DataFrame 文件操作\n",
    "# CSV文件写入\n",
    "df.to_csv('animal.csv')\n",
    "print('done')\n",
    "# csv文件读取\n",
    "df_animal = pd.read_csv('animal.csv')\n",
    "df_animal"
   ],
   "metadata": {
    "collapsed": false,
    "pycharm": {
     "name": "#%%\n"
    }
   }
  },
  {
   "cell_type": "code",
   "execution_count": null,
   "outputs": [],
   "source": [
    "# Excel 写入操作\n",
    "df.to_excel('animal.xlsx')\n",
    "print('done')\n",
    "# Excel 读取操作\n",
    "df_from_excel = pd.read_excel('animal.xlsx')\n",
    "df_from_excel"
   ],
   "metadata": {
    "collapsed": false,
    "pycharm": {
     "name": "#%%\n"
    }
   }
  },
  {
   "cell_type": "code",
   "execution_count": 32,
   "outputs": [
    {
     "data": {
      "text/plain": "2018-01-01    0.258524\n2018-01-02    0.674608\n2018-01-03    0.446277\n2018-01-04    0.205893\n2018-01-05    0.071949\n                ...   \n2018-12-27    0.363237\n2018-12-28    0.521889\n2018-12-29    0.703589\n2018-12-30    0.994653\n2018-12-31    0.509020\nFreq: D, Length: 365, dtype: float64"
     },
     "metadata": {},
     "output_type": "execute_result",
     "execution_count": 32
    }
   ],
   "source": [
    "# 进阶部分\n",
    "# 时间序列索引?\n",
    "# 建立一个以 2018 年每一天为索引，值为随机数的 Series\n",
    "index = pd.date_range(start='2018/01/01',end='2018/12/31',freq='D')\n",
    "s = pd.Series(np.random.rand(len(index)),index=index)\n",
    "s"
   ],
   "metadata": {
    "collapsed": false,
    "pycharm": {
     "name": "#%%\n",
     "is_executing": false
    }
   }
  },
  {
   "cell_type": "code",
   "execution_count": 44,
   "outputs": [
    {
     "data": {
      "text/plain": "53.00054861045211"
     },
     "metadata": {},
     "output_type": "execute_result",
     "execution_count": 44
    }
   ],
   "source": [
    "# 统计s 中每一个周三对应值的和?\n",
    "s[s.index.weekday == 2].sum()\n",
    "# s[(s.index.weekday== 2)|(s.index.weekday== 3)]"
   ],
   "metadata": {
    "collapsed": false,
    "pycharm": {
     "name": "#%%\n",
     "is_executing": false
    }
   }
  },
  {
   "cell_type": "code",
   "execution_count": 45,
   "outputs": [
    {
     "data": {
      "text/plain": "2018-01-31    0.512289\n2018-02-28    0.523043\n2018-03-31    0.440879\n2018-04-30    0.554229\n2018-05-31    0.459246\n2018-06-30    0.535191\n2018-07-31    0.525387\n2018-08-31    0.475450\n2018-09-30    0.477037\n2018-10-31    0.490470\n2018-11-30    0.501616\n2018-12-31    0.566028\nFreq: M, dtype: float64"
     },
     "metadata": {},
     "output_type": "execute_result",
     "execution_count": 45
    }
   ],
   "source": [
    "# 统计s中每个月值的平均值?\n",
    "s.resample('M').mean()"
   ],
   "metadata": {
    "collapsed": false,
    "pycharm": {
     "name": "#%%\n",
     "is_executing": false
    }
   }
  },
  {
   "cell_type": "code",
   "execution_count": 30,
   "outputs": [
    {
     "data": {
      "text/plain": "2019-09-02 15:22:00    11330\n2019-09-02 15:23:00    13446\nFreq: T, dtype: int32"
     },
     "metadata": {},
     "output_type": "execute_result",
     "execution_count": 30
    }
   ],
   "source": [
    "# 将 Series 中的时间进行转换（秒转分钟）\n",
    "index = pd.date_range('today',periods=100,freq='S')\n",
    "ts = pd.Series(np.random.randint(0,500,len(index)),index=index)\n",
    "ts\n",
    "ts.resample('Min').sum()"
   ],
   "metadata": {
    "collapsed": false,
    "pycharm": {
     "name": "#%%\n",
     "is_executing": false
    }
   }
  },
  {
   "cell_type": "code",
   "execution_count": null,
   "outputs": [],
   "source": [
    "# UTC 世界时间标准?\n",
    "index = pd.date_range('today',periods=1,freq='D')\n",
    "ts = pd.Series(np.random.rand(len(index)),index=index)\n",
    "ts_utc = ts.tz_localize('UTC')\n",
    "ts_utc"
   ],
   "metadata": {
    "collapsed": false,
    "pycharm": {
     "name": "#%%\n"
    }
   }
  },
  {
   "cell_type": "code",
   "execution_count": null,
   "outputs": [],
   "source": [
    "# 转换为上海所在时区\n",
    "ts_utc.tz_convert('Asia/Shanghai')"
   ],
   "metadata": {
    "collapsed": false,
    "pycharm": {
     "name": "#%%\n"
    }
   }
  },
  {
   "cell_type": "code",
   "execution_count": 46,
   "outputs": [
    {
     "name": "stdout",
     "text": [
      "2018-01-31    0.617459\n2018-02-28    0.202315\n2018-03-31    0.691190\n2018-04-30    0.978473\n2018-05-31    0.774461\nFreq: M, dtype: float64\n2018-01    0.617459\n2018-02    0.202315\n2018-03    0.691190\n2018-04    0.978473\n2018-05    0.774461\nFreq: M, dtype: float64\n"
     ],
     "output_type": "stream"
    },
    {
     "data": {
      "text/plain": "2018-01-01    0.617459\n2018-02-01    0.202315\n2018-03-01    0.691190\n2018-04-01    0.978473\n2018-05-01    0.774461\nFreq: MS, dtype: float64"
     },
     "metadata": {},
     "output_type": "execute_result",
     "execution_count": 46
    }
   ],
   "source": [
    "# 不同时间表示方式的转换\n",
    "rng = pd.date_range('1/1/2018',periods=5,freq='M')\n",
    "ts = pd.Series(np.random.rand(len(rng)),index=rng)\n",
    "print(ts)\n",
    "ps = ts.to_period()\n",
    "print(ps)\n",
    "ps.to_timestamp()"
   ],
   "metadata": {
    "collapsed": false,
    "pycharm": {
     "name": "#%%\n",
     "is_executing": false
    }
   }
  },
  {
   "cell_type": "code",
   "execution_count": 47,
   "outputs": [
    {
     "data": {
      "text/plain": "A  0    0.971431\n   1    0.507354\n   2    0.698699\n   3    0.681242\n   4    0.349346\n   5    0.226495\n   6    0.266527\n   7    0.925176\n   8    0.495436\n   9    0.722285\nB  0    0.975464\n   1    0.783908\n   2    0.904637\n   3    0.078014\n   4    0.897454\n   5    0.055667\n   6    0.121181\n   7    0.884572\n   8    0.962967\n   9    0.157036\nC  0    0.302213\n   1    0.752364\n   2    0.308193\n   3    0.584250\n   4    0.898826\n   5    0.785139\n   6    0.654974\n   7    0.463182\n   8    0.340591\n   9    0.358028\ndtype: float64"
     },
     "metadata": {},
     "output_type": "execute_result",
     "execution_count": 47
    }
   ],
   "source": [
    "# Series 多重索引\n",
    "# 创建多重索引 Series\n",
    "# 构建一个 letters = ['A', 'B', 'C'] \n",
    "# 和 numbers = list(range(10))为索引，值为随机数的多重索引 Series。\n",
    "letters = ['A','B','C']\n",
    "numbers = list(range(10))\n",
    "# 设置多重索引\n",
    "mul_index = pd.MultiIndex.from_product([letters,numbers])\n",
    "s = pd.Series(np.random.rand(30),index=mul_index)\n",
    "s"
   ],
   "metadata": {
    "collapsed": false,
    "pycharm": {
     "name": "#%%\n",
     "is_executing": false
    }
   }
  },
  {
   "cell_type": "code",
   "execution_count": 52,
   "outputs": [
    {
     "data": {
      "text/plain": "A  1    0.507354\n   3    0.681242\n   6    0.266527\nB  1    0.783908\n   3    0.078014\n   6    0.121181\nC  1    0.752364\n   3    0.584250\n   6    0.654974\ndtype: float64"
     },
     "metadata": {},
     "output_type": "execute_result",
     "execution_count": 52
    }
   ],
   "source": [
    "# 多重索引 Series 查询\n",
    "# s.index\n",
    "s.loc[:,[1,4,5]]"
   ],
   "metadata": {
    "collapsed": false,
    "pycharm": {
     "name": "#%%\n",
     "is_executing": false
    }
   }
  },
  {
   "cell_type": "code",
   "execution_count": 54,
   "outputs": [
    {
     "data": {
      "text/plain": "A  4    0.349346\n   5    0.226495\n   6    0.266527\n   7    0.925176\n   8    0.495436\n   9    0.722285\nB  4    0.897454\n   5    0.055667\n   6    0.121181\n   7    0.884572\n   8    0.962967\n   9    0.157036\nC  4    0.898826\n   5    0.785139\n   6    0.654974\n   7    0.463182\n   8    0.340591\n   9    0.358028\ndtype: float64"
     },
     "metadata": {},
     "output_type": "execute_result",
     "execution_count": 54
    }
   ],
   "source": [
    "# 多重索引 Series 切片?\n",
    "s.loc[pd.IndexSlice['A':'C',4:]]\n",
    "# s.loc[pd.IndexSlice['B':'C',5:]]"
   ],
   "metadata": {
    "collapsed": false,
    "pycharm": {
     "name": "#%%\n",
     "is_executing": false
    }
   }
  },
  {
   "cell_type": "code",
   "execution_count": 119,
   "outputs": [
    {
     "data": {
      "text/plain": "           A   B\nindex1 1   0   1\n       2   2   3\n       3   4   5\nindex2 1   6   7\n       2   8   9\n       3  10  11",
      "text/html": "<div>\n<style scoped>\n    .dataframe tbody tr th:only-of-type {\n        vertical-align: middle;\n    }\n\n    .dataframe tbody tr th {\n        vertical-align: top;\n    }\n\n    .dataframe thead th {\n        text-align: right;\n    }\n</style>\n<table border=\"1\" class=\"dataframe\">\n  <thead>\n    <tr style=\"text-align: right;\">\n      <th></th>\n      <th></th>\n      <th>A</th>\n      <th>B</th>\n    </tr>\n  </thead>\n  <tbody>\n    <tr>\n      <th rowspan=\"3\" valign=\"top\">index1</th>\n      <th>1</th>\n      <td>0</td>\n      <td>1</td>\n    </tr>\n    <tr>\n      <th>2</th>\n      <td>2</td>\n      <td>3</td>\n    </tr>\n    <tr>\n      <th>3</th>\n      <td>4</td>\n      <td>5</td>\n    </tr>\n    <tr>\n      <th rowspan=\"3\" valign=\"top\">index2</th>\n      <th>1</th>\n      <td>6</td>\n      <td>7</td>\n    </tr>\n    <tr>\n      <th>2</th>\n      <td>8</td>\n      <td>9</td>\n    </tr>\n    <tr>\n      <th>3</th>\n      <td>10</td>\n      <td>11</td>\n    </tr>\n  </tbody>\n</table>\n</div>"
     },
     "metadata": {},
     "output_type": "execute_result",
     "execution_count": 119
    }
   ],
   "source": [
    "# 根据多重索引创建 DataFrame\n",
    "# 创建一个以 letters = ['A', 'B'] 和\n",
    "# numbers = list(range(6))为索引，值为随机数据的多重索引 DataFrame。\n",
    "letters =['index1','index2']\n",
    "numbers = list(range(1,4))\n",
    "mul_index = pd.MultiIndex.from_product([letters,numbers])\n",
    "# df = pd.DataFrame(np.arange(12).reshape((6,2)),index=[list('AAABBB'),list('123123')],columns=['A','B'])\n",
    "df = pd.DataFrame(np.arange(12).reshape((6,2)),index=mul_index,columns=['A','B'])\n",
    "df"
   ],
   "metadata": {
    "collapsed": false,
    "pycharm": {
     "name": "#%%\n",
     "is_executing": false
    }
   }
  },
  {
   "cell_type": "code",
   "execution_count": 132,
   "outputs": [
    {
     "data": {
      "text/plain": "         A   B\nsecond        \n1        6   7\n2        8   9\n3       10  11",
      "text/html": "<div>\n<style scoped>\n    .dataframe tbody tr th:only-of-type {\n        vertical-align: middle;\n    }\n\n    .dataframe tbody tr th {\n        vertical-align: top;\n    }\n\n    .dataframe thead th {\n        text-align: right;\n    }\n</style>\n<table border=\"1\" class=\"dataframe\">\n  <thead>\n    <tr style=\"text-align: right;\">\n      <th></th>\n      <th>A</th>\n      <th>B</th>\n    </tr>\n    <tr>\n      <th>second</th>\n      <th></th>\n      <th></th>\n    </tr>\n  </thead>\n  <tbody>\n    <tr>\n      <th>1</th>\n      <td>6</td>\n      <td>7</td>\n    </tr>\n    <tr>\n      <th>2</th>\n      <td>8</td>\n      <td>9</td>\n    </tr>\n    <tr>\n      <th>3</th>\n      <td>10</td>\n      <td>11</td>\n    </tr>\n  </tbody>\n</table>\n</div>"
     },
     "metadata": {},
     "output_type": "execute_result",
     "execution_count": 132
    }
   ],
   "source": [
    "# 多重索引设置列名称\n",
    "df.index.names =['first','second']"
   ],
   "metadata": {
    "collapsed": false,
    "pycharm": {
     "name": "#%%\n",
     "is_executing": false
    }
   }
  },
  {
   "cell_type": "code",
   "execution_count": 99,
   "outputs": [
    {
     "data": {
      "text/plain": "         A   B\nsecond        \n1        6   8\n2       10  12\n3       14  16",
      "text/html": "<div>\n<style scoped>\n    .dataframe tbody tr th:only-of-type {\n        vertical-align: middle;\n    }\n\n    .dataframe tbody tr th {\n        vertical-align: top;\n    }\n\n    .dataframe thead th {\n        text-align: right;\n    }\n</style>\n<table border=\"1\" class=\"dataframe\">\n  <thead>\n    <tr style=\"text-align: right;\">\n      <th></th>\n      <th>A</th>\n      <th>B</th>\n    </tr>\n    <tr>\n      <th>second</th>\n      <th></th>\n      <th></th>\n    </tr>\n  </thead>\n  <tbody>\n    <tr>\n      <th>1</th>\n      <td>6</td>\n      <td>8</td>\n    </tr>\n    <tr>\n      <th>2</th>\n      <td>10</td>\n      <td>12</td>\n    </tr>\n    <tr>\n      <th>3</th>\n      <td>14</td>\n      <td>16</td>\n    </tr>\n  </tbody>\n</table>\n</div>"
     },
     "metadata": {},
     "output_type": "execute_result",
     "execution_count": 99
    }
   ],
   "source": [
    "# DataFrame 多重索引分组求和\n",
    "df.groupby(by='second').sum()\n",
    "# df.groupby(by=['first']).sum()"
   ],
   "metadata": {
    "collapsed": false,
    "pycharm": {
     "name": "#%%\n",
     "is_executing": false
    }
   }
  },
  {
   "cell_type": "code",
   "execution_count": 138,
   "outputs": [
    {
     "data": {
      "text/plain": "first   second   \nindex1  1       A     0\n                B     1\n        2       A     2\n                B     3\n        3       A     4\n                B     5\nindex2  1       A     6\n                B     7\n        2       A     8\n                B     9\n        3       A    10\n                B    11\ndtype: int32"
     },
     "metadata": {},
     "output_type": "execute_result",
     "execution_count": 138
    }
   ],
   "source": [
    "# DataFrame 行列名称转换(二维表->一维表)\n",
    "print(df)\n",
    "print(df.stack())"
   ],
   "metadata": {
    "collapsed": false,
    "pycharm": {
     "name": "#%%\n",
     "is_executing": false
    }
   }
  },
  {
   "cell_type": "code",
   "execution_count": null,
   "outputs": [],
   "source": [
    "# DataFrame 索引转换\n",
    "print(df)\n",
    "print(df.unstack())"
   ],
   "metadata": {
    "collapsed": false,
    "pycharm": {
     "name": "#%%\n"
    }
   }
  },
  {
   "cell_type": "code",
   "execution_count": 139,
   "outputs": [
    {
     "data": {
      "text/plain": "  animal  age  visits priority\nb    cat  3.0       3      yes\nc  snake  0.5       2       no\nd    dog  NaN       3      yes\ne    dog  5.0       2       no\nf    cat  2.0       3       no\ni    dog  7.0       2       no",
      "text/html": "<div>\n<style scoped>\n    .dataframe tbody tr th:only-of-type {\n        vertical-align: middle;\n    }\n\n    .dataframe tbody tr th {\n        vertical-align: top;\n    }\n\n    .dataframe thead th {\n        text-align: right;\n    }\n</style>\n<table border=\"1\" class=\"dataframe\">\n  <thead>\n    <tr style=\"text-align: right;\">\n      <th></th>\n      <th>animal</th>\n      <th>age</th>\n      <th>visits</th>\n      <th>priority</th>\n    </tr>\n  </thead>\n  <tbody>\n    <tr>\n      <th>b</th>\n      <td>cat</td>\n      <td>3.0</td>\n      <td>3</td>\n      <td>yes</td>\n    </tr>\n    <tr>\n      <th>c</th>\n      <td>snake</td>\n      <td>0.5</td>\n      <td>2</td>\n      <td>no</td>\n    </tr>\n    <tr>\n      <th>d</th>\n      <td>dog</td>\n      <td>NaN</td>\n      <td>3</td>\n      <td>yes</td>\n    </tr>\n    <tr>\n      <th>e</th>\n      <td>dog</td>\n      <td>5.0</td>\n      <td>2</td>\n      <td>no</td>\n    </tr>\n    <tr>\n      <th>f</th>\n      <td>cat</td>\n      <td>2.0</td>\n      <td>3</td>\n      <td>no</td>\n    </tr>\n    <tr>\n      <th>i</th>\n      <td>dog</td>\n      <td>7.0</td>\n      <td>2</td>\n      <td>no</td>\n    </tr>\n  </tbody>\n</table>\n</div>"
     },
     "metadata": {},
     "output_type": "execute_result",
     "execution_count": 139
    }
   ],
   "source": [
    "# DataFrame 条件查找\n",
    "data = {'animal': ['cat', 'cat', 'snake', 'dog', 'dog', 'cat', 'snake', 'cat', 'dog', 'dog'],\n",
    "'age': [2.5, 3, 0.5, np.nan, 5, 2, 4.5, np.nan, 7, 3],\n",
    "'visits': [1, 3, 2, 3, 2, 3, 1, 1, 2, 1],\n",
    "'priority': ['yes', 'yes', 'no', 'yes', 'no', 'no', 'no', 'yes', 'no', 'no']}\n",
    "labels = ['a', 'b', 'c', 'd', 'e', 'f', 'g', 'h', 'i', 'j']\n",
    "df = pd.DataFrame(data, index=labels)\n",
    "df[df['age']>3]\n",
    "df[df.visits>=2]"
   ],
   "metadata": {
    "collapsed": false,
    "pycharm": {
     "name": "#%%\n",
     "is_executing": false
    }
   }
  },
  {
   "cell_type": "code",
   "execution_count": null,
   "outputs": [],
   "source": [
    "# 根据行列索引切片\n",
    "df.iloc[:3,:]"
   ],
   "metadata": {
    "collapsed": false,
    "pycharm": {
     "name": "#%%\n"
    }
   }
  },
  {
   "cell_type": "code",
   "execution_count": null,
   "outputs": [],
   "source": [
    "# DataFrame 多重条件查询\n",
    "df[(df.animal=='cat') & (df.age>=3)]"
   ],
   "metadata": {
    "collapsed": false,
    "pycharm": {
     "name": "#%%\n"
    }
   }
  },
  {
   "cell_type": "code",
   "execution_count": null,
   "outputs": [],
   "source": [
    "# DataFrame 按关键字查询\n",
    "df[df.animal.isin(['cat','snake'])]"
   ],
   "metadata": {
    "collapsed": false,
    "pycharm": {
     "name": "#%%\n"
    }
   }
  },
  {
   "cell_type": "code",
   "execution_count": 142,
   "outputs": [
    {
     "data": {
      "text/plain": "  animal  visits\na    cat       1\nb    cat       3\nc  snake       2\nd    dog       3",
      "text/html": "<div>\n<style scoped>\n    .dataframe tbody tr th:only-of-type {\n        vertical-align: middle;\n    }\n\n    .dataframe tbody tr th {\n        vertical-align: top;\n    }\n\n    .dataframe thead th {\n        text-align: right;\n    }\n</style>\n<table border=\"1\" class=\"dataframe\">\n  <thead>\n    <tr style=\"text-align: right;\">\n      <th></th>\n      <th>animal</th>\n      <th>visits</th>\n    </tr>\n  </thead>\n  <tbody>\n    <tr>\n      <th>a</th>\n      <td>cat</td>\n      <td>1</td>\n    </tr>\n    <tr>\n      <th>b</th>\n      <td>cat</td>\n      <td>3</td>\n    </tr>\n    <tr>\n      <th>c</th>\n      <td>snake</td>\n      <td>2</td>\n    </tr>\n    <tr>\n      <th>d</th>\n      <td>dog</td>\n      <td>3</td>\n    </tr>\n  </tbody>\n</table>\n</div>"
     },
     "metadata": {},
     "output_type": "execute_result",
     "execution_count": 142
    }
   ],
   "source": [
    "# 70. DataFrame 按标签及列名查询\n",
    "df.loc[:,['animal','visits']][:4]"
   ],
   "metadata": {
    "collapsed": false,
    "pycharm": {
     "name": "#%%\n",
     "is_executing": false
    }
   }
  },
  {
   "cell_type": "code",
   "execution_count": null,
   "outputs": [],
   "source": [
    "# DataFrame 多条件排序\n",
    "print(df)\n",
    "df.sort_values(by=['age','visits'],ascending=[True,False])"
   ],
   "metadata": {
    "collapsed": false,
    "pycharm": {
     "name": "#%%\n"
    }
   }
  },
  {
   "cell_type": "code",
   "execution_count": null,
   "outputs": [],
   "source": [
    "# 72.DataFrame 多值替换?\n",
    "df['priority'].map({'yes':True,\n",
    "                    'no':False})\n",
    "df\n",
    "# df['priority'].replace()"
   ],
   "metadata": {
    "collapsed": false,
    "pycharm": {
     "name": "#%%\n"
    }
   }
  },
  {
   "cell_type": "code",
   "execution_count": null,
   "outputs": [],
   "source": [
    "# DataFrame 分组求和\n",
    "df.groupby(by='age').sum()"
   ],
   "metadata": {
    "collapsed": false,
    "pycharm": {
     "name": "#%%\n"
    }
   }
  },
  {
   "cell_type": "code",
   "execution_count": null,
   "outputs": [],
   "source": [
    "# 使用列表拼接多个 DataFrame\n",
    "temp_df1 = pd.DataFrame(np.random.randn(5, 4)) # 生成由随机数组成的 DataFrame 1\n",
    "temp_df2 = pd.DataFrame(np.random.randn(5, 4)) # 生成由随机数组成的 DataFrame 2\n",
    "temp_df3 = pd.DataFrame(np.random.randn(5, 4)) # 生成由随机数组成的 DataFrame 3\n",
    "concat_df = pd.concat([temp_df1,temp_df2,temp_df3],axis=1)\n",
    "print(concat_df.shape)"
   ],
   "metadata": {
    "collapsed": false,
    "pycharm": {
     "name": "#%%\n"
    }
   }
  },
  {
   "cell_type": "code",
   "execution_count": 144,
   "outputs": [
    {
     "name": "stdout",
     "text": [
      "   a  b  c  d  e  f  g  h  i  j\n0  5  8  1  1  6  3  8  7  2  7\n1  2  1  8  7  9  4  5  8  4  8\n2  6  7  1  4  9  7  7  4  3  5\n3  8  4  9  9  8  1  7  2  5  8\n4  7  1  8  6  1  5  7  6  4  6\n0    48\n1    56\n2    53\n3    61\n4    51\ndtype: int64\na    28\nb    21\nc    27\nd    27\ne    33\nf    20\ng    34\nh    27\ni    18\nj    34\ndtype: int64\n"
     ],
     "output_type": "stream"
    },
    {
     "data": {
      "text/plain": "'i'"
     },
     "metadata": {},
     "output_type": "execute_result",
     "execution_count": 144
    }
   ],
   "source": [
    "# 找出 DataFrame 表中和最小的列\n",
    "# idxmax(), idxmin() 为 Series 函数返回最大最小值的索引值\n",
    "df = pd.DataFrame(np.random.randint(1,10,size=(5,10)),columns=list('abcdefghij'))\n",
    "print(df)\n",
    "print(df.sum(axis=1))\n",
    "print(df.sum(axis=0))\n",
    "df.sum().idxmin()"
   ],
   "metadata": {
    "collapsed": false,
    "pycharm": {
     "name": "#%%\n",
     "is_executing": false
    }
   }
  },
  {
   "cell_type": "code",
   "execution_count": null,
   "outputs": [],
   "source": [
    "# DataFrame 中每个元素减去每一行的平均值\n",
    "df = pd.DataFrame(np.random.random(size=(5, 3)))\n",
    "print(df)\n",
    "print(df.mean(axis=1))\n",
    "df - df.mean(axis=1)"
   ],
   "metadata": {
    "collapsed": false,
    "pycharm": {
     "name": "#%%\n"
    }
   }
  },
  {
   "cell_type": "code",
   "execution_count": 166,
   "outputs": [
    {
     "data": {
      "text/plain": "910"
     },
     "metadata": {},
     "output_type": "execute_result",
     "execution_count": 166
    }
   ],
   "source": [
    "# DataFrame 分组，并得到每一组中最大三个数之和?\n",
    "df = pd.DataFrame({'A': list('aaabbcaabcccbbc'),\n",
    "                   'B': [12, 345, 3, 1, 45, 14, 4, 52, 54, 23, 235, 21, 57, 3, 87]})\n",
    "# print(df)\n",
    "df.groupby(by='A')['B'].nlargest(3).sum()\n",
    "# df.groupby(by='A')['B'].nlargest(3).sum(level=0)"
   ],
   "metadata": {
    "collapsed": false,
    "pycharm": {
     "name": "#%%\n",
     "is_executing": false
    }
   }
  },
  {
   "cell_type": "code",
   "execution_count": 167,
   "outputs": [
    {
     "name": "stdout",
     "text": [
      "        A  B    C         D         E\n0     one  A  foo  0.254431  0.858760\n1     one  B  foo -2.731389  0.987645\n2     two  C  foo  0.184940  0.023321\n3   three  A  bar -0.361559  1.921649\n4     one  B  bar  1.854459  0.667916\n5     one  C  bar  1.299977  1.891927\n6     two  A  foo -1.824528  0.896464\n7   three  B  foo  0.999477 -1.356779\n8     one  C  foo -0.957683  0.301768\n9     one  A  bar -0.224363 -0.759267\n10    two  B  bar  0.173312  1.230098\n11  three  C  bar  1.569106  1.356977\n"
     ],
     "output_type": "stream"
    },
    {
     "data": {
      "text/plain": "                D         E\nA     B                    \none   A  0.015034  0.049746\n      B -0.438465  0.827781\n      C  0.171147  1.096848\nthree A -0.361559  1.921649\n      B  0.999477 -1.356779\n      C  1.569106  1.356977\ntwo   A -1.824528  0.896464\n      B  0.173312  1.230098\n      C  0.184940  0.023321",
      "text/html": "<div>\n<style scoped>\n    .dataframe tbody tr th:only-of-type {\n        vertical-align: middle;\n    }\n\n    .dataframe tbody tr th {\n        vertical-align: top;\n    }\n\n    .dataframe thead th {\n        text-align: right;\n    }\n</style>\n<table border=\"1\" class=\"dataframe\">\n  <thead>\n    <tr style=\"text-align: right;\">\n      <th></th>\n      <th></th>\n      <th>D</th>\n      <th>E</th>\n    </tr>\n    <tr>\n      <th>A</th>\n      <th>B</th>\n      <th></th>\n      <th></th>\n    </tr>\n  </thead>\n  <tbody>\n    <tr>\n      <th rowspan=\"3\" valign=\"top\">one</th>\n      <th>A</th>\n      <td>0.015034</td>\n      <td>0.049746</td>\n    </tr>\n    <tr>\n      <th>B</th>\n      <td>-0.438465</td>\n      <td>0.827781</td>\n    </tr>\n    <tr>\n      <th>C</th>\n      <td>0.171147</td>\n      <td>1.096848</td>\n    </tr>\n    <tr>\n      <th rowspan=\"3\" valign=\"top\">three</th>\n      <th>A</th>\n      <td>-0.361559</td>\n      <td>1.921649</td>\n    </tr>\n    <tr>\n      <th>B</th>\n      <td>0.999477</td>\n      <td>-1.356779</td>\n    </tr>\n    <tr>\n      <th>C</th>\n      <td>1.569106</td>\n      <td>1.356977</td>\n    </tr>\n    <tr>\n      <th rowspan=\"3\" valign=\"top\">two</th>\n      <th>A</th>\n      <td>-1.824528</td>\n      <td>0.896464</td>\n    </tr>\n    <tr>\n      <th>B</th>\n      <td>0.173312</td>\n      <td>1.230098</td>\n    </tr>\n    <tr>\n      <th>C</th>\n      <td>0.184940</td>\n      <td>0.023321</td>\n    </tr>\n  </tbody>\n</table>\n</div>"
     },
     "metadata": {},
     "output_type": "execute_result",
     "execution_count": 167
    }
   ],
   "source": [
    "# 78. 透视表的创建\n",
    "df = pd.DataFrame({'A': ['one', 'one', 'two', 'three'] * 3,\n",
    "                   'B': ['A', 'B', 'C'] * 4,\n",
    "                   'C': ['foo', 'foo', 'foo', 'bar', 'bar', 'bar'] * 2,\n",
    "                   'D': np.random.randn(12),\n",
    "                   'E': np.random.randn(12)})\n",
    "print(df)\n",
    "pd.pivot_table(df,index=['A','B'])"
   ],
   "metadata": {
    "collapsed": false,
    "pycharm": {
     "name": "#%%\n",
     "is_executing": false
    }
   }
  },
  {
   "cell_type": "code",
   "execution_count": null,
   "outputs": [],
   "source": [
    "# 透视表按指定行进行聚合\n",
    "# 将该 DataFrame 的 D 列聚合，\n",
    "# 按照 A,B 列为索引进行聚合，聚合的方式为默认求均值。\n",
    "pd.pivot_table(df,values='D',index=['A','B'])"
   ],
   "metadata": {
    "collapsed": false,
    "pycharm": {
     "name": "#%%\n"
    }
   }
  },
  {
   "cell_type": "code",
   "execution_count": 168,
   "outputs": [
    {
     "data": {
      "text/plain": "              sum  len\n                D    D\nA     B               \none   A  0.030068  2.0\n      B -0.876930  2.0\n      C  0.342294  2.0\nthree A -0.361559  1.0\n      B  0.999477  1.0\n      C  1.569106  1.0\ntwo   A -1.824528  1.0\n      B  0.173312  1.0\n      C  0.184940  1.0",
      "text/html": "<div>\n<style scoped>\n    .dataframe tbody tr th:only-of-type {\n        vertical-align: middle;\n    }\n\n    .dataframe tbody tr th {\n        vertical-align: top;\n    }\n\n    .dataframe thead tr th {\n        text-align: left;\n    }\n\n    .dataframe thead tr:last-of-type th {\n        text-align: right;\n    }\n</style>\n<table border=\"1\" class=\"dataframe\">\n  <thead>\n    <tr>\n      <th></th>\n      <th></th>\n      <th>sum</th>\n      <th>len</th>\n    </tr>\n    <tr>\n      <th></th>\n      <th></th>\n      <th>D</th>\n      <th>D</th>\n    </tr>\n    <tr>\n      <th>A</th>\n      <th>B</th>\n      <th></th>\n      <th></th>\n    </tr>\n  </thead>\n  <tbody>\n    <tr>\n      <th rowspan=\"3\" valign=\"top\">one</th>\n      <th>A</th>\n      <td>0.030068</td>\n      <td>2.0</td>\n    </tr>\n    <tr>\n      <th>B</th>\n      <td>-0.876930</td>\n      <td>2.0</td>\n    </tr>\n    <tr>\n      <th>C</th>\n      <td>0.342294</td>\n      <td>2.0</td>\n    </tr>\n    <tr>\n      <th rowspan=\"3\" valign=\"top\">three</th>\n      <th>A</th>\n      <td>-0.361559</td>\n      <td>1.0</td>\n    </tr>\n    <tr>\n      <th>B</th>\n      <td>0.999477</td>\n      <td>1.0</td>\n    </tr>\n    <tr>\n      <th>C</th>\n      <td>1.569106</td>\n      <td>1.0</td>\n    </tr>\n    <tr>\n      <th rowspan=\"3\" valign=\"top\">two</th>\n      <th>A</th>\n      <td>-1.824528</td>\n      <td>1.0</td>\n    </tr>\n    <tr>\n      <th>B</th>\n      <td>0.173312</td>\n      <td>1.0</td>\n    </tr>\n    <tr>\n      <th>C</th>\n      <td>0.184940</td>\n      <td>1.0</td>\n    </tr>\n  </tbody>\n</table>\n</div>"
     },
     "metadata": {},
     "output_type": "execute_result",
     "execution_count": 168
    }
   ],
   "source": [
    "# 透视表聚合方式定义\n",
    "pd.pivot_table(df,values='D',index=['A','B'],aggfunc=[np.sum,len])"
   ],
   "metadata": {
    "collapsed": false,
    "pycharm": {
     "name": "#%%\n",
     "is_executing": false
    }
   }
  },
  {
   "cell_type": "code",
   "execution_count": 169,
   "outputs": [
    {
     "data": {
      "text/plain": "C             bar       foo\nA     B                    \none   A -0.224363  0.254431\n      B  1.854459 -2.731389\n      C  1.299977 -0.957683\nthree A -0.361559       NaN\n      B       NaN  0.999477\n      C  1.569106       NaN\ntwo   A       NaN -1.824528\n      B  0.173312       NaN\n      C       NaN  0.184940",
      "text/html": "<div>\n<style scoped>\n    .dataframe tbody tr th:only-of-type {\n        vertical-align: middle;\n    }\n\n    .dataframe tbody tr th {\n        vertical-align: top;\n    }\n\n    .dataframe thead th {\n        text-align: right;\n    }\n</style>\n<table border=\"1\" class=\"dataframe\">\n  <thead>\n    <tr style=\"text-align: right;\">\n      <th></th>\n      <th>C</th>\n      <th>bar</th>\n      <th>foo</th>\n    </tr>\n    <tr>\n      <th>A</th>\n      <th>B</th>\n      <th></th>\n      <th></th>\n    </tr>\n  </thead>\n  <tbody>\n    <tr>\n      <th rowspan=\"3\" valign=\"top\">one</th>\n      <th>A</th>\n      <td>-0.224363</td>\n      <td>0.254431</td>\n    </tr>\n    <tr>\n      <th>B</th>\n      <td>1.854459</td>\n      <td>-2.731389</td>\n    </tr>\n    <tr>\n      <th>C</th>\n      <td>1.299977</td>\n      <td>-0.957683</td>\n    </tr>\n    <tr>\n      <th rowspan=\"3\" valign=\"top\">three</th>\n      <th>A</th>\n      <td>-0.361559</td>\n      <td>NaN</td>\n    </tr>\n    <tr>\n      <th>B</th>\n      <td>NaN</td>\n      <td>0.999477</td>\n    </tr>\n    <tr>\n      <th>C</th>\n      <td>1.569106</td>\n      <td>NaN</td>\n    </tr>\n    <tr>\n      <th rowspan=\"3\" valign=\"top\">two</th>\n      <th>A</th>\n      <td>NaN</td>\n      <td>-1.824528</td>\n    </tr>\n    <tr>\n      <th>B</th>\n      <td>0.173312</td>\n      <td>NaN</td>\n    </tr>\n    <tr>\n      <th>C</th>\n      <td>NaN</td>\n      <td>0.184940</td>\n    </tr>\n  </tbody>\n</table>\n</div>"
     },
     "metadata": {},
     "output_type": "execute_result",
     "execution_count": 169
    }
   ],
   "source": [
    "# 透视表利用额外列进行辅助分割\n",
    "pd.pivot_table(df,values='D',index=['A','B'],columns='C',aggfunc=np.sum)"
   ],
   "metadata": {
    "collapsed": false,
    "pycharm": {
     "name": "#%%\n",
     "is_executing": false
    }
   }
  },
  {
   "cell_type": "code",
   "execution_count": null,
   "outputs": [],
   "source": [
    "# 透视表的缺省值处理\n",
    "pd.pivot_table(df,values='D',index=['A','B'],columns='C',aggfunc=np.sum,fill_value=0)"
   ],
   "metadata": {
    "collapsed": false,
    "pycharm": {
     "name": "#%%\n"
    }
   }
  },
  {
   "cell_type": "code",
   "execution_count": 170,
   "outputs": [
    {
     "data": {
      "text/plain": "   id  raw_grade\n0   1  Very Good\n1   2       Good\n2   3       Good\n3   4  Very Good\n4   5  Very Good\n5   6   Very Bad",
      "text/html": "<div>\n<style scoped>\n    .dataframe tbody tr th:only-of-type {\n        vertical-align: middle;\n    }\n\n    .dataframe tbody tr th {\n        vertical-align: top;\n    }\n\n    .dataframe thead th {\n        text-align: right;\n    }\n</style>\n<table border=\"1\" class=\"dataframe\">\n  <thead>\n    <tr style=\"text-align: right;\">\n      <th></th>\n      <th>id</th>\n      <th>raw_grade</th>\n    </tr>\n  </thead>\n  <tbody>\n    <tr>\n      <th>0</th>\n      <td>1</td>\n      <td>Very Good</td>\n    </tr>\n    <tr>\n      <th>1</th>\n      <td>2</td>\n      <td>Good</td>\n    </tr>\n    <tr>\n      <th>2</th>\n      <td>3</td>\n      <td>Good</td>\n    </tr>\n    <tr>\n      <th>3</th>\n      <td>4</td>\n      <td>Very Good</td>\n    </tr>\n    <tr>\n      <th>4</th>\n      <td>5</td>\n      <td>Very Good</td>\n    </tr>\n    <tr>\n      <th>5</th>\n      <td>6</td>\n      <td>Very Bad</td>\n    </tr>\n  </tbody>\n</table>\n</div>"
     },
     "metadata": {},
     "output_type": "execute_result",
     "execution_count": 170
    }
   ],
   "source": [
    "# 绝对类型???\n",
    "# 在数据的形式上主要包括数量型和性质型，数量型表示着数据可数范围可变，\n",
    "# 而性质型表示范围已经确定不可改变，绝对型数据就是性质型数据的一种。\n",
    "# 83. 绝对型数据定义\n",
    "df = pd.DataFrame({\"id\": [1, 2, 3, 4, 5, 6], \n",
    "                   \"raw_grade\": ['a', 'b', 'b', 'a', 'a', 'e']})\n",
    "df['raw_grade'] = df['raw_grade'].astype('category')\n",
    "\n",
    "# 对绝对型数据重命名\n",
    "df['raw_grade'].cat.categories = ['Very Good','Good','Very Bad']\n",
    "\n",
    "# 重新排列绝对型数据并补充相应的缺省值\n",
    "df['raw_grade'].cat.set_categories([\"very bad\", \"bad\", \"medium\", \"good\", \"very good\"])\n",
    "df"
   ],
   "metadata": {
    "collapsed": false,
    "pycharm": {
     "name": "#%%\n",
     "is_executing": false
    }
   }
  },
  {
   "cell_type": "code",
   "execution_count": null,
   "outputs": [],
   "source": [
    "# 对绝对型数据进行排序\n",
    "df.sort_values(by='raw_grade')"
   ],
   "metadata": {
    "collapsed": false,
    "pycharm": {
     "name": "#%%\n"
    }
   }
  },
  {
   "cell_type": "code",
   "execution_count": null,
   "outputs": [],
   "source": [
    "# 对绝对型数据进行分组\n",
    "df.groupby(by='raw_grade').size()"
   ],
   "metadata": {
    "collapsed": false,
    "pycharm": {
     "name": "#%%\n"
    }
   }
  },
  {
   "cell_type": "code",
   "execution_count": null,
   "outputs": [],
   "source": [
    "# 数据清洗\n",
    "# 在FilghtNumber中有数值缺失，其中数值为按 10 增长，\n",
    "# 补充相应的缺省值使得数据完整，并让数据为 int 类型。\n",
    "df = pd.DataFrame({'From_To': ['LoNDon_paris', 'MAdrid_miLAN', 'londON_StockhOlm','Budapest_PaRis', 'Brussels_londOn'],\n",
    "                   'FlightNumber': [10045, np.nan, 10065, np.nan, 10085],\n",
    "                   'RecentDelays': [[23, 47], [], [24, 43, 87], [13], [67, 32]],\n",
    "                   'Airline': ['KLM(!)', '<Air France> (12)', '(British Airways. )','12. Air France', '\"Swiss Air\"']})\n",
    "\n",
    "df['FlightNumber'] = df['FlightNumber'].interpolate().astype(int)\n",
    "df"
   ],
   "metadata": {
    "collapsed": false,
    "pycharm": {
     "name": "#%%\n"
    }
   }
  },
  {
   "cell_type": "code",
   "execution_count": null,
   "outputs": [],
   "source": [
    "# 数据列拆分\n",
    "# 其中From_to应该为两独立的两列From和To，\n",
    "# 将From_to依照_拆分为独立两列建立为一个新表。\n",
    "temp = df['From_To'].str.split('_',expand=True)\n",
    "temp.columns = ['From','To']\n",
    "temp"
   ],
   "metadata": {
    "collapsed": false,
    "pycharm": {
     "name": "#%%\n"
    }
   }
  },
  {
   "cell_type": "code",
   "execution_count": null,
   "outputs": [],
   "source": [
    "# 字符标准化\n",
    "temp['From'] = temp['From'].str.capitalize()\n",
    "temp['To'] = temp['To'].str.capitalize()\n",
    "temp"
   ],
   "metadata": {
    "collapsed": false,
    "pycharm": {
     "name": "#%%\n"
    }
   }
  },
  {
   "cell_type": "code",
   "execution_count": null,
   "outputs": [],
   "source": [
    "# 删除坏数据加入整理好的数据\n",
    "df = df.drop(columns='From_To')\n",
    "df = df.join(temp)\n",
    "df"
   ],
   "metadata": {
    "collapsed": false,
    "pycharm": {
     "name": "#%%\n"
    }
   }
  },
  {
   "cell_type": "code",
   "execution_count": null,
   "outputs": [],
   "source": [
    "# 去除多余字符\n",
    "print(df['Airline'])\n",
    "df['Airline'] = df['Airline'].str.extract('([a-zA-Z\\s]+)',expand=True)\n",
    "df['Airline'] = df['Airline'].str.strip()\n",
    "df['Airline']"
   ],
   "metadata": {
    "collapsed": false,
    "pycharm": {
     "name": "#%%\n"
    }
   }
  },
  {
   "cell_type": "code",
   "execution_count": null,
   "outputs": [],
   "source": [
    "# 字符标准化\n",
    "temp['From'] = temp['From'].str.capitalize()\n",
    "temp['To'] = temp['To'].str.capitalize()\n",
    "temp"
   ],
   "metadata": {
    "collapsed": false,
    "pycharm": {
     "name": "#%%\n"
    }
   }
  },
  {
   "cell_type": "code",
   "execution_count": null,
   "outputs": [],
   "source": [
    "# 格式规范\n",
    "delays = df['RecentDelays'].apply(pd.Series)\n",
    "delays.columns = ['delay_{}'.format(n) \n",
    "                  for n in range(1,len(delays.columns)+1)]\n",
    "df = df.drop(columns='RecentDelays').join(delays)\n",
    "df"
   ],
   "metadata": {
    "collapsed": false,
    "pycharm": {
     "name": "#%%\n"
    }
   }
  },
  {
   "cell_type": "code",
   "execution_count": null,
   "outputs": [],
   "source": [
    "# 数据预处理\n",
    "# 信息区间划分\n",
    "df=pd.DataFrame({'name':['Alice','Bob','Candy','Dany','Ella','Frank','Grace','Jenny'],\n",
    "                 'grades':[58,83,79,65,93,45,61,88]})\n",
    "def choice(x):\n",
    "    if x > 60:\n",
    "        return 1\n",
    "    else:\n",
    "        return 0 \n",
    "df.grades = pd.Serise(map(lambda x :choice(x),df.grades))\n",
    "df"
   ],
   "metadata": {
    "collapsed": false,
    "pycharm": {
     "name": "#%%\n"
    }
   }
  },
  {
   "cell_type": "code",
   "execution_count": 96,
   "outputs": [
    {
     "data": {
      "text/plain": "    A\n0   1\n1   2\n3   3\n4   4\n5   5\n8   6\n9   7\n10  3\n11  7",
      "text/html": "<div>\n<style scoped>\n    .dataframe tbody tr th:only-of-type {\n        vertical-align: middle;\n    }\n\n    .dataframe tbody tr th {\n        vertical-align: top;\n    }\n\n    .dataframe thead th {\n        text-align: right;\n    }\n</style>\n<table border=\"1\" class=\"dataframe\">\n  <thead>\n    <tr style=\"text-align: right;\">\n      <th></th>\n      <th>A</th>\n    </tr>\n  </thead>\n  <tbody>\n    <tr>\n      <th>0</th>\n      <td>1</td>\n    </tr>\n    <tr>\n      <th>1</th>\n      <td>2</td>\n    </tr>\n    <tr>\n      <th>3</th>\n      <td>3</td>\n    </tr>\n    <tr>\n      <th>4</th>\n      <td>4</td>\n    </tr>\n    <tr>\n      <th>5</th>\n      <td>5</td>\n    </tr>\n    <tr>\n      <th>8</th>\n      <td>6</td>\n    </tr>\n    <tr>\n      <th>9</th>\n      <td>7</td>\n    </tr>\n    <tr>\n      <th>10</th>\n      <td>3</td>\n    </tr>\n    <tr>\n      <th>11</th>\n      <td>7</td>\n    </tr>\n  </tbody>\n</table>\n</div>"
     },
     "metadata": {},
     "output_type": "execute_result",
     "execution_count": 96
    }
   ],
   "source": [
    "# 95. 数据去重\n",
    "# 一个列为A的 DataFrame 数据，如下图所示\n",
    "# 尝试将 A 列中连续重复的数据清除。\n",
    "df = pd.DataFrame({'A': [1, 2, 2, 3, 4, 5, 5, 5, 6, 7, 3, 7]})\n",
    "df.loc[df['A'].shift()!=df['A']]"
   ],
   "metadata": {
    "collapsed": false,
    "pycharm": {
     "name": "#%%\n",
     "is_executing": false
    }
   }
  },
  {
   "cell_type": "code",
   "execution_count": 99,
   "outputs": [
    {
     "name": "stdout",
     "text": [
      "          0         1         2\n0  0.684880  0.491860  0.442520\n1  0.853213  0.609903  0.016494\n2  0.114639  0.966021  0.680400\n3  0.873052  0.170742  0.506057\n4  0.962478  0.083696  0.828477\n"
     ],
     "output_type": "stream"
    },
    {
     "data": {
      "text/plain": "          0         1         2\n0  0.672582  0.462601  0.524674\n1  0.871126  0.596386  0.000000\n2  0.000000  1.000000  0.817636\n3  0.894524  0.098655  0.602922\n4  1.000000  0.000000  1.000000",
      "text/html": "<div>\n<style scoped>\n    .dataframe tbody tr th:only-of-type {\n        vertical-align: middle;\n    }\n\n    .dataframe tbody tr th {\n        vertical-align: top;\n    }\n\n    .dataframe thead th {\n        text-align: right;\n    }\n</style>\n<table border=\"1\" class=\"dataframe\">\n  <thead>\n    <tr style=\"text-align: right;\">\n      <th></th>\n      <th>0</th>\n      <th>1</th>\n      <th>2</th>\n    </tr>\n  </thead>\n  <tbody>\n    <tr>\n      <th>0</th>\n      <td>0.672582</td>\n      <td>0.462601</td>\n      <td>0.524674</td>\n    </tr>\n    <tr>\n      <th>1</th>\n      <td>0.871126</td>\n      <td>0.596386</td>\n      <td>0.000000</td>\n    </tr>\n    <tr>\n      <th>2</th>\n      <td>0.000000</td>\n      <td>1.000000</td>\n      <td>0.817636</td>\n    </tr>\n    <tr>\n      <th>3</th>\n      <td>0.894524</td>\n      <td>0.098655</td>\n      <td>0.602922</td>\n    </tr>\n    <tr>\n      <th>4</th>\n      <td>1.000000</td>\n      <td>0.000000</td>\n      <td>1.000000</td>\n    </tr>\n  </tbody>\n</table>\n</div>"
     },
     "metadata": {},
     "output_type": "execute_result",
     "execution_count": 99
    }
   ],
   "source": [
    "# 数据归一化\n",
    "\n",
    "def z_score(df):\n",
    "    y = df.sub(df.min())/(df.max()-df.min())\n",
    "    return y\n",
    "df = pd.DataFrame(np.random.random(size=(5, 3)))\n",
    "print(df)\n",
    "z_score(df)"
   ],
   "metadata": {
    "collapsed": false,
    "pycharm": {
     "name": "#%%\n",
     "is_executing": false
    }
   }
  },
  {
   "cell_type": "code",
   "execution_count": 102,
   "outputs": [
    {
     "data": {
      "text/plain": "<matplotlib.axes._subplots.AxesSubplot at 0x2067c199f08>"
     },
     "metadata": {},
     "output_type": "execute_result",
     "execution_count": 102
    },
    {
     "data": {
      "text/plain": "<Figure size 432x288 with 1 Axes>",
      "image/png": "[encoded data removed]"
     },
     "metadata": {
      "needs_background": "light"
     },
     "output_type": "display_data"
    }
   ],
   "source": [
    "# Pandas 绘图操作\n",
    "# Series 可视化\n",
    "ts = pd.Series(np.random.randn(100),index=pd.date_range('today',periods=100,freq='D'))\n",
    "ts = ts.cumsum()\n",
    "ts.plot()"
   ],
   "metadata": {
    "collapsed": false,
    "pycharm": {
     "name": "#%%\n",
     "is_executing": false
    }
   }
  },
  {
   "cell_type": "code",
   "execution_count": null,
   "outputs": [],
   "source": [
    "#折线图\n",
    "df = pd.DataFrame(np.random.randn(100,4),index=ts.index,columns=['A','B','C','D'])\n",
    "df = df.cumsum()\n",
    "df.plot()"
   ],
   "metadata": {
    "collapsed": false,
    "pycharm": {
     "name": "#%%\n"
    }
   }
  },
  {
   "cell_type": "code",
   "execution_count": null,
   "outputs": [],
   "source": [
    "#散点图\n",
    "df = pd.DataFrame({'xs':[1,5,2,8,1],\n",
    "                   'ys':[4,2,1,9,6]})\n",
    "df = df.cumsum()\n",
    "df.plot.scatter('xs','ys',color='red',marker='*')"
   ],
   "metadata": {
    "collapsed": false,
    "pycharm": {
     "name": "#%%\n"
    }
   }
  },
  {
   "cell_type": "code",
   "execution_count": null,
   "outputs": [],
   "source": [
    "#DataFrame 柱形图\n",
    "df = pd.DataFrame({\"revenue\": [57, 68, 63, 71, 72, 90, 80, 62, 59, 51, 47, 52],\n",
    "                   \"advertising\": [2.1, 1.9, 2.7, 3.0, 3.6, 3.2, 2.7, 2.4, 1.8, 1.6, 1.3, 1.9],\n",
    "                   \"month\": range(12)})\n",
    "ax = df.plot.bar('month','revenue',color='yellow')\n",
    "df.plot('month','advertising',secondary_y=True,ax=ax)\n"
   ],
   "metadata": {
    "collapsed": false,
    "pycharm": {
     "name": "#%%\n"
    }
   }
  }
 ],
 "metadata": {
  "language_info": {
   "codemirror_mode": {
    "name": "ipython",
    "version": 2
   },
   "file_extension": ".py",
   "mimetype": "text/x-python",
   "name": "python",
   "nbconvert_exporter": "python",
   "pygments_lexer": "ipython2",
   "version": "2.7.6"
  },
  "kernelspec": {
   "name": "python3",
   "language": "python",
   "display_name": "Python 3"
  },
  "pycharm": {
   "stem_cell": {
    "cell_type": "raw",
    "source": [
     "# -*- coding: utf-8 -*-\n",
     "\"\"\"\n",
     "Spyder Editor\n",
     "\n",
     "This is a temporary script file.\n",
     "\"\"\"\n"
    ],
    "metadata": {
     "collapsed": false
    }
   }
  }
 },
 "nbformat": 4,
 "nbformat_minor": 0
}