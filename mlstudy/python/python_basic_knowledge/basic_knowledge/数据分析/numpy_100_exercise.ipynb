{
 "cells": [
  {
   "cell_type": "code",
   "execution_count": 6,
   "metadata": {
    "collapsed": true,
    "pycharm": {
     "is_executing": false
    }
   },
   "outputs": [],
   "source": [
    "# 导入 NumPy\n",
    "import numpy as np"
   ]
  },
  {
   "cell_type": "code",
   "execution_count": 7,
   "outputs": [
    {
     "name": "stdout",
     "text": [
      "1.16.4\n"
     ],
     "output_type": "stream"
    }
   ],
   "source": [
    "# 2. 查看 NumPy 版本信息\n",
    "print(np.__version__)"
   ],
   "metadata": {
    "collapsed": false,
    "pycharm": {
     "name": "#%%\n",
     "is_executing": false
    }
   }
  },
  {
   "cell_type": "code",
   "execution_count": 6,
   "outputs": [
    {
     "data": {
      "text/plain": "array([1, 2, 3])"
     },
     "metadata": {},
     "output_type": "execute_result",
     "execution_count": 6
    }
   ],
   "source": [
    "# 3. 通过列表创建一维数组\n",
    "np.array([1,2,3])"
   ],
   "metadata": {
    "collapsed": false,
    "pycharm": {
     "name": "#%%\n",
     "is_executing": false
    }
   }
  },
  {
   "cell_type": "code",
   "execution_count": 7,
   "outputs": [
    {
     "data": {
      "text/plain": "array([[1, 2, 3],\n       [4, 5, 6]])"
     },
     "metadata": {},
     "output_type": "execute_result",
     "execution_count": 7
    }
   ],
   "source": [
    "# 4.通过列表创建二维数组\n",
    "np.array([[1,2,3],[4,5,6]])"
   ],
   "metadata": {
    "collapsed": false,
    "pycharm": {
     "name": "#%%\n",
     "is_executing": false
    }
   }
  },
  {
   "cell_type": "code",
   "execution_count": 9,
   "outputs": [
    {
     "data": {
      "text/plain": "array([[0., 0.],\n       [0., 0.]])"
     },
     "metadata": {},
     "output_type": "execute_result",
     "execution_count": 9
    }
   ],
   "source": [
    "# 5. 创建全为 0 的二维数组\n",
    "np.zeros((2,2))"
   ],
   "metadata": {
    "collapsed": false,
    "pycharm": {
     "name": "#%%\n",
     "is_executing": false
    }
   }
  },
  {
   "cell_type": "code",
   "execution_count": 11,
   "outputs": [
    {
     "data": {
      "text/plain": "array([[[1., 1., 1.],\n        [1., 1., 1.],\n        [1., 1., 1.]],\n\n       [[1., 1., 1.],\n        [1., 1., 1.],\n        [1., 1., 1.]],\n\n       [[1., 1., 1.],\n        [1., 1., 1.],\n        [1., 1., 1.]]])"
     },
     "metadata": {},
     "output_type": "execute_result",
     "execution_count": 11
    }
   ],
   "source": [
    "#6.创建全为 1 的三维数组\n",
    "np.ones((3,3,3))"
   ],
   "metadata": {
    "collapsed": false,
    "pycharm": {
     "name": "#%%\n",
     "is_executing": false
    }
   }
  },
  {
   "cell_type": "code",
   "execution_count": 8,
   "outputs": [
    {
     "data": {
      "text/plain": "array([ 0,  1,  2,  3,  4,  5,  6,  7,  8,  9, 10])"
     },
     "metadata": {},
     "output_type": "execute_result",
     "execution_count": 8
    }
   ],
   "source": [
    "#7.创建一维等差数组\n",
    "np.linspace(0,10,num=10,endpoint=False)\n",
    "np.arange(11)"
   ],
   "metadata": {
    "collapsed": false,
    "pycharm": {
     "name": "#%%\n",
     "is_executing": false
    }
   }
  },
  {
   "cell_type": "code",
   "execution_count": 9,
   "outputs": [
    {
     "data": {
      "text/plain": "array([[0, 1],\n       [2, 3],\n       [4, 5]])"
     },
     "metadata": {},
     "output_type": "execute_result",
     "execution_count": 9
    }
   ],
   "source": [
    "# 8.创建二维等差数组\n",
    "np.arange(6).reshape((3,2))"
   ],
   "metadata": {
    "collapsed": false,
    "pycharm": {
     "name": "#%%\n",
     "is_executing": false
    }
   }
  },
  {
   "cell_type": "code",
   "execution_count": 12,
   "outputs": [
    {
     "data": {
      "text/plain": "array([[1., 0., 0.],\n       [0., 1., 0.],\n       [0., 0., 1.]])"
     },
     "metadata": {},
     "output_type": "execute_result",
     "execution_count": 12
    }
   ],
   "source": [
    "# 9.创建单位矩阵（二维数组）\n",
    "np.eye(3)"
   ],
   "metadata": {
    "collapsed": false,
    "pycharm": {
     "name": "#%%\n",
     "is_executing": false
    }
   }
  },
  {
   "cell_type": "code",
   "execution_count": 24,
   "outputs": [
    {
     "name": "stdout",
     "text": [
      "[[0.73927763 0.02140136 0.03277808]\n [0.9190231  0.93523006 0.33340317]\n [0.23466355 0.95677191 0.25630169]]\n"
     ],
     "output_type": "stream"
    }
   ],
   "source": [
    "# 10.创建等间隔一维数组\n",
    "np.linspace(0,10,6)"
   ],
   "metadata": {
    "collapsed": false,
    "pycharm": {
     "name": "#%%\n",
     "is_executing": false
    }
   }
  },
  {
   "cell_type": "code",
   "execution_count": 26,
   "outputs": [
    {
     "name": "stdout",
     "text": [
      "[[0.94135382 0.37801723 0.21846342]\n [0.74710315 0.91504277 0.09286747]\n [0.61453262 0.16378011 0.88553146]]\n"
     ],
     "output_type": "stream"
    }
   ],
   "source": [
    "# 11.创建二维随机数组\n",
    "print(np.random.rand(3,3))"
   ],
   "metadata": {
    "collapsed": false,
    "pycharm": {
     "name": "#%%\n",
     "is_executing": false
    }
   }
  },
  {
   "cell_type": "code",
   "execution_count": 28,
   "outputs": [
    {
     "name": "stdout",
     "text": [
      "[[2 4 2]\n [1 4 4]\n [0 1 3]]\n"
     ],
     "output_type": "stream"
    }
   ],
   "source": [
    "# 12.创建二维随机整数数组（数值小于 5）\n",
    "print(np.random.randint(0,5,size=(3,3)))"
   ],
   "metadata": {
    "collapsed": false,
    "pycharm": {
     "name": "#%%\n",
     "is_executing": false
    }
   }
  },
  {
   "cell_type": "code",
   "execution_count": 40,
   "outputs": [
    {
     "name": "stdout",
     "text": [
      "[-1.  0.  1.  2.  3.]\n"
     ],
     "output_type": "stream"
    }
   ],
   "source": [
    "# 13. 依据自定义函数创建数组\n",
    "def return_minus(x):\n",
    "    return x-1\n",
    "arr_func = np.fromfunction(return_minus,(5,))\n",
    "print(arr_func)"
   ],
   "metadata": {
    "collapsed": false,
    "pycharm": {
     "name": "#%%\n",
     "is_executing": false
    }
   }
  },
  {
   "cell_type": "code",
   "execution_count": null,
   "outputs": [],
   "source": [
    "# 数组运算\n",
    "# 14.一维数组加法运算\n",
    "a = np.array([1,2,3])\n",
    "b = np.array([4,5,6])\n",
    "print(a+b)"
   ],
   "metadata": {
    "collapsed": false,
    "pycharm": {
     "name": "#%%\n"
    }
   }
  },
  {
   "cell_type": "code",
   "execution_count": 45,
   "outputs": [
    {
     "name": "stdout",
     "text": [
      "[-3 -3 -3]\n"
     ],
     "output_type": "stream"
    }
   ],
   "source": [
    "# 15.一维数组减法运算\n",
    "a = np.array([1,2,3])\n",
    "b = np.array([4,5,6])\n",
    "print(a-b)"
   ],
   "metadata": {
    "collapsed": false,
    "pycharm": {
     "name": "#%%\n",
     "is_executing": false
    }
   }
  },
  {
   "cell_type": "code",
   "execution_count": 49,
   "outputs": [
    {
     "name": "stdout",
     "text": [
      "[ 4 10 18]\n"
     ],
     "output_type": "stream"
    }
   ],
   "source": [
    "# 16.一维数组乘法运算\n",
    "a = np.array([1,2,3])\n",
    "b = np.array([4,5,6])\n",
    "print(a*b)"
   ],
   "metadata": {
    "collapsed": false,
    "pycharm": {
     "name": "#%%\n",
     "is_executing": false
    }
   }
  },
  {
   "cell_type": "code",
   "execution_count": 50,
   "outputs": [
    {
     "name": "stdout",
     "text": [
      "[0.25 0.4  0.5 ]\n"
     ],
     "output_type": "stream"
    }
   ],
   "source": [
    "# 17. 一维数组除法运算\n",
    "a = np.array([1,2,3])\n",
    "b = np.array([4,5,6])\n",
    "print(a/b)"
   ],
   "metadata": {
    "collapsed": false,
    "pycharm": {
     "name": "#%%\n",
     "is_executing": false
    }
   }
  },
  {
   "cell_type": "code",
   "execution_count": 58,
   "outputs": [
    {
     "name": "stdout",
     "text": [
      "[[ 6  8]\n [10 12]]\n[[-4 -4]\n [-4 -4]]\n[[ 5 12]\n [21 32]]\n[[19 22]\n [43 50]]\n[[2 4]\n [6 8]]\n[[1 3]\n [2 4]]\n[[1 3]\n [2 4]]\n[[1 3]\n [2 4]]\n[[-2.   1. ]\n [ 1.5 -0.5]]\n"
     ],
     "output_type": "stream"
    }
   ],
   "source": [
    "a_2d = np.array([[1,2],[3,4]])\n",
    "b_2d = np.array([[5,6],[7,8]])\n",
    "# 18. 矩阵加法运算\n",
    "print(a_2d+b_2d)\n",
    "# 19. 矩阵减法运算\n",
    "print(a_2d-b_2d)\n",
    "# 20. 矩阵元素间乘法运算\n",
    "print(a_2d*b_2d)\n",
    "# 21. 矩阵乘法运算\n",
    "print(np.dot(a_2d,b_2d))\n",
    "# 22. 数乘矩阵\n",
    "print(a_2d*2)\n",
    "# 23. 矩阵的转置\n",
    "print(a_2d.T)\n",
    "print(np.transpose(a_2d))\n",
    "print(a_2d.transpose())\n",
    "# 24. 矩阵求逆\n",
    "print(np.linalg.inv(a_2d))"
   ],
   "metadata": {
    "collapsed": false,
    "pycharm": {
     "name": "#%%\n",
     "is_executing": false
    }
   }
  },
  {
   "cell_type": "code",
   "execution_count": 77,
   "outputs": [
    {
     "name": "stdout",
     "text": [
      "[0.         0.84147098 0.90929743]\n"
     ],
     "output_type": "stream"
    }
   ],
   "source": [
    "# 数学函数\n",
    "# 25.三角函数\n",
    "a = np.array([0,1,2])\n",
    "print(np.sin(a))"
   ],
   "metadata": {
    "collapsed": false,
    "pycharm": {
     "name": "#%%\n",
     "is_executing": false
    }
   }
  },
  {
   "cell_type": "code",
   "execution_count": 83,
   "outputs": [
    {
     "name": "stdout",
     "text": [
      "[0.         1.         1.41421356]\n[0.         1.         1.41421356]\n[0 1 8]\n"
     ],
     "output_type": "stream"
    }
   ],
   "source": [
    "# 26.以自然对数函数为底数的指数函数\n",
    "np.exp(a)\n",
    "# 27. 数组的方根的运算（开平方）\n",
    "print(np.sqrt(a))\n",
    "print(np.power(a,0.5))\n",
    "# 28. 数组的方根的运算（立方）\n",
    "print(np.power(a,3))"
   ],
   "metadata": {
    "collapsed": false,
    "pycharm": {
     "name": "#%%\n",
     "is_executing": false
    }
   }
  },
  {
   "cell_type": "code",
   "execution_count": 98,
   "outputs": [
    {
     "name": "stdout",
     "text": [
      "1 3\n[1 2] [1 2]\n11 \n 15\n[ 1  5  9 13]\n[[ 4  5  6  7]\n [ 8  9 10 11]]\n"
     ],
     "output_type": "stream"
    }
   ],
   "source": [
    "# 数组切片和索引\n",
    "# 一维数组索引\n",
    "a = np.array([1,2,3])\n",
    "print(a[0],a[-1])\n",
    "# 一维数组切片\n",
    "print(a[:2],a[:-1])\n",
    "# 二维数组索引\n",
    "a_2d = np.arange(16).reshape((4,4))\n",
    "print(a_2d[2,3],'\\n',a_2d[-1,-1])\n",
    "# 二维数组切片（取第 2 列）\n",
    "print(a_2d[:,1])\n",
    "# 二维数组切片（取第 2，3 行）\n",
    "print(a_2d[1:3,:])"
   ],
   "metadata": {
    "collapsed": false,
    "pycharm": {
     "name": "#%%\n",
     "is_executing": false
    }
   }
  },
  {
   "cell_type": "code",
   "execution_count": null,
   "outputs": [],
   "source": [
    "# 数组形状操作\n",
    "a = np.random.rand(3,2)"
   ],
   "metadata": {
    "collapsed": false,
    "pycharm": {
     "name": "#%%\n"
    }
   }
  },
  {
   "cell_type": "code",
   "execution_count": null,
   "outputs": [],
   "source": [
    "# 查看数组形状\n",
    "print(a.shape)"
   ],
   "metadata": {
    "collapsed": false,
    "pycharm": {
     "name": "#%%\n"
    }
   }
  },
  {
   "cell_type": "code",
   "execution_count": null,
   "outputs": [],
   "source": [
    "# 更改数组形状（不改变原始数组）\n",
    "b = a.reshape(2,3)"
   ],
   "metadata": {
    "collapsed": false,
    "pycharm": {
     "name": "#%%\n"
    }
   }
  },
  {
   "cell_type": "code",
   "execution_count": null,
   "outputs": [],
   "source": [
    "# 更改数组形状（改变原始数组）\n",
    "b.resize(3,2)"
   ],
   "metadata": {
    "collapsed": false,
    "pycharm": {
     "name": "#%%\n"
    }
   }
  },
  {
   "cell_type": "code",
   "execution_count": null,
   "outputs": [],
   "source": [
    "# 37. 展平数组\n",
    "np.ravel(a)"
   ],
   "metadata": {
    "collapsed": false,
    "pycharm": {
     "name": "#%%\n"
    }
   }
  },
  {
   "cell_type": "code",
   "execution_count": 55,
   "outputs": [
    {
     "name": "stdout",
     "text": [
      "[[8 8 0]\n [4 5 5]\n [7 8 3]\n [6 4 4]\n [6 0 8]\n [8 7 6]]\n"
     ],
     "output_type": "stream"
    }
   ],
   "source": [
    "# 38. 垂直拼合数组\n",
    "a = np.random.randint(10, size=(3, 3))\n",
    "b = np.random.randint(10, size=(3, 3))\n",
    "c = np.vstack((a,b))\n",
    "print(c)"
   ],
   "metadata": {
    "collapsed": false,
    "pycharm": {
     "name": "#%%\n",
     "is_executing": false
    }
   }
  },
  {
   "cell_type": "code",
   "execution_count": 53,
   "outputs": [
    {
     "data": {
      "text/plain": "array([[0, 4, 7, 0, 1, 2],\n       [7, 7, 6, 1, 9, 8],\n       [0, 6, 0, 8, 6, 3]])"
     },
     "metadata": {},
     "output_type": "execute_result",
     "execution_count": 53
    }
   ],
   "source": [
    "# 水平拼合数组\n",
    "np.hstack((a,b))"
   ],
   "metadata": {
    "collapsed": false,
    "pycharm": {
     "name": "#%%\n",
     "is_executing": false
    }
   }
  },
  {
   "cell_type": "code",
   "execution_count": 107,
   "outputs": [
    {
     "name": "stdout",
     "text": [
      "[[2 5 6]\n [9 9 8]\n [4 5 9]]\n"
     ],
     "output_type": "stream"
    },
    {
     "data": {
      "text/plain": "[array([[2, 5, 6]]), array([[9, 9, 8]]), array([[4, 5, 9]])]"
     },
     "metadata": {},
     "output_type": "execute_result",
     "execution_count": 107
    }
   ],
   "source": [
    "# 沿纵轴分割数组\n",
    "print(a)\n",
    "np.vsplit(a,3)"
   ],
   "metadata": {
    "collapsed": false,
    "pycharm": {
     "name": "#%%\n",
     "is_executing": false
    }
   }
  },
  {
   "cell_type": "code",
   "execution_count": 54,
   "outputs": [
    {
     "name": "stdout",
     "text": [
      "[4 9 7]\n[1 2 2]\n[1 2 1]\n[0 1 2]\n"
     ],
     "output_type": "stream"
    }
   ],
   "source": [
    "# 数组排序\n",
    "a = np.array(([1, 4, 3], [6, 2, 9], [4, 7, 2]))\n",
    "# 返回每列最大值\n",
    "print(np.max(a,axis=1))\n",
    "# 返回每行最小值\n",
    "print(np.min(a,axis=0))\n",
    "# 返回每列最大值索引\n",
    "print(np.argmax(a,axis=1))\n",
    "# 返回每行最小值索引\n",
    "print(np.argmin(a,axis=0))"
   ],
   "metadata": {
    "collapsed": false,
    "pycharm": {
     "name": "#%%\n",
     "is_executing": false
    }
   }
  },
  {
   "cell_type": "code",
   "execution_count": 119,
   "outputs": [
    {
     "name": "stdout",
     "text": [
      "[4. 4. 3.]\n[2.66666667 5.66666667 4.33333333]\n[3.66666667 4.33333333 4.66666667]\n[1.55555556 8.22222222 4.22222222]\n[2.05480467 2.05480467 3.09120617]\n"
     ],
     "output_type": "stream"
    }
   ],
   "source": [
    "# 数组统计\n",
    "# 统计数组各列的中位数(这里的0,1表示行列和上面的最值的表示相反)\n",
    "print(np.median(a,axis=0))\n",
    "# 统计数组各行的算术平均值\n",
    "print(np.mean(a,axis=1))\n",
    "# 统计数组各列的加权平均值\n",
    "print(np.average(a,axis=0))\n",
    "# 统计数组各行的方差\n",
    "print(np.var(a,axis=1))\n",
    "# 统计数组各列的标准偏差\n",
    "print(np.std(a,axis=0))"
   ],
   "metadata": {
    "collapsed": false,
    "pycharm": {
     "name": "#%%\n",
     "is_executing": false
    }
   }
  },
  {
   "cell_type": "code",
   "execution_count": 14,
   "outputs": [
    {
     "name": "stdout",
     "text": [
      "[[1. 1. 1. 1. 1.]\n [1. 0. 0. 0. 1.]\n [1. 0. 0. 0. 1.]\n [1. 0. 0. 0. 1.]\n [1. 1. 1. 1. 1.]]\n"
     ],
     "output_type": "stream"
    }
   ],
   "source": [
    "# 创建一个 5x5 的二维数组，其中边界值为1，其余值为0\n",
    "z = np.ones((5,5))\n",
    "z[1:-1,1:-1] = 0 \n",
    "print(z)"
   ],
   "metadata": {
    "collapsed": false,
    "pycharm": {
     "name": "#%%\n",
     "is_executing": false
    }
   }
  },
  {
   "cell_type": "code",
   "execution_count": 145,
   "outputs": [
    {
     "name": "stdout",
     "text": [
      "[[0. 0. 0. 0. 0. 0. 0.]\n [0. 1. 1. 1. 1. 1. 0.]\n [0. 1. 0. 0. 0. 1. 0.]\n [0. 1. 0. 0. 0. 1. 0.]\n [0. 1. 0. 0. 0. 1. 0.]\n [0. 1. 1. 1. 1. 1. 0.]\n [0. 0. 0. 0. 0. 0. 0.]]\n"
     ],
     "output_type": "stream"
    }
   ],
   "source": [
    "# 使用数字 0 将一个全为 1 的 5x5 二维数组包围?\n",
    "z3 = np.ones((5,5))\n",
    "# numpy.pad(array, pad_width, mode='constant', **kwargs)\n",
    "# array为要填补的数组\n",
    "# pad_width是在各维度的各个方向上想要填补的长度,如（（1，2），（2，2）），\n",
    "# 表示在第一个维度上水平方向上padding=1,垂直方向上padding=2,\n",
    "# 在第二个维度上水平方向上padding=2,垂直方向上padding=2。\n",
    "# 如果直接输入一个整数，则说明各个维度和各个方向所填补的长度都一样。\n",
    "#  mode为填补类型，即怎样去填补，有“constant”，“edge”等模式，\n",
    "# 如果为constant模式，就得指定填补的值，如果不指定，则默认填充0\n",
    "z3 = np.pad(z,pad_width=[(1,1),(1,1)],mode='constant',constant_values=0)\n",
    "print(z3)"
   ],
   "metadata": {
    "collapsed": false,
    "pycharm": {
     "name": "#%%\n",
     "is_executing": false
    }
   }
  },
  {
   "cell_type": "code",
   "execution_count": 151,
   "outputs": [
    {
     "name": "stdout",
     "text": [
      "[[0. 0. 0. 0. 0.]\n [1. 0. 0. 0. 0.]\n [0. 2. 0. 0. 0.]\n [0. 0. 3. 0. 0.]\n [0. 0. 0. 4. 0.]]\n"
     ],
     "output_type": "stream"
    }
   ],
   "source": [
    "# 创建一个 5x5 的二维数组，并设置值 1, 2, 3, 4 落在其对角线下方\n",
    "# 对角矩阵\n",
    "# numpy.diag(v,k=0)\n",
    "#     v : array_like.\n",
    "#\n",
    "# 如果v是2D数组，返回k位置的对角线。\n",
    "# \n",
    "# 如果v是1D数组，返回一个v作为k位置对角线的2维数组。\n",
    "# \n",
    "#     k : int, optional\n",
    "# \n",
    "# 对角线的位置，大于零位于对角线上面，小于零则在下面。\n",
    "z = np.diag(np.linspace(1,5,num=4,endpoint=False),k=-1)\n",
    "print(z)"
   ],
   "metadata": {
    "collapsed": false,
    "pycharm": {
     "name": "#%%\n",
     "is_executing": false
    }
   }
  },
  {
   "cell_type": "code",
   "execution_count": 17,
   "outputs": [
    {
     "data": {
      "text/plain": "array([[1, 6, 8, 7, 6, 8, 2, 5, 3, 6],\n       [1, 0, 9, 7, 1, 5, 7, 7, 3, 7],\n       [7, 7, 1, 1, 5, 8, 4, 2, 5, 7],\n       [5, 1, 6, 0, 4, 5, 3, 4, 6, 5],\n       [5, 9, 7, 8, 1, 9, 9, 6, 7, 9],\n       [2, 9, 8, 9, 8, 0, 4, 5, 8, 1],\n       [2, 6, 3, 7, 1, 9, 1, 7, 7, 8],\n       [2, 9, 4, 9, 8, 5, 1, 0, 9, 9],\n       [6, 3, 1, 8, 3, 4, 3, 4, 1, 7],\n       [6, 9, 7, 8, 4, 6, 5, 5, 3, 0]])"
     },
     "metadata": {},
     "output_type": "execute_result",
     "execution_count": 17
    }
   ],
   "source": [
    "# 创建一个 10x10 的二维数组，并使得 1 和 0 沿对角线间隔放置\n",
    "z = np.random.randint(1,10,size=(10,10))\n",
    "\n",
    "for x in range(np.shape(z)[0]):\n",
    "    for y in range(np.shape(z)[1]):\n",
    "        if x == y and x%2!=0 :\n",
    "            z[x,y] = 0\n",
    "        elif x == y and x%2==0 :\n",
    "            z[x,y] = 1\n",
    "z"
   ],
   "metadata": {
    "collapsed": false,
    "pycharm": {
     "name": "#%%\n",
     "is_executing": false
    }
   }
  },
  {
   "cell_type": "code",
   "execution_count": 24,
   "outputs": [
    {
     "name": "stdout",
     "text": [
      "[ 0  1 -2 -3 -4 -5 -6 -7 -8 -9 10]\n"
     ],
     "output_type": "stream"
    }
   ],
   "source": [
    "# 创建一个 0-10 的一维数组，并将 (1, 9] 之间的数全部反转成负数\n",
    "arr_ar = np.arange(11)\n",
    "# 方案1\n",
    "np.where((arr_ar>1)&(arr_ar<=9),arr_ar*-1,arr_ar)\n",
    "# 方案2\n",
    "arr_ar[(1<arr_ar)&(arr_ar<=9)]*=-1\n",
    "print(arr_ar)"
   ],
   "metadata": {
    "collapsed": false,
    "pycharm": {
     "name": "#%%\n",
     "is_executing": false
    }
   }
  },
  {
   "cell_type": "code",
   "execution_count": 25,
   "outputs": [
    {
     "name": "stdout",
     "text": [
      "[9 4 0 5 0 6 6 3 2 0]\n[7 6 2 6 7 1 4 6 8 6]\n[2 4 6]\n"
     ],
     "output_type": "stream"
    }
   ],
   "source": [
    "# 找出两个一维数组中相同的元素\n",
    "Z1 = np.random.randint(0,10,10)\n",
    "Z2 = np.random.randint(0,10,10)\n",
    "print(Z1)\n",
    "print(Z2)\n",
    "print(np.intersect1d(Z1,Z2))"
   ],
   "metadata": {
    "collapsed": false,
    "pycharm": {
     "name": "#%%\n",
     "is_executing": false
    }
   }
  },
  {
   "cell_type": "code",
   "execution_count": 19,
   "outputs": [
    {
     "name": "stdout",
     "text": [
      "2019-09-01 2019-09-02 2019-09-03\n原始值 [9.43896629 4.81818089 5.36543199 5.50307431 5.7928487  2.40307214\n 7.55898615 4.40085606 0.92247309 2.29850771]\n方法1: [9 4 5 5 5 2 7 4 0 2]\n方法2: [9. 4. 5. 5. 5. 2. 7. 4. 0. 2.]\n方法3: [9. 4. 5. 5. 5. 2. 7. 4. 0. 2.]\n方法4: [9. 5. 5. 6. 6. 2. 8. 4. 1. 2.]\n方法2: [9. 4. 5. 5. 5. 2. 7. 4. 0. 2.]\n"
     ],
     "output_type": "stream"
    }
   ],
   "source": [
    "# 使用 NumPy 打印昨天、今天、明天的日期?\n",
    "yesterday = np.datetime64('today','D') - np.timedelta64('1','D')\n",
    "today = np.datetime64('today','D')\n",
    "tomorrow = np.datetime64('today','D') + np.timedelta64('1','D')\n",
    "print(yesterday,today,tomorrow)"
   ],
   "metadata": {
    "collapsed": false,
    "pycharm": {
     "name": "#%%\n",
     "is_executing": false
    }
   }
  },
  {
   "cell_type": "code",
   "execution_count": null,
   "outputs": [],
   "source": [
    "# 使用五种不同的方法去提取一个随机数组的整数部分\n",
    "arr_rondom = np.random.uniform(0,10,10)\n",
    "print('原始值',arr_rondom)\n",
    "print('方法1:',arr_rondom.astype(int))\n",
    "print('方法2:',np.trunc(arr_rondom))\n",
    "print('方法3:',np.floor(arr_rondom))\n",
    "print('方法4:',np.around(arr_rondom))\n",
    "print('方法2:',arr_rondom-arr_rondom%1)"
   ],
   "metadata": {
    "collapsed": false,
    "pycharm": {
     "name": "#%%\n"
    }
   }
  },
  {
   "cell_type": "code",
   "execution_count": 27,
   "outputs": [
    {
     "name": "stdout",
     "text": [
      "[[0. 1. 2. 3. 4.]\n [0. 1. 2. 3. 4.]\n [0. 1. 2. 3. 4.]\n [0. 1. 2. 3. 4.]\n [0. 1. 2. 3. 4.]]\n"
     ],
     "output_type": "stream"
    }
   ],
   "source": [
    "# 创建一个 5x5 的矩阵，其中每行的数值范围从 1 到 5\n",
    "z = np.zeros((5,5))\n",
    "z += np.arange(5)\n",
    "print(z)"
   ],
   "metadata": {
    "collapsed": false,
    "pycharm": {
     "name": "#%%\n",
     "is_executing": false
    }
   }
  },
  {
   "cell_type": "code",
   "execution_count": 18,
   "outputs": [
    {
     "data": {
      "text/plain": "array([0.16666667, 0.33333333, 0.5       , 0.66666667, 0.83333333])"
     },
     "metadata": {},
     "output_type": "execute_result",
     "execution_count": 18
    }
   ],
   "source": [
    "# 创建一个长度为 5 的等间隔一维数组，\n",
    "# 其值域范围从 0 到 1，但是不包括 0 和 1\n",
    "np.linspace(0,1,num=6,endpoint=False)[1:]"
   ],
   "metadata": {
    "collapsed": false,
    "pycharm": {
     "name": "#%%\n",
     "is_executing": false
    }
   }
  },
  {
   "cell_type": "code",
   "execution_count": 7,
   "outputs": [
    {
     "name": "stdout",
     "text": [
      "[0.0915269  0.11309697 0.12621098 0.16663969 0.33363269 0.33869234\n 0.45595928 0.56737299 0.74659415 0.83996754]\n[0.0915269  0.11309697 0.12621098 0.16663969 0.33363269 0.33869234\n 0.45595928 0.56737299 0.74659415 0.83996754]\n"
     ],
     "output_type": "stream"
    }
   ],
   "source": [
    "# 创建一个长度为10的随机一维数组，并将其按升序排序\n",
    "arr_random = np.random.rand(10)\n",
    "print(np.sort(arr_random))\n",
    "arr_random.sort()\n",
    "print(arr_random)"
   ],
   "metadata": {
    "collapsed": false,
    "pycharm": {
     "name": "#%%\n",
     "is_executing": false
    }
   }
  },
  {
   "cell_type": "code",
   "execution_count": 10,
   "outputs": [
    {
     "name": "stdout",
     "text": [
      "[[0.10782152 0.0622213  0.01948609]\n [0.2346158  0.10984742 0.30677215]\n [0.42304902 0.62915143 0.34724743]]\n"
     ],
     "output_type": "stream"
    }
   ],
   "source": [
    "# 创建一个 3x3 的二维数组，并将列按升序排序\n",
    "arr_random = np.random.rand(3,3)\n",
    "arr_random.sort(axis=0)\n",
    "print(arr_random)"
   ],
   "metadata": {
    "collapsed": false,
    "pycharm": {
     "name": "#%%\n",
     "is_executing": false
    }
   }
  },
  {
   "cell_type": "code",
   "execution_count": 14,
   "outputs": [
    {
     "name": "stdout",
     "text": [
      "[0.2968607  9.         0.21596632 0.05273708 0.        ]\n"
     ],
     "output_type": "stream"
    }
   ],
   "source": [
    "# 创建一个长度为 5 的一维数组，并将其中最大值替换成 0\n",
    "z = np.random.rand(5)\n",
    "z[np.argmax(z)] = 0\n",
    "z[z.argmax()] = 0\n",
    "print(z)"
   ],
   "metadata": {
    "collapsed": false,
    "pycharm": {
     "name": "#%%\n",
     "is_executing": false
    }
   }
  },
  {
   "cell_type": "code",
   "execution_count": 23,
   "outputs": [
    {
     "name": "stdout",
     "text": [
      "The minimum value of <class 'numpy.int8'>: -128\nThe maximum value of <class 'numpy.int8'>: 127\nThe minimum value of <class 'numpy.int32'>: -2147483648\nThe maximum value of <class 'numpy.int32'>: 2147483647\nThe minimum value of <class 'numpy.int64'>: -9223372036854775808\nThe maximum value of <class 'numpy.int64'>: 9223372036854775807\n"
     ],
     "output_type": "stream"
    },
    {
     "traceback": [
      "\u001b[1;31m---------------------------------------------------------------------------\u001b[0m",
      "\u001b[1;31mValueError\u001b[0m                                Traceback (most recent call last)",
      "\u001b[1;32m<ipython-input-23-a2b4bf092b9c>\u001b[0m in \u001b[0;36m<module>\u001b[1;34m\u001b[0m\n\u001b[0;32m      5\u001b[0m \u001b[1;33m\u001b[0m\u001b[0m\n\u001b[0;32m      6\u001b[0m \u001b[1;32mfor\u001b[0m \u001b[0mdtype\u001b[0m \u001b[1;32min\u001b[0m \u001b[1;33m[\u001b[0m\u001b[0mnp\u001b[0m\u001b[1;33m.\u001b[0m\u001b[0mfloat32\u001b[0m\u001b[1;33m,\u001b[0m\u001b[0mnp\u001b[0m\u001b[1;33m.\u001b[0m\u001b[0mfloat64\u001b[0m\u001b[1;33m]\u001b[0m\u001b[1;33m:\u001b[0m\u001b[1;33m\u001b[0m\u001b[1;33m\u001b[0m\u001b[0m\n\u001b[1;32m----> 7\u001b[1;33m     \u001b[0mprint\u001b[0m\u001b[1;33m(\u001b[0m\u001b[1;34m'The minimum value of {}:'\u001b[0m\u001b[1;33m.\u001b[0m\u001b[0mformat\u001b[0m\u001b[1;33m(\u001b[0m\u001b[0mdtype\u001b[0m\u001b[1;33m)\u001b[0m\u001b[1;33m,\u001b[0m\u001b[0mnp\u001b[0m\u001b[1;33m.\u001b[0m\u001b[0miinfo\u001b[0m\u001b[1;33m(\u001b[0m\u001b[0mdtype\u001b[0m\u001b[1;33m)\u001b[0m\u001b[1;33m.\u001b[0m\u001b[0mmin\u001b[0m\u001b[1;33m)\u001b[0m\u001b[1;33m\u001b[0m\u001b[1;33m\u001b[0m\u001b[0m\n\u001b[0m\u001b[0;32m      8\u001b[0m     \u001b[0mprint\u001b[0m\u001b[1;33m(\u001b[0m\u001b[1;34m'The maximum value of {}:'\u001b[0m\u001b[1;33m.\u001b[0m\u001b[0mformat\u001b[0m\u001b[1;33m(\u001b[0m\u001b[0mdtype\u001b[0m\u001b[1;33m)\u001b[0m\u001b[1;33m,\u001b[0m\u001b[0mnp\u001b[0m\u001b[1;33m.\u001b[0m\u001b[0miinfo\u001b[0m\u001b[1;33m(\u001b[0m\u001b[0mdtype\u001b[0m\u001b[1;33m)\u001b[0m\u001b[1;33m.\u001b[0m\u001b[0mmax\u001b[0m\u001b[1;33m)\u001b[0m\u001b[1;33m\u001b[0m\u001b[1;33m\u001b[0m\u001b[0m\n\u001b[0;32m      9\u001b[0m \u001b[1;33m\u001b[0m\u001b[0m\n",
      "\u001b[1;32m~\\Anaconda3\\lib\\site-packages\\numpy\\core\\getlimits.py\u001b[0m in \u001b[0;36m__init__\u001b[1;34m(self, int_type)\u001b[0m\n\u001b[0;32m    504\u001b[0m         \u001b[0mself\u001b[0m\u001b[1;33m.\u001b[0m\u001b[0mkey\u001b[0m \u001b[1;33m=\u001b[0m \u001b[1;34m\"%s%d\"\u001b[0m \u001b[1;33m%\u001b[0m \u001b[1;33m(\u001b[0m\u001b[0mself\u001b[0m\u001b[1;33m.\u001b[0m\u001b[0mkind\u001b[0m\u001b[1;33m,\u001b[0m \u001b[0mself\u001b[0m\u001b[1;33m.\u001b[0m\u001b[0mbits\u001b[0m\u001b[1;33m)\u001b[0m\u001b[1;33m\u001b[0m\u001b[1;33m\u001b[0m\u001b[0m\n\u001b[0;32m    505\u001b[0m         \u001b[1;32mif\u001b[0m \u001b[0mself\u001b[0m\u001b[1;33m.\u001b[0m\u001b[0mkind\u001b[0m \u001b[1;32mnot\u001b[0m \u001b[1;32min\u001b[0m \u001b[1;34m'iu'\u001b[0m\u001b[1;33m:\u001b[0m\u001b[1;33m\u001b[0m\u001b[1;33m\u001b[0m\u001b[0m\n\u001b[1;32m--> 506\u001b[1;33m             \u001b[1;32mraise\u001b[0m \u001b[0mValueError\u001b[0m\u001b[1;33m(\u001b[0m\u001b[1;34m\"Invalid integer data type %r.\"\u001b[0m \u001b[1;33m%\u001b[0m \u001b[1;33m(\u001b[0m\u001b[0mself\u001b[0m\u001b[1;33m.\u001b[0m\u001b[0mkind\u001b[0m\u001b[1;33m,\u001b[0m\u001b[1;33m)\u001b[0m\u001b[1;33m)\u001b[0m\u001b[1;33m\u001b[0m\u001b[1;33m\u001b[0m\u001b[0m\n\u001b[0m\u001b[0;32m    507\u001b[0m \u001b[1;33m\u001b[0m\u001b[0m\n\u001b[0;32m    508\u001b[0m     \u001b[1;32mdef\u001b[0m \u001b[0mmin\u001b[0m\u001b[1;33m(\u001b[0m\u001b[0mself\u001b[0m\u001b[1;33m)\u001b[0m\u001b[1;33m:\u001b[0m\u001b[1;33m\u001b[0m\u001b[1;33m\u001b[0m\u001b[0m\n",
      "\u001b[1;31mValueError\u001b[0m: Invalid integer data type 'f'."
     ],
     "ename": "ValueError",
     "evalue": "Invalid integer data type 'f'.",
     "output_type": "error"
    }
   ],
   "source": [
    "# 打印每个 NumPy 标量类型的最小值和最大值\n",
    "for dtype in [np.int8,np.int32,np.int64]:\n",
    "    print('The minimum value of {}:'.format(dtype),np.iinfo(dtype).min)\n",
    "    print('The maximum value of {}:'.format(dtype),np.iinfo(dtype).max)\n",
    "for dtype in [np.float32,np.float64]:\n",
    "    print('The minimum value of {}:'.format(dtype),np.iinfo(dtype).min)\n",
    "    print('The maximum value of {}:'.format(dtype),np.iinfo(dtype).max)"
   ],
   "metadata": {
    "collapsed": false,
    "pycharm": {
     "name": "#%%\n",
     "is_executing": false
    }
   }
  },
  {
   "cell_type": "code",
   "execution_count": 29,
   "outputs": [
    {
     "name": "stdout",
     "text": [
      "[0. 1. 2. 3. 4. 5. 6. 7. 8. 9.]\n[0 1 2 3 4 5 6 7 8 9]\n"
     ],
     "output_type": "stream"
    }
   ],
   "source": [
    "# 将 float32 转换为整型\n",
    "z = np.arange(10,dtype=np.float32)\n",
    "print(z)\n",
    "z = z.astype(np.int32,copy=False)\n",
    "print(z)#%%\n",
    "\n",
    "# 将随机二维数组按照第 3 列从上到下进行升序排列\n",
    "z = np.random.randint(0,10,(5,5))\n",
    "print('排列前',z)\n",
    "print('排列后',z[z[:,2].argsort()])"
   ],
   "metadata": {
    "collapsed": false,
    "pycharm": {
     "name": "#%%\n",
     "is_executing": false
    }
   }
  },
  {
   "cell_type": "code",
   "execution_count": 30,
   "outputs": [
    {
     "name": "stdout",
     "text": [
      "[1 6 4 7 1]\n1\n"
     ],
     "output_type": "stream"
    }
   ],
   "source": [
    "# 从随机一维数组中找出距离给定数值（0.5）最近的数\n",
    "z = np.random.randint(0,10,size=(5,))\n",
    "value = 0.5\n",
    "m = z[np.abs(z-value).argmin()]\n",
    "print(z)\n",
    "print(m)"
   ],
   "metadata": {
    "collapsed": false,
    "pycharm": {
     "name": "#%%\n",
     "is_executing": false
    }
   }
  },
  {
   "cell_type": "code",
   "execution_count": 34,
   "outputs": [
    {
     "name": "stdout",
     "text": [
      "[[0 1 2 3 4]\n [5 6 7 8 9]]\n"
     ],
     "output_type": "stream"
    },
    {
     "data": {
      "text/plain": "array([[5, 6, 7, 8, 9],\n       [0, 1, 2, 3, 4]])"
     },
     "metadata": {},
     "output_type": "execute_result",
     "execution_count": 34
    }
   ],
   "source": [
    "# 将二维数组的前两行进行顺序交换\n",
    "a = np.arange(10).reshape((2,-1))\n",
    "print(a)\n",
    "a[[0,1]] = a[[1,0]]\n",
    "print(a)"
   ],
   "metadata": {
    "collapsed": false,
    "pycharm": {
     "name": "#%%\n",
     "is_executing": false
    }
   }
  },
  {
   "cell_type": "code",
   "execution_count": 35,
   "outputs": [
    {
     "name": "stdout",
     "text": [
      "[ 5 10  4  4  5  4  7  2  2  7]\n9 10\n"
     ],
     "output_type": "stream"
    }
   ],
   "source": [
    "# 找出随机一维数组中出现频率最高的值\n",
    "z = np.random.randint(0,10,50)\n",
    "# print(z)\n",
    "print(np.bincount(z))\n",
    "print(z[np.bincount(z).argmax()],np.bincount(z).max())"
   ],
   "metadata": {
    "collapsed": false,
    "pycharm": {
     "name": "#%%\n",
     "is_executing": false
    }
   }
  },
  {
   "cell_type": "code",
   "execution_count": 55,
   "outputs": [
    {
     "name": "stdout",
     "text": [
      "(array([0, 2, 3], dtype=int64),)\n"
     ],
     "output_type": "stream"
    }
   ],
   "source": [
    "# 找出给定一维数组中非 0 元素的位置索引\n",
    "z = np.nonzero([1,0,2,-1,0,0])\n",
    "print(z)"
   ],
   "metadata": {
    "collapsed": false,
    "pycharm": {
     "name": "#%%\n",
     "is_executing": false
    }
   }
  },
  {
   "cell_type": "code",
   "execution_count": 77,
   "outputs": [
    {
     "name": "stdout",
     "text": [
      "[12 19 17]\n[[0. 0. 0. 0. 0.]\n [0. 0. 0. 0. 0.]\n [1. 0. 0. 0. 1.]\n [0. 0. 0. 0. 0.]\n [0. 0. 0. 0. 0.]]\n"
     ],
     "output_type": "stream"
    }
   ],
   "source": [
    "# 71. 对于给定的 5x5 二维数组，在其内部随机放置 p 个值为 1 的数\n",
    "p = 3\n",
    "z = np.zeros((5,5))\n",
    "# 方案1\n",
    "# for i in range(p):\n",
    "#     z[np.random.randint(0,5),np.random.randint(0,5)]=1\n",
    "# 方案2\n",
    "np.put(z,np.random.choice(range(5*5),p),1)\n",
    "print(np.random.choice(range(5*5),p))\n",
    "print(z)"
   ],
   "metadata": {
    "collapsed": false,
    "pycharm": {
     "name": "#%%\n",
     "is_executing": false
    }
   }
  },
  {
   "cell_type": "code",
   "execution_count": 87,
   "outputs": [
    {
     "name": "stdout",
     "text": [
      "[[3 7 7]\n [9 3 5]\n [6 2 0]]\n[[-2.66666667  1.33333333  1.33333333]\n [ 3.33333333 -2.66666667 -0.66666667]\n [ 3.33333333 -0.66666667 -2.66666667]]\n[[-2.66666667  1.33333333  1.33333333]\n [ 3.33333333 -2.66666667 -0.66666667]\n [ 3.33333333 -0.66666667 -2.66666667]]\n"
     ],
     "output_type": "stream"
    }
   ],
   "source": [
    "# 对于随机的 3x3 二维数组，减去数组每一行的平均值\n",
    "z = np.random.randint(0,10,size=(3,3))\n",
    "print(z)\n",
    "z = z-z.mean(axis=1,keepdims=True)\n",
    "z2 = z-z.mean(axis=1,keepdims=False)\n",
    "print(z)\n",
    "print(z2)"
   ],
   "metadata": {
    "collapsed": false,
    "pycharm": {
     "name": "#%%\n",
     "is_executing": false
    }
   }
  },
  {
   "cell_type": "code",
   "execution_count": 92,
   "outputs": [
    {
     "name": "stdout",
     "text": [
      "[[0.57157042 0.56505754 0.59457255]\n [1.02857591 1.0021828  1.26773944]\n [1.24279176 0.98014404 1.06193241]]\n[0.57157042 1.0021828  1.06193241]\n[0.57157042 1.0021828  1.06193241]\n[0.57157042 1.0021828  1.06193241]\n"
     ],
     "output_type": "stream"
    }
   ],
   "source": [
    "# 获得二维数组点积结果的对角线数组\n",
    "a = np.random.uniform(0,1,(3,3))\n",
    "b = np.random.uniform(0,1,(3,3))\n",
    "print(np.dot(a,b))\n",
    "# 方案1(较慢)\n",
    "print(np.diag(np.dot(a,b)))\n",
    "#方案2(较快)\n",
    "print(np.sum(a*b.T,axis=1))\n",
    "# 方案3?\n",
    "print(np.einsum(\"ij, ji->i\", a, b))"
   ],
   "metadata": {
    "collapsed": false,
    "pycharm": {
     "name": "#%%\n",
     "is_executing": false
    }
   }
  },
  {
   "cell_type": "code",
   "execution_count": 100,
   "outputs": [
    {
     "name": "stdout",
     "text": [
      "[92 93 94 95 96]\n"
     ],
     "output_type": "stream"
    }
   ],
   "source": [
    "# 找到随机一维数组中前 p 个最大值\n",
    "p = 5 \n",
    "z = np.random.randint(0,100,50)\n",
    "print(z[z.argsort()[-p:]])"
   ],
   "metadata": {
    "collapsed": false,
    "pycharm": {
     "name": "#%%\n",
     "is_executing": false
    }
   }
  },
  {
   "cell_type": "code",
   "execution_count": 104,
   "outputs": [
    {
     "name": "stdout",
     "text": [
      "[0 4 4 3 2]\n[  0 256 256  81  16]\n"
     ],
     "output_type": "stream"
    }
   ],
   "source": [
    "# 计算随机一维数组中每个元素的 4 次方数值\n",
    "z = np.random.randint(0,5,5)\n",
    "x = np.power(z,4)\n",
    "print(z)\n",
    "print(x)"
   ],
   "metadata": {
    "collapsed": false,
    "pycharm": {
     "name": "#%%\n",
     "is_executing": false
    }
   }
  },
  {
   "cell_type": "code",
   "execution_count": 36,
   "outputs": [
    {
     "name": "stdout",
     "text": [
      "[[0.07476803 0.0587384  0.15870602 0.66457818 0.52899374]\n [0.86705646 0.88129596 0.4654572  0.12472989 0.37269547]\n [0.9037412  0.00592605 0.61343266 0.52615994 0.53693375]\n [0.75004973 0.47592584 0.96146286 0.60835203 0.89991958]\n [0.47958606 0.23456709 0.29409637 0.49391422 0.52666016]]\n[[0.07 0.06 0.16 0.66 0.53]\n [0.87 0.88 0.47 0.12 0.37]\n [0.9  0.01 0.61 0.53 0.54]\n [0.75 0.48 0.96 0.61 0.9 ]\n [0.48 0.23 0.29 0.49 0.53]]\n"
     ],
     "output_type": "stream"
    }
   ],
   "source": [
    "# 对于二维随机数组中各元素，保留其 2 位小数\n",
    "z = np.random.rand(5,5)\n",
    "print(z)\n",
    "np.set_printoptions(precision=2)\n",
    "print(z)"
   ],
   "metadata": {
    "collapsed": false,
    "pycharm": {
     "name": "#%%\n",
     "is_executing": false
    }
   }
  },
  {
   "cell_type": "code",
   "execution_count": 9,
   "outputs": [
    {
     "name": "stdout",
     "text": [
      "[[0.20002526 0.68856384 0.37469892 0.98436781 0.61161833]\n [0.45857693 0.10772723 0.4084114  0.18934691 0.7178853 ]\n [0.07191452 0.91908819 0.69334289 0.83044294 0.18563834]\n [0.77776026 0.39470653 0.2572925  0.63192333 0.64829308]\n [0.2233924  0.35650551 0.15540514 0.45259592 0.06385814]]\n[[2.00025260e-04 6.88563835e-04 3.74698922e-04 9.84367810e-04\n  6.11618329e-04]\n [4.58576931e-04 1.07727229e-04 4.08411396e-04 1.89346914e-04\n  7.17885304e-04]\n [7.19145176e-05 9.19088186e-04 6.93342893e-04 8.30442939e-04\n  1.85638344e-04]\n [7.77760260e-04 3.94706526e-04 2.57292498e-04 6.31923334e-04\n  6.48293076e-04]\n [2.23392399e-04 3.56505510e-04 1.55405136e-04 4.52595919e-04\n  6.38581427e-05]]\n"
     ],
     "output_type": "stream"
    }
   ],
   "source": [
    "# 使用科学记数法输出 NumPy 数组\n",
    "z = np.random.rand(5,5)\n",
    "print(z)\n",
    "print(z/1e3)"
   ],
   "metadata": {
    "collapsed": false,
    "pycharm": {
     "name": "#%%\n",
     "is_executing": false
    }
   }
  },
  {
   "cell_type": "code",
   "execution_count": 13,
   "outputs": [
    {
     "name": "stdout",
     "text": [
      "[0 1 2 3 4 5 6 7 8 9]\n[2.25 4.5  6.75]\n"
     ],
     "output_type": "stream"
    }
   ],
   "source": [
    "# 使用 NumPy 找出百分位数（25%，50%，75%）\n",
    "z = np.arange(10)\n",
    "print(z)\n",
    "print(np.percentile(z,q=[25,50,75]))"
   ],
   "metadata": {
    "collapsed": false,
    "pycharm": {
     "name": "#%%\n",
     "is_executing": false
    }
   }
  },
  {
   "cell_type": "code",
   "execution_count": 39,
   "outputs": [
    {
     "name": "stdout",
     "text": [
      "缺失值总量: 4\n缺失值索引: (array([2, 2, 2, 4], dtype=int64), array([2, 3, 4, 0], dtype=int64))\n[[0.25 0.82 0.08 0.15 0.72]\n [0.62 0.65 0.41 0.26 0.88]\n [0.04 0.09  nan  nan  nan]\n [0.45 0.39 0.72 0.15 0.31]\n [ nan 0.33 0.73 0.43 0.83]]\n"
     ],
     "output_type": "stream"
    }
   ],
   "source": [
    "# 找出数组中缺失值的总数及所在位置\n",
    "z = np.random.rand(5,5)\n",
    "z[np.random.randint(5,size=5),np.random.randint(5,size=5)]=np.nan\n",
    "print('缺失值总量:',np.isnan(z).sum())\n",
    "print('缺失值索引:',np.where(np.isnan(z)))\n",
    "print(z)"
   ],
   "metadata": {
    "collapsed": false,
    "pycharm": {
     "name": "#%%\n",
     "is_executing": false
    }
   }
  },
  {
   "cell_type": "code",
   "execution_count": 40,
   "outputs": [
    {
     "name": "stdout",
     "text": [
      "[[0.25 0.82 0.08 0.15 0.72]\n [0.62 0.65 0.41 0.26 0.88]\n [0.04 0.09  nan  nan  nan]\n [0.45 0.39 0.72 0.15 0.31]\n [ nan 0.33 0.73 0.43 0.83]] \n\n[[0.25 0.82 0.08 0.15 0.72]\n [0.62 0.65 0.41 0.26 0.88]\n [0.45 0.39 0.72 0.15 0.31]]\n"
     ],
     "output_type": "stream"
    }
   ],
   "source": [
    "# 从随机数组中删除包含缺失值的行\n",
    "print(z,'\\n')\n",
    "print(z[np.sum(np.isnan(z), axis=1) == 0])"
   ],
   "metadata": {
    "collapsed": false,
    "pycharm": {
     "name": "#%%\n",
     "is_executing": false
    }
   }
  },
  {
   "cell_type": "code",
   "execution_count": 38,
   "outputs": [
    {
     "name": "stdout",
     "text": [
      "(array([ 6,  7, 12, 18, 26, 31, 34, 35, 38, 40, 49, 50, 56, 58, 65, 74, 75,\n       92]), array([1, 1, 1, 1, 3, 2, 2, 1, 2, 2, 1, 1, 2, 1, 1, 1, 1, 1], dtype=int64))\n"
     ],
     "output_type": "stream"
    }
   ],
   "source": [
    "# 统计随机数组中的各元素的数量\n",
    "z = np.random.randint(0,100,25).reshape((5,5))\n",
    "print(np.unique(z,return_counts=True))"
   ],
   "metadata": {
    "collapsed": false,
    "pycharm": {
     "name": "#%%\n",
     "is_executing": false
    }
   }
  },
  {
   "cell_type": "code",
   "execution_count": 18,
   "outputs": [
    {
     "name": "stdout",
     "text": [
      "[2 2 2 1 1 1 2 1 1 1]\n{1: '汽车', 2: '公交车', 3: '火车'}\n[['公交车' '公交车' '公交车' '汽车' '汽车']\n ['汽车' '公交车' '汽车' '汽车' '汽车']]\n"
     ],
     "output_type": "stream"
    }
   ],
   "source": [
    "# 将数组中各元素按指定分类转换为文本值?\n",
    "z = np.random.randint(1,3,10)\n",
    "print(z)\n",
    "label_map = dict(zip((1,2,3),('汽车','公交车','火车')))\n",
    "print(label_map)\n",
    "print(np.array([label_map[x] for x in z]).reshape((2,-1)))"
   ],
   "metadata": {
    "collapsed": false,
    "pycharm": {
     "name": "#%%\n",
     "is_executing": false
    }
   }
  },
  {
   "cell_type": "code",
   "execution_count": 23,
   "outputs": [
    {
     "name": "stdout",
     "text": [
      "[array([0, 1, 2]) array([4, 5, 6]) array([ 7,  8,  9, 10])]\n[ 0  1  2  4  5  6  7  8  9 10]\n"
     ],
     "output_type": "stream"
    }
   ],
   "source": [
    "# 将多个 1 维数组拼合为单个 Ndarray\n",
    "z1 = np.arange(3)\n",
    "z2 = np.arange(4,7)\n",
    "z3 = np.arange(7,11)\n",
    "print(z)\n",
    "print(np.concatenate([z1,z2,z3]))"
   ],
   "metadata": {
    "collapsed": false,
    "pycharm": {
     "name": "#%%\n",
     "is_executing": false
    }
   }
  },
  {
   "cell_type": "code",
   "execution_count": 25,
   "outputs": [
    {
     "name": "stdout",
     "text": [
      "[ 9  7  6  3 10 19 11 14 16  4  0 17  2  1  8 12 15  5 13 18]\n"
     ],
     "output_type": "stream"
    }
   ],
   "source": [
    "# 打印各元素在数组中升序排列的索引\n",
    "a = np.random.randint(1,100,20)\n",
    "print(a.argsort())"
   ],
   "metadata": {
    "collapsed": false,
    "pycharm": {
     "name": "#%%\n",
     "is_executing": false
    }
   }
  },
  {
   "cell_type": "code",
   "execution_count": 28,
   "outputs": [
    {
     "name": "stdout",
     "text": [
      "[[12 13 14 19  3]\n [ 7 17  1 15  6]\n [ 8  9 10 15 10]\n [17  9 18 15  3]]\n[19 17 15 18]\n"
     ],
     "output_type": "stream"
    }
   ],
   "source": [
    "# 得到二维随机数组各行的最大值\n",
    "a = np.random.randint(1,20,size=(4,5))\n",
    "print(a)\n",
    "print(a.max(axis=1))"
   ],
   "metadata": {
    "collapsed": false,
    "pycharm": {
     "name": "#%%\n",
     "is_executing": false
    }
   }
  },
  {
   "cell_type": "code",
   "execution_count": 30,
   "outputs": [
    {
     "name": "stdout",
     "text": [
      "[3 1 8 3]\n"
     ],
     "output_type": "stream"
    }
   ],
   "source": [
    "# 得到二维随机数组各行的最小值（区别上面的方法）?\n",
    "print(np.apply_along_axis(np.min,axis=1,arr=a))"
   ],
   "metadata": {
    "collapsed": false,
    "pycharm": {
     "name": "#%%\n",
     "is_executing": false
    }
   }
  },
  {
   "cell_type": "code",
   "execution_count": 36,
   "outputs": [
    {
     "name": "stdout",
     "text": [
      "8.48528137423857\n8.48528137423857\n"
     ],
     "output_type": "stream"
    }
   ],
   "source": [
    "# 87. 计算两个数组之间的欧氏距离\n",
    "a = np.array([1,2])\n",
    "b = np.array([7,8])\n",
    "# 数学方法\n",
    "print(np.sqrt(np.power((8-2),2)+np.power((7-1),2)))\n",
    "\n",
    "# numpy?\n",
    "print(np.linalg.norm(b-a))"
   ],
   "metadata": {
    "collapsed": false,
    "pycharm": {
     "name": "#%%\n",
     "is_executing": false
    }
   }
  },
  {
   "cell_type": "code",
   "execution_count": 38,
   "outputs": [
    {
     "name": "stdout",
     "text": [
      "实部: [1. 3. 5.]\n虚部 [2. 4. 6.]\n"
     ],
     "output_type": "stream"
    }
   ],
   "source": [
    "# 打印复数的实部和虚部\n",
    "a = np.array([1+2j,3+4j,5+6j])\n",
    "print(\"实部:\",a.real)\n",
    "print('虚部',a.imag)"
   ],
   "metadata": {
    "collapsed": false,
    "pycharm": {
     "name": "#%%\n",
     "is_executing": false
    }
   }
  },
  {
   "cell_type": "code",
   "execution_count": 10,
   "outputs": [],
   "source": [
    "# 求解给出矩阵的逆矩阵并验证\n",
    "matrix = np.array([[1,2],[3,4]])\n",
    "inv = np.linalg.inv(matrix)\n",
    "\n",
    "# allclose \n",
    "assert np.allclose(np.dot(inv,matrix),np.eye(2))\n",
    "# np.dot(inv,matrix) == np.eye(2)"
   ],
   "metadata": {
    "collapsed": false,
    "pycharm": {
     "name": "#%%\n",
     "is_executing": false
    }
   }
  },
  {
   "cell_type": "code",
   "execution_count": 15,
   "outputs": [
    {
     "name": "stdout",
     "text": [
      "Z标准化后 \n [[0.33 0.67 1.   0.56 0.89]\n [0.22 0.22 0.22 0.   0.89]\n [0.22 1.   0.78 0.44 1.  ]\n [0.11 0.56 0.33 0.11 1.  ]\n [0.11 0.67 0.22 0.78 0.78]]\n"
     ],
     "output_type": "stream"
    }
   ],
   "source": [
    "# 使用 Z-Score 标准化算法对数据进行标准化处理?\n",
    "def z_score(x,axis=None):\n",
    "    min = x.min(axis=axis,keepdims=True)\n",
    "    max = x.max(axis=axis,keepdims=True)\n",
    "    result = (x-min)/(max-min)\n",
    "    return result\n",
    "z = np.random.randint(10,size=(5,5))\n",
    "np.set_printoptions(precision=2)\n",
    "print('Z标准化后','\\n',z_score(z))"
   ],
   "metadata": {
    "collapsed": false,
    "pycharm": {
     "name": "#%%\n",
     "is_executing": false
    }
   }
  },
  {
   "cell_type": "code",
   "execution_count": 19,
   "outputs": [
    {
     "name": "stdout",
     "text": [
      "[[4 3 5 0 3]\n [8 3 2 2 9]\n [2 4 5 2 6]\n [8 8 3 9 1]\n [5 9 7 2 2]]\n范数标准化后 \n [[0.52 0.39 0.65 0.   0.39]\n [0.63 0.24 0.16 0.16 0.71]\n [0.22 0.43 0.54 0.22 0.65]\n [0.54 0.54 0.2  0.61 0.07]\n [0.39 0.7  0.55 0.16 0.16]]\n"
     ],
     "output_type": "stream"
    }
   ],
   "source": [
    "# 使用 L2 范数对数据进行标准化处理?\n",
    "def I2_normalize(v,axis=1,order=2):\n",
    "    I2 = np.linalg.norm(v,ord=order,axis=axis,keepdims=True)\n",
    "    I2[I2==0]=1\n",
    "    return v/I2\n",
    "z = np.random.randint(10,size=(5,5))\n",
    "print(z)\n",
    "print('范数标准化后','\\n',I2_normalize(z))"
   ],
   "metadata": {
    "collapsed": false,
    "pycharm": {
     "name": "#%%\n",
     "is_executing": false
    }
   }
  },
  {
   "cell_type": "code",
   "execution_count": 20,
   "outputs": [
    {
     "name": "stdout",
     "text": [
      "[[ 1.   -0.06  0.97]\n [-0.06  1.   -0.01]\n [ 0.97 -0.01  1.  ]]\n"
     ],
     "output_type": "stream"
    }
   ],
   "source": [
    "# 使用 NumPy 计算变量直接的相关性系数?\n",
    "z = np.array([[1, 2, 1, 9, 10, 3, 2, 6, 7], # 特征 A\n",
    "             [2, 1, 8, 3, 7, 5, 10, 7, 2], # 特征 B\n",
    "             [2, 1, 1, 8, 9, 4, 3, 5, 7]]) # 特征 C\n",
    "print(np.corrcoef(z))"
   ],
   "metadata": {
    "collapsed": false,
    "pycharm": {
     "name": "#%%\n",
     "is_executing": false
    }
   }
  },
  {
   "cell_type": "code",
   "execution_count": 44,
   "outputs": [
    {
     "name": "stdout",
     "text": [
      "[[1 2 3]\n [4 5 6]\n [7 8 9]]\n[[-0.23 -0.79  0.41]\n [-0.53 -0.09 -0.82]\n [-0.82  0.61  0.41]]\n[[-3.74e+00  8.78e-01 -3.98e-16]\n [-8.47e+00  9.69e-02  7.97e-16]\n [-1.32e+01 -6.84e-01 -3.98e-16]]\n"
     ],
     "output_type": "stream"
    }
   ],
   "source": [
    "# 使用 NumPy 计算矩阵的特征值和特征向量?\n",
    "m = np.array([[1,2,3],[4,5,6],[7,8,9]])\n",
    "w,v = np.linalg.eig(m)\n",
    "# 我们可以通过 P'AP=M 公式反算，验证是否能得到原矩阵。\n",
    "# v * np.diag(w) * np.linalg.inv(v)\n",
    "print(m)\n",
    "print(v)\n",
    "# print(v*np.diag(w)*np.linalg.inv(v))\n",
    "print(np.dot(v,np.diag(w),np.linalg.inv(v)))"
   ],
   "metadata": {
    "collapsed": false,
    "pycharm": {
     "name": "#%%\n",
     "is_executing": false
    }
   }
  },
  {
   "cell_type": "code",
   "execution_count": 25,
   "outputs": [
    {
     "name": "stdout",
     "text": [
      "[3 1 3 9 9 4 2 2 7 5]\n[-2  2  6  0 -5 -2  0  5 -2]\n[ 4  4 -6 -5  3  2  5 -7]\n[  0 -10   1   8  -1   3 -12]\n"
     ],
     "output_type": "stream"
    }
   ],
   "source": [
    "# 使用 NumPy 计算 Ndarray 两相邻元素差值?\n",
    "z = np.random.randint(1,10,10)\n",
    "print(z)\n",
    "print(np.diff(z,n=1))\n",
    "print(np.diff(z,n=2))\n",
    "print(np.diff(z,n=3))"
   ],
   "metadata": {
    "collapsed": false,
    "pycharm": {
     "name": "#%%\n",
     "is_executing": false
    }
   }
  },
  {
   "cell_type": "code",
   "execution_count": 47,
   "outputs": [
    {
     "data": {
      "text/plain": "array([ 6, 11, 20, 24, 26, 34, 40, 45, 47, 48], dtype=int32)"
     },
     "metadata": {},
     "output_type": "execute_result",
     "execution_count": 47
    }
   ],
   "source": [
    "# 使用 NumPy 将 Ndarray 相邻元素依次累加\n",
    "z = np.random.randint(1,10,10)\n",
    "np.cumsum(z)"
   ],
   "metadata": {
    "collapsed": false,
    "pycharm": {
     "name": "#%%\n",
     "is_executing": false
    }
   }
  },
  {
   "cell_type": "code",
   "execution_count": 57,
   "outputs": [
    {
     "name": "stdout",
     "text": [
      "按列连接 [[1 4]\n [2 5]\n [3 6]]\nm1: [1 2 3]\nm2 [4 5 6]\n"
     ],
     "output_type": "stream"
    }
   ],
   "source": [
    "# 使用 NumPy 按列连接两个数组?\n",
    "m1 = np.array([1,2,3])\n",
    "m2 = np.array([4,5,6])\n",
    "print('按列连接',np.c_[m1,m2])\n",
    "print('m1:',m1)\n",
    "print('m2',m2)"
   ],
   "metadata": {
    "collapsed": false,
    "pycharm": {
     "name": "#%%\n",
     "is_executing": false
    }
   }
  },
  {
   "cell_type": "code",
   "execution_count": 56,
   "outputs": [
    {
     "name": "stdout",
     "text": [
      "按行连接 [1 2 3 4 5 6]\nm1: [1 2 3]\nm2 [4 5 6]\n"
     ],
     "output_type": "stream"
    }
   ],
   "source": [
    "# 使用 NumPy 按行连接两个数组?\n",
    "m1 = np.array([1,2,3])\n",
    "m2 = np.array([4,5,6])\n",
    "np.r_[m1,m2]\n",
    "print('按行连接',np.r_[m1,m2])\n",
    "print('m1:',m1)\n",
    "print('m2',m2)"
   ],
   "metadata": {
    "collapsed": false,
    "pycharm": {
     "name": "#%%\n",
     "is_executing": false
    }
   }
  },
  {
   "cell_type": "code",
   "execution_count": 58,
   "outputs": [
    {
     "data": {
      "text/plain": "array([[ 1.,  2.,  3.,  4.,  5.,  6.,  7.,  8.,  9.],\n       [ 2.,  4.,  6.,  8., 10., 12., 14., 16., 18.],\n       [ 3.,  6.,  9., 12., 15., 18., 21., 24., 27.],\n       [ 4.,  8., 12., 16., 20., 24., 28., 32., 36.],\n       [ 5., 10., 15., 20., 25., 30., 35., 40., 45.],\n       [ 6., 12., 18., 24., 30., 36., 42., 48., 54.],\n       [ 7., 14., 21., 28., 35., 42., 49., 56., 63.],\n       [ 8., 16., 24., 32., 40., 48., 56., 64., 72.],\n       [ 9., 18., 27., 36., 45., 54., 63., 72., 81.]])"
     },
     "metadata": {},
     "output_type": "execute_result",
     "execution_count": 58
    }
   ],
   "source": [
    "# 构造9*9乘法表\n",
    "np.fromfunction(lambda x,y: (x+1)*(y+1),(9,9))"
   ],
   "metadata": {
    "collapsed": false,
    "pycharm": {
     "name": "#%%\n",
     "is_executing": false
    }
   }
  }
 ],
 "metadata": {
  "language_info": {
   "codemirror_mode": {
    "name": "ipython",
    "version": 2
   },
   "file_extension": ".py",
   "mimetype": "text/x-python",
   "name": "python",
   "nbconvert_exporter": "python",
   "pygments_lexer": "ipython2",
   "version": "2.7.6"
  },
  "kernelspec": {
   "name": "python3",
   "language": "python",
   "display_name": "Python 3"
  },
  "pycharm": {
   "stem_cell": {
    "cell_type": "raw",
    "source": [],
    "metadata": {
     "collapsed": false
    }
   }
  }
 },
 "nbformat": 4,
 "nbformat_minor": 0
}