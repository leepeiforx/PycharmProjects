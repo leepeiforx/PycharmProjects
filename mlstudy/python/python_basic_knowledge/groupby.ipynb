{
 "cells": [
  {
   "cell_type": "code",
   "execution_count": 2,
   "metadata": {
    "collapsed": true,
    "pycharm": {
     "is_executing": false
    }
   },
   "outputs": [],
   "source": [
    "import numpy as np\n",
    "import pandas as pd"
   ]
  },
  {
   "cell_type": "code",
   "execution_count": 7,
   "outputs": [
    {
     "name": "stdout",
     "text": [
      "pieces   key1 key2     data1     data2\n0    a  one -0.680184  0.567828\n4    a  one  1.995853 -1.563031\n"
     ],
     "output_type": "stream"
    }
   ],
   "source": [
    "df = pd.DataFrame({'key1':['a','a','b','b','a'],\n",
    "                  'key2':['one','two','one','two','one'],\n",
    "                  'data1':np.random.randn(5),\n",
    "                  'data2':np.random.randn(5)})\n",
    "df\n",
    "\n",
    "grouped = df['data1'].groupby(df['key1'])\n",
    "\n",
    "means = df['data1'].groupby([df['key1'],df['key2']]).mean()\n",
    "df_mean = df.groupby(['key1','key2']).mean()\n",
    "df_mean\n",
    "\n",
    "pieces = dict(list(df.groupby(['key1','key2'])))\n",
    "print('pieces',pieces['a','one'])\n",
    "\n",
    "# size,count\n",
    "grouped_size = df.groupby(['key1','key2']).count()\n",
    "grouped_size\n",
    "\n",
    "# for name,group in df.groupby('key1'):\n",
    "#     print(name)\n",
    "#     print(group)\n",
    "    \n",
    "# for (k1,k2),group in df.groupby(['key1','key2']):\n",
    "#     print((k1,k2))\n",
    "#     print(group)\n",
    "    \n",
    "# df['data1'].groupby(df['key1'])\n",
    "# df[['data2']].groupby(df['key1'])\n",
    "\n",
    "# print( df.groupby(['key1','key2'])['data1'].mean())\n",
    "# print(df.groupby(['key1','key2'])[['data1']].mean())\n",
    "\n",
    "#通过字典或series进行分组\n",
    "people = pd.DataFrame(np.random.randn(5,5),\n",
    "                      columns=['a','b','c','d','e'],\n",
    "                      index=['Joe','Steve','Wes','Jim','Travis'])\n",
    "people.loc[['Wes'],['b','c']]=np.nan\n",
    "\n",
    "people\n",
    "\n",
    "mapping = {'a':'red','b':'red','c':'blue','d':'blue','e':'red','f':'orange'}\n",
    "by_column = people.groupby(mapping,axis=1)\n",
    "by_column.sum()\n",
    "\n",
    "map_series = pd.Series(mapping)\n",
    "# by_count = people.groupby(map_series,axis=1).count()\n",
    "# by_count\n",
    "\n",
    "#将函数作为分组键"
   ],
   "metadata": {
    "collapsed": false,
    "pycharm": {
     "name": "#%%\n",
     "is_executing": false
    }
   }
  },
  {
   "cell_type": "code",
   "execution_count": 49,
   "outputs": [
    {
     "data": {
      "text/plain": "                a         b         c         d         e\n3 one   -1.151348  0.214927 -1.573729  0.725333 -0.223165\n  two    0.447798 -1.787527  0.129909 -0.400403 -1.140761\n5 one   -0.409585  1.868587  0.448303 -0.790844 -0.142454\n6 three -1.508390  1.647779  0.191571  0.278282  3.122354",
      "text/html": "<div>\n<style scoped>\n    .dataframe tbody tr th:only-of-type {\n        vertical-align: middle;\n    }\n\n    .dataframe tbody tr th {\n        vertical-align: top;\n    }\n\n    .dataframe thead th {\n        text-align: right;\n    }\n</style>\n<table border=\"1\" class=\"dataframe\">\n  <thead>\n    <tr style=\"text-align: right;\">\n      <th></th>\n      <th></th>\n      <th>a</th>\n      <th>b</th>\n      <th>c</th>\n      <th>d</th>\n      <th>e</th>\n    </tr>\n  </thead>\n  <tbody>\n    <tr>\n      <td rowspan=\"2\" valign=\"top\">3</td>\n      <td>one</td>\n      <td>-1.151348</td>\n      <td>0.214927</td>\n      <td>-1.573729</td>\n      <td>0.725333</td>\n      <td>-0.223165</td>\n    </tr>\n    <tr>\n      <td>two</td>\n      <td>0.447798</td>\n      <td>-1.787527</td>\n      <td>0.129909</td>\n      <td>-0.400403</td>\n      <td>-1.140761</td>\n    </tr>\n    <tr>\n      <td>5</td>\n      <td>one</td>\n      <td>-0.409585</td>\n      <td>1.868587</td>\n      <td>0.448303</td>\n      <td>-0.790844</td>\n      <td>-0.142454</td>\n    </tr>\n    <tr>\n      <td>6</td>\n      <td>three</td>\n      <td>-1.508390</td>\n      <td>1.647779</td>\n      <td>0.191571</td>\n      <td>0.278282</td>\n      <td>3.122354</td>\n    </tr>\n  </tbody>\n</table>\n</div>"
     },
     "metadata": {},
     "output_type": "execute_result",
     "execution_count": 49
    }
   ],
   "source": [
    "key_list=['one','one','one','two','three']\n",
    "people.groupby([len,key_list]).min()"
   ],
   "metadata": {
    "collapsed": false,
    "pycharm": {
     "name": "#%%\n",
     "is_executing": false
    }
   }
  },
  {
   "cell_type": "code",
   "execution_count": 20,
   "outputs": [
    {
     "data": {
      "text/plain": "           foo       bar\nkey1                    \na    -0.504323  2.417049\nb     0.610740  0.272312",
      "text/html": "<div>\n<style scoped>\n    .dataframe tbody tr th:only-of-type {\n        vertical-align: middle;\n    }\n\n    .dataframe tbody tr th {\n        vertical-align: top;\n    }\n\n    .dataframe thead th {\n        text-align: right;\n    }\n</style>\n<table border=\"1\" class=\"dataframe\">\n  <thead>\n    <tr style=\"text-align: right;\">\n      <th></th>\n      <th>foo</th>\n      <th>bar</th>\n    </tr>\n    <tr>\n      <th>key1</th>\n      <th></th>\n      <th></th>\n    </tr>\n  </thead>\n  <tbody>\n    <tr>\n      <td>a</td>\n      <td>-0.504323</td>\n      <td>2.417049</td>\n    </tr>\n    <tr>\n      <td>b</td>\n      <td>0.610740</td>\n      <td>0.272312</td>\n    </tr>\n  </tbody>\n</table>\n</div>"
     },
     "metadata": {},
     "output_type": "execute_result",
     "execution_count": 20
    }
   ],
   "source": [
    "columns = pd.MultiIndex.from_arrays([['US','US','US','JP','JP'],[1,3,5,1,3]],\n",
    "                                    names=['cty','tenor'])\n",
    "heir_df = pd.DataFrame(np.random.randn(5,5),columns=columns)\n",
    "heir_df\n",
    "\n",
    "def peak_to_peak(arr):\n",
    "    return arr.max()-arr.min()\n",
    "\n",
    "grouped.agg(['count','sum','max'])\n",
    "\n",
    "grouped.agg([('foo','mean'),('bar','std')])"
   ],
   "metadata": {
    "collapsed": false,
    "pycharm": {
     "name": "#%%\n",
     "is_executing": false
    }
   }
  },
  {
   "cell_type": "code",
   "execution_count": 21,
   "outputs": [
    {
     "data": {
      "text/plain": "        data1     data2\n0   -0.771054  0.100115\n1   -0.298054 -0.336343\n2   -0.148484  0.046924\n3   -1.170017  0.594860\n4    0.185646 -1.481051\n..        ...       ...\n995 -0.355783 -0.996650\n996  0.977989 -1.205811\n997  0.001878 -0.408046\n998  1.684264 -1.178536\n999  1.635519 -2.037998\n\n[1000 rows x 2 columns]",
      "text/html": "<div>\n<style scoped>\n    .dataframe tbody tr th:only-of-type {\n        vertical-align: middle;\n    }\n\n    .dataframe tbody tr th {\n        vertical-align: top;\n    }\n\n    .dataframe thead th {\n        text-align: right;\n    }\n</style>\n<table border=\"1\" class=\"dataframe\">\n  <thead>\n    <tr style=\"text-align: right;\">\n      <th></th>\n      <th>data1</th>\n      <th>data2</th>\n    </tr>\n  </thead>\n  <tbody>\n    <tr>\n      <td>0</td>\n      <td>-0.771054</td>\n      <td>0.100115</td>\n    </tr>\n    <tr>\n      <td>1</td>\n      <td>-0.298054</td>\n      <td>-0.336343</td>\n    </tr>\n    <tr>\n      <td>2</td>\n      <td>-0.148484</td>\n      <td>0.046924</td>\n    </tr>\n    <tr>\n      <td>3</td>\n      <td>-1.170017</td>\n      <td>0.594860</td>\n    </tr>\n    <tr>\n      <td>4</td>\n      <td>0.185646</td>\n      <td>-1.481051</td>\n    </tr>\n    <tr>\n      <td>...</td>\n      <td>...</td>\n      <td>...</td>\n    </tr>\n    <tr>\n      <td>995</td>\n      <td>-0.355783</td>\n      <td>-0.996650</td>\n    </tr>\n    <tr>\n      <td>996</td>\n      <td>0.977989</td>\n      <td>-1.205811</td>\n    </tr>\n    <tr>\n      <td>997</td>\n      <td>0.001878</td>\n      <td>-0.408046</td>\n    </tr>\n    <tr>\n      <td>998</td>\n      <td>1.684264</td>\n      <td>-1.178536</td>\n    </tr>\n    <tr>\n      <td>999</td>\n      <td>1.635519</td>\n      <td>-2.037998</td>\n    </tr>\n  </tbody>\n</table>\n<p>1000 rows × 2 columns</p>\n</div>"
     },
     "metadata": {},
     "output_type": "execute_result",
     "execution_count": 21
    }
   ],
   "source": [
    "frame = pd.DataFrame({'data1':np.random.randn(1000),\n",
    "                      'data2':np.random.randn(1000)\n",
    "})\n",
    "\n",
    "grouping = pd.cut(frame['data1'],10,labels=False)\n",
    "grouped = frame['data2'].groupby(grouping)\n",
    "grouped.apply()"
   ],
   "metadata": {
    "collapsed": false,
    "pycharm": {
     "name": "#%%\n",
     "is_executing": false
    }
   }
  },
  {
   "cell_type": "code",
   "execution_count": 33,
   "outputs": [
    {
     "data": {
      "text/plain": "                a    b             c             d             e\none  7.401487e-17  0.0  0.000000e+00  3.700743e-17  0.000000e+00\ntwo  0.000000e+00  0.0 -5.551115e-17 -5.551115e-17 -1.110223e-16",
      "text/html": "<div>\n<style scoped>\n    .dataframe tbody tr th:only-of-type {\n        vertical-align: middle;\n    }\n\n    .dataframe tbody tr th {\n        vertical-align: top;\n    }\n\n    .dataframe thead th {\n        text-align: right;\n    }\n</style>\n<table border=\"1\" class=\"dataframe\">\n  <thead>\n    <tr style=\"text-align: right;\">\n      <th></th>\n      <th>a</th>\n      <th>b</th>\n      <th>c</th>\n      <th>d</th>\n      <th>e</th>\n    </tr>\n  </thead>\n  <tbody>\n    <tr>\n      <td>one</td>\n      <td>7.401487e-17</td>\n      <td>0.0</td>\n      <td>0.000000e+00</td>\n      <td>3.700743e-17</td>\n      <td>0.000000e+00</td>\n    </tr>\n    <tr>\n      <td>two</td>\n      <td>0.000000e+00</td>\n      <td>0.0</td>\n      <td>-5.551115e-17</td>\n      <td>-5.551115e-17</td>\n      <td>-1.110223e-16</td>\n    </tr>\n  </tbody>\n</table>\n</div>"
     },
     "metadata": {},
     "output_type": "execute_result",
     "execution_count": 33
    }
   ],
   "source": [
    "people\n",
    "key = ['one','two','one','two','one']\n",
    "def demean(arr):\n",
    "    return arr - arr.mean()\n",
    "demanded = people.groupby(key).transform(demean)\n",
    "demanded.groupby(key).mean() "
   ],
   "metadata": {
    "collapsed": false,
    "pycharm": {
     "name": "#%%\n",
     "is_executing": false
    }
   }
  },
  {
   "cell_type": "code",
   "execution_count": 41,
   "outputs": [
    {
     "data": {
      "text/plain": "            min       max      mean  count\ndata1                                     \n0     -2.407391  2.907259 -0.102385  100.0\n1     -2.718171  2.612649 -0.142339  100.0\n2     -2.640231  2.452509  0.111924  100.0\n3     -2.597284  1.382537 -0.115205  100.0\n4     -3.154199  3.077329  0.134458  100.0\n5     -2.577593  3.668805  0.236058  100.0\n6     -2.254970  3.346818 -0.016752  100.0\n7     -3.160090  2.879596  0.040488  100.0\n8     -2.052475  2.274446  0.070128  100.0\n9     -2.275356  2.685218  0.004359  100.0",
      "text/html": "<div>\n<style scoped>\n    .dataframe tbody tr th:only-of-type {\n        vertical-align: middle;\n    }\n\n    .dataframe tbody tr th {\n        vertical-align: top;\n    }\n\n    .dataframe thead th {\n        text-align: right;\n    }\n</style>\n<table border=\"1\" class=\"dataframe\">\n  <thead>\n    <tr style=\"text-align: right;\">\n      <th></th>\n      <th>min</th>\n      <th>max</th>\n      <th>mean</th>\n      <th>count</th>\n    </tr>\n    <tr>\n      <th>data1</th>\n      <th></th>\n      <th></th>\n      <th></th>\n      <th></th>\n    </tr>\n  </thead>\n  <tbody>\n    <tr>\n      <td>0</td>\n      <td>-2.407391</td>\n      <td>2.907259</td>\n      <td>-0.102385</td>\n      <td>100.0</td>\n    </tr>\n    <tr>\n      <td>1</td>\n      <td>-2.718171</td>\n      <td>2.612649</td>\n      <td>-0.142339</td>\n      <td>100.0</td>\n    </tr>\n    <tr>\n      <td>2</td>\n      <td>-2.640231</td>\n      <td>2.452509</td>\n      <td>0.111924</td>\n      <td>100.0</td>\n    </tr>\n    <tr>\n      <td>3</td>\n      <td>-2.597284</td>\n      <td>1.382537</td>\n      <td>-0.115205</td>\n      <td>100.0</td>\n    </tr>\n    <tr>\n      <td>4</td>\n      <td>-3.154199</td>\n      <td>3.077329</td>\n      <td>0.134458</td>\n      <td>100.0</td>\n    </tr>\n    <tr>\n      <td>5</td>\n      <td>-2.577593</td>\n      <td>3.668805</td>\n      <td>0.236058</td>\n      <td>100.0</td>\n    </tr>\n    <tr>\n      <td>6</td>\n      <td>-2.254970</td>\n      <td>3.346818</td>\n      <td>-0.016752</td>\n      <td>100.0</td>\n    </tr>\n    <tr>\n      <td>7</td>\n      <td>-3.160090</td>\n      <td>2.879596</td>\n      <td>0.040488</td>\n      <td>100.0</td>\n    </tr>\n    <tr>\n      <td>8</td>\n      <td>-2.052475</td>\n      <td>2.274446</td>\n      <td>0.070128</td>\n      <td>100.0</td>\n    </tr>\n    <tr>\n      <td>9</td>\n      <td>-2.275356</td>\n      <td>2.685218</td>\n      <td>0.004359</td>\n      <td>100.0</td>\n    </tr>\n  </tbody>\n</table>\n</div>"
     },
     "metadata": {},
     "output_type": "execute_result",
     "execution_count": 41
    }
   ],
   "source": [
    "frame = pd.DataFrame({'data1':np.random.randn(1000),\n",
    "                      'data2':np.random.randn(1000)})\n",
    "factor = pd.cut(frame.data1,4)\n",
    "factor\n",
    "def get_stats(arr):\n",
    "    return ({'min':arr.min(),\n",
    "            'max':arr.max(),\n",
    "            'mean':arr.mean(),\n",
    "             'count':arr.count()})\n",
    "grouped = frame['data2'].groupby(factor)\n",
    "grouped.apply(get_stats).unstack()\n",
    "\n",
    "\n",
    "grouping = pd.qcut(frame['data1'],10,labels=False)\n",
    "grouped =frame['data2'].groupby(grouping)\n",
    "grouped.apply(get_stats).unstack()"
   ],
   "metadata": {
    "collapsed": false,
    "pycharm": {
     "name": "#%%\n",
     "is_executing": false
    }
   }
  },
  {
   "cell_type": "code",
   "execution_count": 61,
   "outputs": [
    {
     "name": "stdout",
     "text": [
      "2019-05-01 00:00:00\n"
     ],
     "output_type": "stream"
    }
   ],
   "source": [
    "from datetime import datetime\n",
    "delta = datetime.now() - datetime(2008,6,24,23,8,15)\n",
    "# delta\n",
    "\n",
    "from dateutil.parser import parse\n",
    "print(parse('2019-May-1'))"
   ],
   "metadata": {
    "collapsed": false,
    "pycharm": {
     "name": "#%%\n",
     "is_executing": false
    }
   }
  },
  {
   "cell_type": "code",
   "execution_count": 66,
   "outputs": [
    {
     "data": {
      "text/plain": "array([False, False,  True])"
     },
     "metadata": {},
     "output_type": "execute_result",
     "execution_count": 66
    }
   ],
   "source": [
    "datestrs = ['7/6/2011','8/6/2011']\n",
    "pd.to_datetime(datestrs)\n",
    "idx = pd.to_datetime(datestrs+[None])\n",
    "pd.isnull(idx)\n",
    "\n"
   ],
   "metadata": {
    "collapsed": false,
    "pycharm": {
     "name": "#%%\n",
     "is_executing": false
    }
   }
  }
 ],
 "metadata": {
  "kernelspec": {
   "display_name": "Python 3",
   "language": "python",
   "name": "python3"
  },
  "language_info": {
   "codemirror_mode": {
    "name": "ipython",
    "version": 2
   },
   "file_extension": ".py",
   "mimetype": "text/x-python",
   "name": "python",
   "nbconvert_exporter": "python",
   "pygments_lexer": "ipython2",
   "version": "2.7.6"
  },
  "pycharm": {
   "stem_cell": {
    "cell_type": "raw",
    "source": [],
    "metadata": {
     "collapsed": false
    }
   }
  }
 },
 "nbformat": 4,
 "nbformat_minor": 0
}