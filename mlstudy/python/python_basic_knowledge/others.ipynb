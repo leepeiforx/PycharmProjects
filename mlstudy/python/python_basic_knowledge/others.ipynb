{
 "cells": [
  {
   "cell_type": "code",
   "execution_count": 30,
   "metadata": {
    "collapsed": true,
    "pycharm": {
     "is_executing": false
    }
   },
   "outputs": [
    {
     "data": {
      "text/plain": "(1, 4, 9)"
     },
     "metadata": {},
     "output_type": "execute_result",
     "execution_count": 30
    }
   ],
   "source": [
    "# 闭包\n",
    "def sum_rightnow(*args):\n",
    "    ax = 0\n",
    "    for n in args:\n",
    "        ax = ax + n\n",
    "    return ax\n",
    "# print(sum_rightnow(1,2,3,4,5))\n",
    " \n",
    "def lazy_sum(*args):\n",
    "    def d_sum():\n",
    "        ax = 0\n",
    "        for n in args:\n",
    "            ax = ax + n\n",
    "        return ax\n",
    "    return d_sum\n",
    "f = lazy_sum(1,2,3,4,5)\n",
    "\n",
    "def count():\n",
    "    fs = []\n",
    "    for i in range(1,4):\n",
    "        def f():\n",
    "            return i*i\n",
    "        fs.append(f)\n",
    "    return fs\n",
    "\n",
    "# f1,f2,f3 = count()\n",
    "# f1()\n",
    "# f2()\n",
    "# f3()\n",
    "\n",
    "def count2():\n",
    "    def f(j):\n",
    "        def g():\n",
    "            return j*j\n",
    "        return g\n",
    "    fs = []\n",
    "    for i in range(1,4):\n",
    "        fs.append(f(i))\n",
    "    return fs\n",
    "f1,f2,f3 = count2()\n",
    "f1(),f2(),f3()"
   ]
  },
  {
   "cell_type": "code",
   "execution_count": 1,
   "outputs": [
    {
     "name": "stdout",
     "text": [
      "execute this now():\n2019-8-21\n"
     ],
     "output_type": "stream"
    }
   ],
   "source": [
    "# 装饰器\n",
    "def log(text):\n",
    "    def decorator(func):\n",
    "        def wrapper(*args, **kwargs):\n",
    "            print('%s %s():' % (text, func.__name__))\n",
    "            return func(*args, **kwargs)\n",
    "        return wrapper\n",
    "    return decorator\n",
    "\n",
    "@log('execute this')\n",
    "def now():\n",
    "    print('2019-8-21')\n",
    "\n",
    "now()"
   ],
   "metadata": {
    "collapsed": false,
    "pycharm": {
     "name": "#%%\n",
     "is_executing": false
    }
   }
  }
 ],
 "metadata": {
  "language_info": {
   "codemirror_mode": {
    "name": "ipython",
    "version": 2
   },
   "file_extension": ".py",
   "mimetype": "text/x-python",
   "name": "python",
   "nbconvert_exporter": "python",
   "pygments_lexer": "ipython2",
   "version": "2.7.6"
  },
  "kernelspec": {
   "name": "python3",
   "language": "python",
   "display_name": "Python 3"
  },
  "pycharm": {
   "stem_cell": {
    "cell_type": "raw",
    "source": [],
    "metadata": {
     "collapsed": false
    }
   }
  }
 },
 "nbformat": 4,
 "nbformat_minor": 0
}