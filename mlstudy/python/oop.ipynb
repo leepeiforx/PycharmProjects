{
 "cells": [
  {
   "cell_type": "code",
   "execution_count": null,
   "metadata": {
    "collapsed": true
   },
   "outputs": [],
   "source": [
    "'''面向对象\n",
    "面向过程,你,1.摘菜,2.洗菜,3.准备佐料,4.进行翻炒,5.出菜\n",
    "面向对象,寻找一个功能对象, 厨师,->1.摘菜,2.洗菜,3.准备佐料,4.进行翻炒,5.出菜'''\n",
    "\n",
    "'''面向对象和面向过程都是开发程序的模式\n",
    "面向对象是程序员找一个功能对象,功能对象里面提供功能方法,程序员只负责调度,不关心\n",
    "具体实现\n",
    "面向过程,自己实现过程的步骤,完成功能的开发,自己亲力亲为'''\n",
    "\n",
    "'''面向对象: 你->功能对象.功能方法()\n",
    "面向过程: 你->功能函数'''"
   ]
  },
  {
   "cell_type": "code",
   "execution_count": 6,
   "outputs": [
    {
     "name": "stdout",
     "text": [
      "I'm a teacher\n<class 'type'>\n<class 'type'>\n"
     ],
     "output_type": "stream"
    }
   ],
   "source": [
    "# 类和对象的介绍\n",
    "# 类:事或者物的一个分类 类只是一个概念\n",
    "# 对象:具体到某一个事或者物\n",
    "\n",
    "# 汽车->类\n",
    "# XX家的汽车->对象\n",
    "\n",
    "# 类的定义\n",
    "# 需要使用关键字,class,\n",
    "# 类里面包含属性(特征)和方法(行为)\n",
    "\n",
    "# 这是旧式类,自己不主动继承object,在python3里旧式类默认继承object,\n",
    "# python2里面就没有父类\n",
    "class Teacher:\n",
    "    # 类属性\n",
    "    country = '中国'\n",
    "    # 类方法\n",
    "    def show(self):\n",
    "        print('I\\'m a teacher')\n",
    "        \n",
    "# 通过类创建对象,类好比一个模具,模具可以创建很多个对象\n",
    "\n",
    "# 类名(),表示创建了一个对象\n",
    "teacher = Teacher()\n",
    "\n",
    "# 调用方法,对象名.方法名\n",
    "teacher.show()\n",
    "\n",
    "# 查看类继承的父类\n",
    "print(Teacher.__class__)\n",
    "\n",
    "# 新式类,建议使用新式类\n",
    "class Teacher2(object):\n",
    "        # 类属性\n",
    "    country = '中国'\n",
    "    # 类方法\n",
    "    def show(self):\n",
    "        print('I\\'m a teacher')\n",
    "        \n",
    "print(Teacher2.__class__)"
   ],
   "metadata": {
    "collapsed": false,
    "pycharm": {
     "name": "#%%\n",
     "is_executing": false
    }
   }
  },
  {
   "cell_type": "code",
   "execution_count": 1,
   "outputs": [
    {
     "name": "stdout",
     "text": [
      "nice weather\n张三 30\n",
      "对象初始化了\n"
     ],
     "output_type": "stream"
    }
   ],
   "source": [
    "# 给对象添加属性和方法\n",
    "\n",
    "class Teacher:\n",
    "    def show(self):\n",
    "        print('nice weather')\n",
    "\n",
    "teacher = Teacher()\n",
    "teacher.show()\n",
    "\n",
    "# 动态添加对象属性\n",
    "teacher.name = '张三'\n",
    "teacher.age = 18\n",
    "\n",
    "# 修改属性\n",
    "teacher.age = 30\n",
    "print(teacher.name,teacher.age)\n",
    "\n",
    "#魔法方法:当前需要完成某个功能操作的时候会自动调用某个方法\n",
    "# 比如__init__(),当前对象初始化的时候会调用该方法.\n",
    "# 魔法方法表现形式,以__开始,以__结束的方法表示魔法方法.\n"
   ],
   "metadata": {
    "collapsed": false,
    "pycharm": {
     "name": "#%%\n",
     "is_executing": false
    }
   }
  },
  {
   "cell_type": "code",
   "execution_count": 13,
   "outputs": [
    {
     "name": "stdout",
     "text": [
      "对象初始化了\n李四 21\n对象初始化了\n李四 21\n"
     ],
     "output_type": "stream"
    }
   ],
   "source": [
    "class Teacher3(object):\n",
    "    # self:表示当前对象\n",
    "    # 给对象初始化,添加对象属性的\n",
    "    \n",
    "    #init方法可以添加参数\n",
    "    def __init__(self,name,age):\n",
    "        print('对象初始化了')\n",
    "        self.name = name\n",
    "        self.age = age\n",
    "    \n",
    "    #显示老师信息的方法\n",
    "    def show_info(self):\n",
    "        # self:当前对象,哪个对象调用这个方法, 这个self就是谁(对象)\n",
    "        print(self.name,self.age)\n",
    "        \n",
    "teacher = Teacher3('李四',21)\n",
    "teacher.show_info()\n",
    "\n",
    "teacher1 = Teacher3('王五',30)\n",
    "teacher1.show_info()"
   ],
   "metadata": {
    "collapsed": false,
    "pycharm": {
     "name": "#%%\n",
     "is_executing": false
    }
   }
  },
  {
   "cell_type": "code",
   "execution_count": 18,
   "outputs": [
    {
     "name": "stdout",
     "text": [
      "李四 20\n我叫:李四 年龄20\n"
     ],
     "output_type": "stream"
    }
   ],
   "source": [
    "# __str__:当使用Print打印对象的时候会自动调用对象的__str__方法\n",
    "\n",
    "class Person(object):\n",
    "    def __init__(self,name,age):\n",
    "        self.name = name\n",
    "        self.age = age\n",
    "    \n",
    "    #返回对象的描述信息\n",
    "    def __str__(self):\n",
    "        # 返回一个字符串信息\n",
    "        return '我叫:%s 年龄:%d'%(self.name,self.age)\n",
    "\n",
    "# 创建对象\n",
    "# 调用Init方法使用位置参数方式传参\n",
    "# person = Person('张三',20)\n",
    "person = Person(name='李四',age=20)\n",
    "print(person.name,person.age)\n",
    "print(person)"
   ],
   "metadata": {
    "collapsed": false,
    "pycharm": {
     "name": "#%%\n",
     "is_executing": false
    }
   }
  },
  {
   "cell_type": "code",
   "execution_count": 45,
   "outputs": [
    {
     "name": "stdout",
     "text": [
      "内存地址为: <__main__.Person object at 0x000001E3B88A7AC8>\n对象释放了 <__main__.Person object at 0x000001E3B890B608>\n",
      "程序退出了\n"
     ],
     "output_type": "stream"
    }
   ],
   "source": [
    "import time\n",
    "# __del__:当对象释放的时候,会自动调用__del__方法\n",
    "# 1.程序退出,程序中所使用的对象全部销毁\n",
    "# 2.当前对象的内存地址没有变量使用的时候,那么对象会销毁\n",
    "\n",
    "class Person(object):\n",
    "    def __init__(self,name,age):\n",
    "        self.name = name\n",
    "        self.age = age\n",
    "    \n",
    "    #返回对象的描述信息\n",
    "    # def __str__(se lf):\n",
    "    #     # 返回一个字符串信息\n",
    "    #     return '我叫:%s 年龄:%d'%(self.name,self.age)\n",
    "    \n",
    "    # 当对象的引用计数为0的时候会调用__del__\n",
    "    def __del__(self):\n",
    "        print('对象释放了',self)\n",
    "        \n",
    "xiao_ming = Person('xiaoming',15)\n",
    "print('内存地址为:',xiao_ming)\n",
    "\n",
    "xiao_lan = xiao_ming\n",
    "# # 删除变量\n",
    "# del xiao_ming\n",
    "# \n",
    "# 引用计数,内存地址被变量使用的次数,当前引用计数为0表示对象销毁\n",
    "time.sleep(3)\n",
    "print('程序退出了')\n"
   ],
   "metadata": {
    "collapsed": false,
    "pycharm": {
     "name": "#%%\n",
     "is_executing": false
    }
   }
  },
  {
   "cell_type": "code",
   "execution_count": 46,
   "outputs": [
    {
     "name": "stdout",
     "text": [
      "张三 20\n"
     ],
     "output_type": "stream"
    }
   ],
   "source": [
    "# 单继承:子类只继承一个父类\n",
    "# 子类继承父类可以使用父类的方法和属性\n",
    "# 父类(基类),子类(派生类)\n",
    "# 继承的好处,子类可以复用父类的代码\n",
    "class Person(object):\n",
    "    def __init__(self):\n",
    "        self.name = '张三'\n",
    "        self.age = 20\n",
    "    # 对象方法,当前方法参数有self表示是对象方法\n",
    "    def show(self):\n",
    "        print(self.name,self.age)\n",
    "\n",
    "# x学生类是子类,小括号里是父类\n",
    "class Student(Person):\n",
    "    pass\n",
    "\n",
    "xiao_ming = Student()\n",
    "xiao_ming.show()"
   ],
   "metadata": {
    "collapsed": false,
    "pycharm": {
     "name": "#%%\n",
     "is_executing": false
    }
   }
  },
  {
   "cell_type": "code",
   "execution_count": 51,
   "outputs": [
    {
     "name": "stdout",
     "text": [
      "我是B类\n我是B类\n[<class '__main__.C'>, <class '__main__.A'>, <class '__main__.B'>, <class 'object'>]\n"
     ],
     "output_type": "stream"
    }
   ],
   "source": [
    "# 多继承:集成多个父类\n",
    "class A(object):\n",
    "    def show(self):\n",
    "        print('我是A类')\n",
    "    # pass\n",
    "\n",
    "class B(object):\n",
    "    def show_info(self):\n",
    "        print('我是B类')\n",
    "    \n",
    "    def show(self):\n",
    "        print('我是B类')\n",
    "        \n",
    "class C(A,B):\n",
    "    pass\n",
    "\n",
    "c = C()\n",
    "c.show()\n",
    "c.show_info()\n",
    "# 在python里面,方法的调用会遵循mro类继承顺序.决定了方法调用时候的查找顺序\n",
    "print(C.mro())"
   ],
   "metadata": {
    "collapsed": false,
    "pycharm": {
     "name": "#%%\n",
     "is_executing": false
    }
   }
  },
  {
   "cell_type": "code",
   "execution_count": 53,
   "outputs": [
    {
     "name": "stdout",
     "text": [
      "王五跑起来了\n"
     ],
     "output_type": "stream"
    }
   ],
   "source": [
    "# 重写父类的方法\n",
    "# 重写:父类的方法满足不了子类的需要时可以对父类的方法进行重写\n",
    "# 重写的特点,1.继承关系,2.方法名相同\n",
    "\n",
    "class Person(object):\n",
    "    def run(self):\n",
    "        print('跑起来了')\n",
    "    \n",
    "class Student(Person):\n",
    "    def __init__(self,name,age):\n",
    "        self.name = name\n",
    "        self.age = age\n",
    "    \n",
    "    #因为父类里面的方法满足不了子类的需要,对齐进行重写\n",
    "    def run(self):\n",
    "        print('%s跑起来了'%self.name)\n",
    "\n",
    "stu1 = Student('王五',20)\n",
    "# 调用方法的时候先从本类去找,如果没有再去父类去找,会遵循mro的特点\n",
    "stu1 .run()"
   ],
   "metadata": {
    "collapsed": false,
    "pycharm": {
     "name": "#%%\n",
     "is_executing": false
    }
   }
  },
  {
   "cell_type": "code",
   "execution_count": 61,
   "outputs": [
    {
     "name": "stdout",
     "text": [
      "动物跑起来了\n动物跑起来了\n动物跑起来了\n[<class '__main__.Dog'>, <class '__main__.Animal'>, <class 'object'>]\n汪\n"
     ],
     "output_type": "stream"
    }
   ],
   "source": [
    "# 调用父类的方法\n",
    "class Animal(object):\n",
    "    def run(self):\n",
    "        print('动物跑起来了')\n",
    "\n",
    "class Dog(Animal):\n",
    "    \n",
    "    # def run(self):\n",
    "    #     print('小狗跑起来了')\n",
    "    \n",
    "    def wang(self):\n",
    "        # 再次调用父类的方法\n",
    "        # 1.self,前提时当前类里面没有父类的方法,否则调用的是当前类里面的方法\n",
    "        # self.run()\n",
    "        # 2.使用父类的类名,如果使用类名调用对象方法需要传入实例对象\n",
    "        # Animal.run(self)\n",
    "        # 3.super调用父类的方法\n",
    "        # 根据指定类,在类继承链中获取下一个类\n",
    "            # 1.super中的[Dog]:表示根据指定类,在类继承链中获取下一个类\n",
    "            # 2.[self]表示self对象类型的类继承链\n",
    "        #super不一定是直接继承的类(单继承可以理解为继承的父类,,但多继承就有可能不是)\n",
    "        #调用的是父类的方法,但是不一定是你直接继承父类的方法\n",
    "        super(Dog,self).run()\n",
    "        print(self.__class__.mro())\n",
    "        print('汪')\n",
    "    \n",
    "dog = Dog()\n",
    "dog.wang()"
   ],
   "metadata": {
    "collapsed": false,
    "pycharm": {
     "name": "#%%\n",
     "is_executing": false
    }
   }
  },
  {
   "cell_type": "code",
   "execution_count": 65,
   "outputs": [
    {
     "name": "stdout",
     "text": [
      "[<class '__main__.C'>, <class '__main__.A'>, <class '__main__.B'>, <class 'object'>]\n我是A类\n我是B类\n"
     ],
     "output_type": "stream"
    }
   ],
   "source": [
    "# 多继承super的使用\n",
    "class A(object):\n",
    "    def show_a(self):\n",
    "        print('我是A类')\n",
    "        \n",
    "class B(object):\n",
    "    def show_b(self):\n",
    "        print('我是B类')\n",
    "\n",
    "class C(A,B):\n",
    "    def show(self):\n",
    "        # 查看类继承顺序\n",
    "        print(self.__class__.mro())\n",
    "        \n",
    "        super(C,self).show_a() \n",
    "        super(A,self).show_b()\n",
    "        \n",
    "c = C()\n",
    "c.show()"
   ],
   "metadata": {
    "collapsed": false,
    "pycharm": {
     "name": "#%%\n",
     "is_executing": false
    }
   }
  },
  {
   "cell_type": "code",
   "execution_count": 95,
   "outputs": [
    {
     "name": "stdout",
     "text": [
      "A\n[<class '__main__.B'>, <class '__main__.AACS'>, <class 'object'>]\npython\n赵大\n我是B类\n"
     ],
     "output_type": "stream"
    }
   ],
   "source": [
    "class AACS(object):\n",
    "    def __init__(self,name):\n",
    "        self.name = name\n",
    "        print('A')\n",
    "    \n",
    "class B(AACS):\n",
    "    # 如果子类提供了调用的方法,那么不会主动调用父类的方法\n",
    "    def __init__(self,subject):\n",
    "        self.subject = subject\n",
    "    #    调用父类的init方法(当前类里面包含和父类相同的方法时不能使用)\n",
    "    #     self.__init__('张三')\n",
    "    #   使用父类名称调用\n",
    "    #     AAC.__init__(self,name='李四')\n",
    "    # 使用super调用父类里面的init\n",
    "    #   super(B,self).__init__('王五')\n",
    "        #简写super().__init__([参数]) ->super(当前类,当前对象).__init__([参数])\n",
    "        super().__init__('赵大')\n",
    "        print(self.__class__.mro())\n",
    "    def show(self):\n",
    "        print(\"我是B类\")\n",
    "\n",
    "b = B('python')\n",
    "print(b.subject)\n",
    "print(b.name)\n",
    "b.show()"
   ],
   "metadata": {
    "collapsed": false,
    "pycharm": {
     "name": "#%%\n",
     "is_executing": false
    }
   }
  },
  {
   "cell_type": "code",
   "execution_count": 97,
   "outputs": [
    {
     "name": "stdout",
     "text": [
      "飞机\n"
     ],
     "output_type": "stream"
    }
   ],
   "source": [
    "# 重写方法中使用super\n",
    "\n",
    "class Person(object):\n",
    "    def show(self):\n",
    "        print('我是人类')\n",
    "\n",
    "class Plane(object):\n",
    "    def show(self):\n",
    "        print('飞机')\n",
    "    def fly(self):\n",
    "        print('飞机可以飞')\n",
    "\n",
    "class Student(Person,Plane):\n",
    "    def show(self):\n",
    "          #   方法重写也可以使用super\n",
    "          super(Person,self).show()\n",
    "          \n",
    "\n",
    "stu = Student()\n",
    "stu.show()\n",
    "    "
   ],
   "metadata": {
    "collapsed": false,
    "pycharm": {
     "name": "#%%\n",
     "is_executing": false
    }
   }
  },
  {
   "cell_type": "code",
   "execution_count": 111,
   "outputs": [
    {
     "name": "stdout",
     "text": [
      "李四 20\n100万\n100万\n"
     ],
     "output_type": "stream"
    }
   ],
   "source": [
    "# 类的私有属性和私有方法\n",
    "\n",
    "class Person(object):\n",
    "\n",
    "    # 在属性名和方法名前面加'__'那么定义的属性和方法就是私有属性和私有方法\n",
    "    def __init__(self,name,age):\n",
    "        # 公共属性\n",
    "        self.name = name\n",
    "        # 私有属性,只能在本类内部使用,在类外部不能使用\n",
    "        # 私有属性只能在init里面添加\n",
    "        self.__age = age\n",
    "    \n",
    "    def show(self):\n",
    "        # 在类内部使用私有属性和私有方法是可以的\n",
    "        print(self.name,self.__age)\n",
    "        self.__money()\n",
    "        \n",
    "    def __money(self):\n",
    "        print('100万')\n",
    "    \n",
    "person = Person('李四',20)\n",
    "person.show()\n",
    "# print(person.name)\n",
    "# # 私有属性在外界无法访问\n",
    "# # print(person.__age)\n",
    "# \n",
    "# person.show()\n",
    "# # 同样,私有方法在外界无法访问\n",
    "# # person.__money()\n",
    "# \n",
    "# # 查看对象中的具体信息\n",
    "# print(person.__dict__)\n",
    "# \n",
    "# # 本意是为了修改私有属性\n",
    "# person.__age = 22\n",
    "# # 实际上并非修改私有属性,而是给对象添加了一个__age的对象属性(添加的也并非私有属性)\n",
    "# print(person.__age)\n",
    "# print(person.__dict__)\n",
    "# \n",
    "# # 在python里面,私有属性/方法没有做到绝对私有,而是把私有属性/方法进行了伪装\n",
    "# # 查看私有方法\n",
    "# print(Person.__dict__)\n",
    "\n",
    "# 查看/修改私有属性/方法(不建议使用)\n",
    "# print(person.__dict__)\n",
    "# \n",
    "# person._Person__age = 34\n",
    "# print(person._Person__age)\n",
    "# print(person.__dict__)\n",
    "\n",
    "person._Person__money()"
   ],
   "metadata": {
    "collapsed": false,
    "pycharm": {
     "name": "#%%\n",
     "is_executing": false
    }
   }
  },
  {
   "cell_type": "code",
   "execution_count": 113,
   "outputs": [
    {
     "traceback": [
      "\u001b[1;31m---------------------------------------------------------------------------\u001b[0m",
      "\u001b[1;31mAttributeError\u001b[0m                            Traceback (most recent call last)",
      "\u001b[1;32m<ipython-input-113-6af8e3788c08>\u001b[0m in \u001b[0;36m<module>\u001b[1;34m\u001b[0m\n\u001b[0;32m     14\u001b[0m \u001b[1;33m\u001b[0m\u001b[0m\n\u001b[0;32m     15\u001b[0m \u001b[0mstu\u001b[0m \u001b[1;33m=\u001b[0m \u001b[0mStudent\u001b[0m\u001b[1;33m(\u001b[0m\u001b[1;33m)\u001b[0m\u001b[1;33m\u001b[0m\u001b[1;33m\u001b[0m\u001b[0m\n\u001b[1;32m---> 16\u001b[1;33m \u001b[0mprint\u001b[0m\u001b[1;33m(\u001b[0m\u001b[0mstu\u001b[0m\u001b[1;33m.\u001b[0m\u001b[0m__age\u001b[0m\u001b[1;33m)\u001b[0m\u001b[1;33m\u001b[0m\u001b[1;33m\u001b[0m\u001b[0m\n\u001b[0m\u001b[0;32m     17\u001b[0m \u001b[0mstu\u001b[0m\u001b[1;33m.\u001b[0m\u001b[0m__show\u001b[0m\u001b[1;33m(\u001b[0m\u001b[1;33m)\u001b[0m\u001b[1;33m\u001b[0m\u001b[1;33m\u001b[0m\u001b[0m\n",
      "\u001b[1;31mAttributeError\u001b[0m: 'Student' object has no attribute '__age'"
     ],
     "ename": "AttributeError",
     "evalue": "'Student' object has no attribute '__age'",
     "output_type": "error"
    }
   ],
   "source": [
    "# 子类继承父类,同样不能直接继承父类的私有属性/方法\n",
    "class Person(object):\n",
    "    def __init__(self):\n",
    "        self.__age = 10\n",
    "        \n",
    "    def __show(self):\n",
    "        \n",
    "        print('这是一个私有方法')\n",
    "        \n",
    "class Student(Person):\n",
    "    def show(self):\n",
    "        # 访问父类里面的私有属性和私有方法\n",
    "        print(self.__age)\n",
    "        self.__show()\n",
    "              \n",
    "stu = Student()\n",
    "print(stu.__age)\n",
    "stu.__show()"
   ],
   "metadata": {
    "collapsed": false,
    "pycharm": {
     "name": "#%%\n",
     "is_executing": false
    }
   }
  },
  {
   "cell_type": "code",
   "execution_count": 121,
   "outputs": [
    {
     "name": "stdout",
     "text": [
      "{'__module__': '__main__', 'type': '黄种人', '__init__': <function Person.__init__ at 0x000001E3B9BA7828>, '__dict__': <attribute '__dict__' of 'Person' objects>, '__weakref__': <attribute '__weakref__' of 'Person' objects>, '__doc__': None}\n黄种人\n{'__module__': '__main__', 'type': '白种人', '__init__': <function Person.__init__ at 0x000001E3B9BA7828>, '__dict__': <attribute '__dict__' of 'Person' objects>, '__weakref__': <attribute '__weakref__' of 'Person' objects>, '__doc__': None}\n{'name': '张三', 'age': 20}\n张三\n白种人\n_______________修改前_____________\n{'__module__': '__main__', 'type': '白种人', '__init__': <function Person.__init__ at 0x000001E3B9BA7828>, '__dict__': <attribute '__dict__' of 'Person' objects>, '__weakref__': <attribute '__weakref__' of 'Person' objects>, '__doc__': None}\n{'name': '张三', 'age': 20}\n_______________修改后_____________\n{'__module__': '__main__', 'type': '白种人', '__init__': <function Person.__init__ at 0x000001E3B9BA7828>, '__dict__': <attribute '__dict__' of 'Person' objects>, '__weakref__': <attribute '__weakref__' of 'Person' objects>, '__doc__': None}\n{'name': '张三', 'age': 20, 'type': '亚洲人'}\n"
     ],
     "output_type": "stream"
    }
   ],
   "source": [
    "# 类属性和实例属性\n",
    "\n",
    "# 类属性是在方法外和在类内部定义的属性\n",
    "# 实例属性是在init方法里面定义的属性\n",
    "\n",
    "class Person(object):\n",
    "    # 类属性,对象没有创建就能够使用的属性可以被定义为类属性\n",
    "    type ='黄种人'\n",
    "    def __init__(self):\n",
    "        # 实例(对象)属性\n",
    "        self.name = '张三'\n",
    "        self.age = 20\n",
    "  \n",
    "\n",
    "# 查看类属性和方法\n",
    "print(Person.__dict__)\n",
    "      \n",
    "# 访问类属性\n",
    "print(Person.type)\n",
    "# 使用类不能访问对象属性\n",
    "# print(Person.age)\n",
    "\n",
    "Person.type='白种人'\n",
    "print(Person.__dict__)\n",
    "\n",
    "#__________________对象属性的操作_____________________\n",
    "# 创建对象(实例)\n",
    "xiao_ming = Person()\n",
    "# 查看对象属性和方法\n",
    "print(xiao_ming.__dict__)\n",
    "# 使用实例(对象)访问对象(实例)属性\n",
    "print(xiao_ming.name)\n",
    "\n",
    "# 对象可以访问类属性\n",
    "print(xiao_ming.type)\n",
    "# 对象不能修改类属性,实际上是添加了一个实例属性\n",
    "print('_______________修改前_____________')\n",
    "print(Person.__dict__)\n",
    "print(xiao_ming.__dict__)\n",
    "print('_______________修改后_____________')\n",
    "xiao_ming.type = '亚洲人'\n",
    "print(Person.__dict__)\n",
    "print(xiao_ming.__dict__)\n",
    "\n",
    "# 总结,类属性的操作由类完成,对象属性的操作由对象完成,对象可以访问类属性(但不能修改)"
   ],
   "metadata": {
    "collapsed": false,
    "pycharm": {
     "name": "#%%\n",
     "is_executing": false
    }
   }
  },
  {
   "cell_type": "code",
   "execution_count": 127,
   "outputs": [
    {
     "name": "stdout",
     "text": [
      "我是人类\n<class '__main__.Person'>\n我是一个类方法\n我是一个静态方法\n白种人\n外星人\n3\n我是一个静态方法\n<class '__main__.Person'>\n我是一个类方法\n"
     ],
     "output_type": "stream"
    },
    {
     "traceback": [
      "\u001b[1;31m---------------------------------------------------------------------------\u001b[0m",
      "\u001b[1;31mNameError\u001b[0m                                 Traceback (most recent call last)",
      "\u001b[1;32m<ipython-input-127-63d0cb248bd1>\u001b[0m in \u001b[0;36m<module>\u001b[1;34m\u001b[0m\n\u001b[0;32m     63\u001b[0m \u001b[0mPerson\u001b[0m\u001b[1;33m.\u001b[0m\u001b[0mshow_info\u001b[0m\u001b[1;33m(\u001b[0m\u001b[1;33m)\u001b[0m\u001b[1;33m\u001b[0m\u001b[1;33m\u001b[0m\u001b[0m\n\u001b[0;32m     64\u001b[0m \u001b[1;31m# 类调用实例方法\u001b[0m\u001b[1;33m\u001b[0m\u001b[1;33m\u001b[0m\u001b[1;33m\u001b[0m\u001b[0m\n\u001b[1;32m---> 65\u001b[1;33m \u001b[0mPerson\u001b[0m\u001b[1;33m.\u001b[0m\u001b[0mshow\u001b[0m\u001b[1;33m(\u001b[0m\u001b[0ms\u001b[0m\u001b[1;33m)\u001b[0m\u001b[1;33m\u001b[0m\u001b[1;33m\u001b[0m\u001b[0m\n\u001b[0m\u001b[0;32m     66\u001b[0m \u001b[1;33m\u001b[0m\u001b[0m\n",
      "\u001b[1;31mNameError\u001b[0m: name 's' is not defined"
     ],
     "ename": "NameError",
     "evalue": "name 's' is not defined",
     "output_type": "error"
    }
   ],
   "source": [
    "# 类方法和静态方法\n",
    "class Person(object):\n",
    "    \n",
    "    __type = '黄种人'\n",
    "    # 定义对象方法:在方法的参数里面有self表示对象方法\n",
    "    def show(self):\n",
    "        print('我是人类')\n",
    "    \n",
    "    # 定义类方法,cls表示当前类\n",
    "    @classmethod\n",
    "    def show_info(cls):\n",
    "        print(cls)\n",
    "        print('我是一个类方法')\n",
    "    \n",
    "    @classmethod\n",
    "    def set_type(cls,type):\n",
    "        cls.__type = type\n",
    "    \n",
    "    @classmethod\n",
    "    def get_type(cls):\n",
    "        return cls.__type\n",
    "    # 应用场景,使用类方法可以修改类属性,\n",
    "    \n",
    "    # 定义静态方法,静态方法和当前类和当前方法没有关系\n",
    "    # 不会使用self和cls\n",
    "    @staticmethod\n",
    "    def show_msg():\n",
    "        print('我是一个静态方法')\n",
    "        \n",
    "    #_________________对象方法是最通用的方法,可以修改对象属性和类属性\n",
    "    \n",
    "    def instance_set_type(self,type):\n",
    "        # 获取对象所对应的类\n",
    "        self.__class__.__type = type\n",
    "        \n",
    "    def instance_get_type(self):\n",
    "        \n",
    "        return self.__class__.__type\n",
    "    \n",
    "    # 提示既不需要当前类,也不需要当前对象的\n",
    "    @staticmethod \n",
    "    def sum_num(num1,num2):\n",
    "        return num1+num2\n",
    "         \n",
    "        \n",
    "p = Person()\n",
    "p.show()\n",
    "p.show_info()\n",
    "p.show_msg()\n",
    "p.set_type('白种人')\n",
    "print(p.get_type() )\n",
    "p.instance_set_type('外星人')\n",
    "print(p.instance_get_type())\n",
    "\n",
    "res = p.sum_num(1,2)\n",
    "print(res)\n",
    "\n",
    "# 类调用静态方法和类方法不需要传入当前类,如果调用对象方法,需要传入一个实例\n",
    "\n",
    "# 类调用静态方法\n",
    "Person.show_msg()\n",
    "# 类调用类方法\n",
    "Person.show_info()\n",
    "# 类调用实例方法\n",
    "Person.show(p)"
   ],
   "metadata": {
    "collapsed": false,
    "pycharm": {
     "name": "#%%\n",
     "is_executing": false
    }
   }
  },
  {
   "cell_type": "code",
   "execution_count": 129,
   "outputs": [
    {
     "name": "stdout",
     "text": [
      "显示图片\n显示视频\n"
     ],
     "output_type": "stream"
    }
   ],
   "source": [
    "# 多态 :关注的是同一个方法,但是会出现不同的表现形式,在python不需要关心类型\n",
    "\n",
    "class Text(object):\n",
    "    def show(self):\n",
    "        print('显示文字')\n",
    "\n",
    "class Image(object):\n",
    "    def show(self):\n",
    "        print('显示图片')\n",
    "\n",
    "class Video(object):\n",
    "    def show(self):\n",
    "        print('显示视频')\n",
    "\n",
    "\n",
    "#实现显示数据的功能\n",
    "def show_data(data):\n",
    "    # 关心的是同一个方法,会出现不同的表现形式,这种操作叫做多态\n",
    "    # 在python里,只关心对象的方法,不关心的对象的类型,在\n",
    "    data.show()\n",
    "\n",
    "image = Image()\n",
    "\n",
    "show_data(image)\n",
    "\n",
    "video = Video()\n",
    "\n",
    "show_data(video)"
   ],
   "metadata": {
    "collapsed": false,
    "pycharm": {
     "name": "#%%\n",
     "is_executing": false
    }
   }
  },
  {
   "cell_type": "code",
   "execution_count": 138,
   "outputs": [
    {
     "name": "stdout",
     "text": [
      "创建对象\n('王五', 20) {}\n初始化\n"
     ],
     "output_type": "stream"
    }
   ],
   "source": [
    "# 魔法方法 new方法\n",
    "\n",
    "# __new__当前对象创建的时候会调用__new__\n",
    "#__init__对象创建完成后会调用__inti__方法给对象添加对象属性及初始化\n",
    "\n",
    "# 创建对象会自动调用两个方法,先__new__表示对象创建完成,然后再调用__init__给对象初始化\n",
    "\n",
    "class Student(object):\n",
    "    # new方法里面的参数是需要兼容init方法里面的参数\n",
    "    def __new__(cls,*args,**kwargs):\n",
    "        print('创建对象')\n",
    "        print(args,kwargs)\n",
    "        return object.__new__(cls)\n",
    "    \n",
    "    #对象创建完成后,给对象添加实例属性\n",
    "    def __init__(self,name,age):\n",
    "        print('初始化')\n",
    "        self.name = name\n",
    "        self.age = age\n",
    "      \n",
    "stu = Student('王五',20)\n"
   ],
   "metadata": {
    "collapsed": false,
    "pycharm": {
     "name": "#%%\n",
     "is_executing": false
    }
   }
  },
  {
   "cell_type": "code",
   "execution_count": 1,
   "outputs": [
    {
     "name": "stdout",
     "text": [
      "创建对象\n初始化\n初始化\n<__main__.Person object at 0x000001DAC0709B88> \n <__main__.Person object at 0x000001DAC0709B88>\n"
     ],
     "output_type": "stream"
    }
   ],
   "source": [
    "# 单例,在应用程序中不管创建多少次对象只有一个实例对象\n",
    "\n",
    "class Person(object):\n",
    "    \n",
    "    # 私有的类属性\n",
    "    __instance = None\n",
    "    \n",
    "    def __new__(cls, *args, **kwargs):\n",
    "        # if cls.__instance == None:\n",
    "        if not cls.__instance:\n",
    "            print('创建对象')\n",
    "            # 把创建的对象给类属性\n",
    "            cls.__instance = object.__new__(cls)\n",
    "            \n",
    "        return cls.__instance\n",
    "    \n",
    "    def __init__(self):\n",
    "        print('初始化')\n",
    "        \n",
    "\n",
    "p1 = Person()\n",
    "\n",
    "p2 = Person()\n",
    "\n",
    "print(p1,'\\n',p2)"
   ],
   "metadata": {
    "collapsed": false,
    "pycharm": {
     "name": "#%%\n",
     "is_executing": false
    }
   }
  },
  {
   "cell_type": "code",
   "execution_count": 4,
   "outputs": [
    {
     "name": "stdout",
     "text": [
      "李四 20\n"
     ],
     "output_type": "stream"
    },
    {
     "traceback": [
      "\u001b[1;31m---------------------------------------------------------------------------\u001b[0m",
      "\u001b[1;31mAttributeError\u001b[0m                            Traceback (most recent call last)",
      "\u001b[1;32m<ipython-input-4-3765d4b7c2ce>\u001b[0m in \u001b[0;36m<module>\u001b[1;34m\u001b[0m\n\u001b[0;32m     11\u001b[0m \u001b[0mstu\u001b[0m\u001b[1;33m.\u001b[0m\u001b[0mage\u001b[0m \u001b[1;33m=\u001b[0m \u001b[1;36m20\u001b[0m\u001b[1;33m\u001b[0m\u001b[1;33m\u001b[0m\u001b[0m\n\u001b[0;32m     12\u001b[0m \u001b[0mprint\u001b[0m\u001b[1;33m(\u001b[0m\u001b[0mstu\u001b[0m\u001b[1;33m.\u001b[0m\u001b[0mname\u001b[0m\u001b[1;33m,\u001b[0m\u001b[0mstu\u001b[0m\u001b[1;33m.\u001b[0m\u001b[0mage\u001b[0m\u001b[1;33m)\u001b[0m\u001b[1;33m\u001b[0m\u001b[1;33m\u001b[0m\u001b[0m\n\u001b[1;32m---> 13\u001b[1;33m \u001b[0mstu\u001b[0m\u001b[1;33m.\u001b[0m\u001b[0msex\u001b[0m \u001b[1;33m=\u001b[0m \u001b[1;32mNone\u001b[0m\u001b[1;33m\u001b[0m\u001b[1;33m\u001b[0m\u001b[0m\n\u001b[0m\u001b[0;32m     14\u001b[0m \u001b[1;33m\u001b[0m\u001b[0m\n",
      "\u001b[1;31mAttributeError\u001b[0m: 'Student' object has no attribute 'sex'"
     ],
     "ename": "AttributeError",
     "evalue": "'Student' object has no attribute 'sex'",
     "output_type": "error"
    }
   ],
   "source": [
    "# __slots__\n",
    "# 指明创建对象的时候不能再添加其他属性,只能是指定的属性\n",
    "\n",
    "class Student(object):\n",
    "    # 这样操作可以让对象的属性固定\n",
    "    __slots__ = ('name','age')\n",
    "    pass\n",
    "\n",
    "stu = Student()\n",
    "stu.name ='李四'\n",
    "stu.age = 20\n",
    "print(stu.name,stu.age)\n",
    "stu.sex = None"
   ],
   "metadata": {
    "collapsed": false,
    "pycharm": {
     "name": "#%%\n",
     "is_executing": false
    }
   }
  },
  {
   "cell_type": "code",
   "execution_count": 11,
   "outputs": [
    {
     "name": "stdout",
     "text": [
      "99\n"
     ],
     "output_type": "stream"
    }
   ],
   "source": [
    "# @property 把方法使用方式改成属性方式\n",
    "# 需要设置获取值(方法名上+@property),和设置值(方法名上+@方法名.setter)\n",
    "\n",
    "class Student(object):\n",
    "    \n",
    "    def __init__(self):\n",
    "        self.__score = 100\n",
    "        \n",
    "    # 获取值\n",
    "    @property\n",
    "    def get_score(self):\n",
    "        return self.__score\n",
    "    \n",
    "    # 设置值\n",
    "    @get_score.setter\n",
    "    def set_score(self,score):\n",
    "        self.__score = score\n",
    "    \n",
    "stu = Student()\n",
    "# score = stu.get_score()\n",
    "# print(score)\n",
    "\n",
    "# stu.set_score(80)\n",
    "# score = stu.get_score()\n",
    "# print(score)\n",
    "\n",
    "stu.set_score = 99\n",
    "score = stu.get_score\n",
    "print(score)\n"
   ],
   "metadata": {
    "collapsed": false,
    "pycharm": {
     "name": "#%%\n",
     "is_executing": false
    }
   }
  },
  {
   "cell_type": "code",
   "execution_count": 20,
   "outputs": [
    {
     "name": "stdout",
     "text": [
      "1.0\n没有异常会执行else\n有没有异常都会执行finally\n"
     ],
     "output_type": "stream"
    }
   ],
   "source": [
    "# 异常:当前使用python解释器去执行代码的时候,遇到了错误,\n",
    "# 在控制台输出错误的信息,这个错误就叫做异常\n",
    "\n",
    "# 代码遇见异常会终止执行\n",
    "name = '张三'\n",
    "# print(name + 10)\n",
    "\n",
    "# 异常的捕获\n",
    "# try:\n",
    "#     # 可能出现异常的代码\n",
    "#     num_1 =input('请输入第一个数字')\n",
    "#     num_2 =input('请输入第二个数字')\n",
    "#     result = int(num_1) + int(num_2)\n",
    "#     print(result)\n",
    "# # 捕获异常\n",
    "# except ValueError as e :\n",
    "#     # 捕获到的异常会在except里面处理\n",
    "#     print('请输入合法的数字')\n",
    "#     print(e,type(e))\n",
    "\n",
    "# 提示,绝大部分异常都是基础Exception\n",
    "\n",
    "# 了解:可以捕获多个异常类型\n",
    "# try:\n",
    "#     name = 'zs'\n",
    "#     del name\n",
    "#     print(name)\n",
    "#     \n",
    "#     # 在try语句里面如果只选代码遇到了异常,那么\n",
    "#     # 不会再执行其后续的代码,会执行except里面的部分\n",
    "#     result = 1/0\n",
    "#     print(result)\n",
    "# except (NameError,ZeroDivisionError) as e:\n",
    "#     print(e,type(e))\n",
    "\n",
    "# except也可以分开写\n",
    "# try:\n",
    "#     name = 'zs'\n",
    "#     del name\n",
    "#     print(name)\n",
    "#     \n",
    "#     # 在try语句里面如果只选代码遇到了异常,那么\n",
    "#     # 不会再执行其后续的代码,会执行except里面的部分\n",
    "#     result = 1/0\n",
    "#     print(result)\n",
    "# except NameError as e:\n",
    "#     print(e,type(e))\n",
    "# except ZeroDivisionError as e:\n",
    "#     print(e,type(e))\n",
    "\n",
    "#    没有异常会执行else,无论是否有异常都会执行finally\n",
    "try:\n",
    "    name = 'zs'\n",
    "    del name\n",
    "    # print(name)\n",
    "    \n",
    "    # 在try语句里面如果只选代码遇到了异常,那么\n",
    "    # 不会再执行其后续的代码,会执行except里面的部分\n",
    "    result = 1/1\n",
    "    print(result)\n",
    "except (NameError,ZeroDivisionError) as e:\n",
    "    print(e,type(e))\n",
    "else:\n",
    "    print('没有异常会执行else')\n",
    "finally:\n",
    "    print('有没有异常都会执行finally')"
   ],
   "metadata": {
    "collapsed": false,
    "pycharm": {
     "name": "#%%\n",
     "is_executing": false
    }
   }
  },
  {
   "cell_type": "code",
   "execution_count": 27,
   "outputs": [
    {
     "traceback": [
      "\u001b[1;31m---------------------------------------------------------------------------\u001b[0m",
      "\u001b[1;31mTypeError\u001b[0m                                 Traceback (most recent call last)",
      "\u001b[1;32m<ipython-input-27-369626be69d5>\u001b[0m in \u001b[0;36m<module>\u001b[1;34m\u001b[0m\n\u001b[0;32m     19\u001b[0m \u001b[1;32mif\u001b[0m \u001b[0mcontent\u001b[0m \u001b[1;33m!=\u001b[0m \u001b[1;34m'a'\u001b[0m\u001b[1;33m:\u001b[0m\u001b[1;33m\u001b[0m\u001b[1;33m\u001b[0m\u001b[0m\n\u001b[0;32m     20\u001b[0m \u001b[1;31m#     抛出自定义异常\u001b[0m\u001b[1;33m\u001b[0m\u001b[1;33m\u001b[0m\u001b[1;33m\u001b[0m\u001b[0m\n\u001b[1;32m---> 21\u001b[1;33m     \u001b[1;32mraise\u001b[0m \u001b[0mCustomExcepetion\u001b[0m\u001b[1;33m(\u001b[0m\u001b[0mcontent\u001b[0m\u001b[1;33m)\u001b[0m\u001b[1;33m\u001b[0m\u001b[1;33m\u001b[0m\u001b[0m\n\u001b[0m\u001b[0;32m     22\u001b[0m \u001b[1;31m#\u001b[0m\u001b[1;33m\u001b[0m\u001b[1;33m\u001b[0m\u001b[1;33m\u001b[0m\u001b[0m\n\u001b[0;32m     23\u001b[0m \u001b[1;31m#     raise NameError('name a is not defined')\u001b[0m\u001b[1;33m\u001b[0m\u001b[1;33m\u001b[0m\u001b[1;33m\u001b[0m\u001b[0m\n",
      "\u001b[1;31mTypeError\u001b[0m: exceptions must derive from BaseException"
     ],
     "ename": "TypeError",
     "evalue": "exceptions must derive from BaseException",
     "output_type": "error"
    }
   ],
   "source": [
    "# 这里的异常是系统抛出的,系统会指定异常信息\n",
    "# a = 10\n",
    "# del a \n",
    "# print(a)\n",
    "\n",
    "#______________________________________\n",
    "# 抛出自定义异常raise\n",
    "# 注意:raise只能抛出异常类型\n",
    "\n",
    "# 创建自定义异常\n",
    "class CustomExcepetion(Exception):\n",
    "    def __init__(self, content):\n",
    "        self.content = content\n",
    "\n",
    "    # 表示抛出异常的显示的异常描述信息\n",
    "    def __str__(self):\n",
    "        return '我是自定义异常,因为数据不是a,异常数据为: %s'%self.content\n",
    "    \n",
    "content = input('请输入数据')\n",
    "if content != 'a':\n",
    "    '''抛出自定义异常'''\n",
    "    # raise CustomExcepetion(content)\n",
    "    # raise 也可以抛出系统异常\n",
    "    # raise NameError('name a is not defined')"
   ],
   "metadata": {
    "collapsed": false,
    "pycharm": {
     "name": "#%%\n",
     "is_executing": false
    }
   }
  },
  {
   "cell_type": "code",
   "execution_count": 28,
   "outputs": [
    {
     "name": "stdout",
     "text": [
      "哈哈\n1\n"
     ],
     "output_type": "stream"
    }
   ],
   "source": [
    "# 模块:通俗的理解一个.py文件就是一个模块,模块是管理功能代码的\n",
    "# 模块里面可以定义类,函数,全局变量,执行对应的功能代码操作\n",
    "\n",
    "#内置模块:系统提供的模块,比如:time,random\n",
    "import random\n",
    "import time \n",
    "time.sleep(0.5)\n",
    "print('哈哈')\n",
    "result = random.randint(1,5)\n",
    "print(result)"
   ],
   "metadata": {
    "collapsed": false,
    "pycharm": {
     "name": "#%%\n",
     "is_executing": false
    }
   }
  },
  {
   "cell_type": "code",
   "execution_count": null,
   "outputs": [],
   "source": [
    "# 自定义模块\n",
    "'''自定义模块名字和变量名的定义很类似,都是由字母,数字,下划线组成,但是不能以数字开头,\n",
    "否则无法导入该模块,模块名的命名规则和变量名的命名规则一样,统一使用下划线命名法'''\n"
   ],
   "metadata": {
    "collapsed": false,
    "pycharm": {
     "name": "#%%\n"
    }
   }
  },
  {
   "cell_type": "code",
   "execution_count": 38,
   "outputs": [
    {
     "name": "stdout",
     "text": [
      "自定义模块: 4\n"
     ],
     "output_type": "stream"
    }
   ],
   "source": [
    "# 使用自定义模块中的功能\n",
    "# import self_module\n",
    "# print(self_module.g_num)\n",
    "# self_module.show()\n",
    "# stu = self_module.Student('李四',20)\n",
    "# stu.show_msg()\n"
   ],
   "metadata": {
    "collapsed": false,
    "pycharm": {
     "name": "#%%\n",
     "is_executing": false
    }
   }
  },
  {
   "cell_type": "code",
   "execution_count": 4,
   "outputs": [
    {
     "name": "stdout",
     "text": [
      "__main__\n自定义模块: 3\n"
     ],
     "output_type": "stream"
    }
   ],
   "source": [
    "# 主模块:执行的这个模块就是主模块\n",
    "# 查看模块名\n",
    "import second_module\n",
    "print(__name__)\n",
    "result = second_module.sum_num(3,0)\n",
    "print('自定义模块:',result)"
   ],
   "metadata": {
    "collapsed": false,
    "pycharm": {
     "name": "#%%\n",
     "is_executing": false
    }
   }
  },
  {
   "cell_type": "code",
   "execution_count": 5,
   "outputs": [
    {
     "name": "stdout",
     "text": [
      "0\n这是一个函数\n['C:\\\\Users\\\\bolat\\\\PycharmProjects\\\\untitled\\\\python', 'C:\\\\Users\\\\bolat\\\\PycharmProjects\\\\untitled', 'C:\\\\Users\\\\bolat\\\\Anaconda3\\\\python37.zip', 'C:\\\\Users\\\\bolat\\\\Anaconda3\\\\DLLs', 'C:\\\\Users\\\\bolat\\\\Anaconda3\\\\lib', 'C:\\\\Users\\\\bolat\\\\Anaconda3', '', 'C:\\\\Users\\\\bolat\\\\Anaconda3\\\\lib\\\\site-packages', 'C:\\\\Users\\\\bolat\\\\Anaconda3\\\\lib\\\\site-packages\\\\win32', 'C:\\\\Users\\\\bolat\\\\Anaconda3\\\\lib\\\\site-packages\\\\win32\\\\lib', 'C:\\\\Users\\\\bolat\\\\Anaconda3\\\\lib\\\\site-packages\\\\Pythonwin', 'C:\\\\Users\\\\bolat\\\\Anaconda3\\\\lib\\\\site-packages\\\\IPython\\\\extensions', 'C:\\\\Users\\\\bolat\\\\.ipython']\n"
     ],
     "output_type": "stream"
    }
   ],
   "source": [
    "# 模块的导入\n",
    "# 模块导入的注意点:1.自定义的模块名不要和系统的模块名重名\n",
    "# 2.导入的功能代码不要在当前模块定义,否则无法使用\n",
    "\n",
    "# import 导入模块\n",
    "# import self_module\n",
    "# stu  = self_module.Student('张三',20)\n",
    "# print(stu.name,stu.age)\n",
    "# print(self_module.g_num)\n",
    "\n",
    "# from 模块名 import 功能代码\n",
    "# 这种导入方式需要保证不要导入定义的功能代码\n",
    "# (就是导入的模块里面的功能代码不要和当前模块的功能代码同名)\n",
    "# from self_module import Student\n",
    "# from self_module import show\n",
    "# stu = Student('张三',10)\n",
    "# print(stu.age,stu.name)\n",
    "\n",
    "# show() \n",
    "\n",
    "# from 模块名 imprt * 导入模块中所有功能代码\n",
    "# from self_module import *\n",
    "# print(g_num)\n",
    "# show()\n",
    "# stu = Student('张三',20)\n",
    "# print(stu.name,stu.age)\n",
    "\n",
    "\n",
    "# from 模块名 imprt *  使用__all__限定导入的功能代码\n",
    "from self_module import *\n",
    "print(g_num)\n",
    "show()\n",
    "# stu = Student('张三',20)\n",
    "# print(stu.name,stu.age)\n",
    "\n",
    "# import 模块名设置别名\n",
    "# import 模块名 as 别名\n",
    "# from 模块名 import 功能代码 as 别名\n",
    "\n",
    "# 查看模块搜索的顺序\n",
    "import sys\n",
    "print(sys.path)"
   ],
   "metadata": {
    "collapsed": false,
    "pycharm": {
     "name": "#%% \n",
     "is_executing": false
    }
   }
  },
  {
   "cell_type": "code",
   "execution_count": 11,
   "outputs": [
    {
     "name": "stdout",
     "text": [
      "我是第一个模块的代码\n我是第二个模块的代码\n"
     ],
     "output_type": "stream"
    }
   ],
   "source": [
    "# 包,通俗理解包就是一个文件夹,只不过里面有一个__init__.py文件\n",
    "# 包是管理模块的,模块是管理功能模块的\n",
    "\n",
    "# import 导入包里面的模块\n",
    "# 设置别名\n",
    "# import self_package.first as one\n",
    "# import  self_package.second as two# \n",
    "\n",
    "# 使用 from 包名 import 模块名\n",
    "# from self_package import first as one\n",
    "# from self_package import second as two\n",
    "# \n",
    "# one.show()\n",
    "# two.show_msg()\n",
    "\n",
    "# from 包名.模块名 import 功能代码\n",
    "# 需要保证当前模块没有导入模块同名的功能代码\n",
    "# from self_package.first import show\n",
    "# from self_package.second import show_msg\n",
    "# show()\n",
    "# show_msg()\n",
    "\n",
    "# 如果外界使用from 包名 import * 不会导入包里面的所有模块,需要__all__指定\n",
    "# from self_package import *\n",
    "# first.show()\n",
    "# second.show_msg()\n",
    "\n",
    "# 直接导入包,不会导入对应的模块,需要在init文件中自己导入\n",
    "import self_package \n",
    "self_package.first.show()\n",
    "self_package.second.show_msg()"
   ],
   "metadata": {
    "collapsed": false,
    "pycharm": {
     "name": "#%%\n",
     "is_executing": false
    }
   }
  },
  {
   "cell_type": "code",
   "execution_count": 16,
   "outputs": [
    {
     "name": "stdout",
     "text": [
      "hello\nhello\n"
     ],
     "output_type": "stream"
    }
   ],
   "source": [
    "# StringIo\n",
    "# 把字符串数据写入到内存\n",
    "import io\n",
    "# SringIO的操作和文件写入和读取的操作很类似\n",
    "str_io = io.StringIO()\n",
    "\n",
    "# 向内存写入数据\n",
    "# 向内存中写入字符串数据\n",
    "str_io.write('hello')\n",
    "\n",
    "# 获取数据\n",
    "content = str_io.getvalue()\n",
    "print(content)\n",
    "\n",
    "# 需要设置文件指针到文件开头\n",
    "str_io.seek(0) \n",
    "result = str_io.read()\n",
    "print(result)"
   ],
   "metadata": {
    "collapsed": false,
    "pycharm": {
     "name": "#%%\n",
     "is_executing": false
    }
   }
  },
  {
   "cell_type": "code",
   "execution_count": 17,
   "outputs": [
    {
     "name": "stdout",
     "text": [
      "哈哈\n"
     ],
     "output_type": "stream"
    }
   ],
   "source": [
    "# 向内存中写入二进制数据\n",
    "from io import BytesIO\n",
    "byte_io = BytesIO()\n",
    "byte_io.write('哈哈'.encode('utf-8'))\n",
    "\n",
    "content = byte_io.getvalue()\n",
    "print(content.decode('utf-8'))"
   ],
   "metadata": {
    "collapsed": false,
    "pycharm": {
     "name": "#%%\n",
     "is_executing": false
    }
   }
  },
  {
   "cell_type": "code",
   "execution_count": 20,
   "outputs": [
    {
     "name": "stdout",
     "text": [
      "[{'name': '李四', 'age': 20}, {'name': '王五', 'age': 21}, {'name': '李四', 'age': 20}]\n"
     ],
     "output_type": "stream"
    }
   ],
   "source": [
    "# 序列化:把内存中的数据保存到本地,可以做到持久化存储\n",
    "\n",
    "import pickle   #比较通用,可以序列化任意对象\n",
    "my_list = [{'name':'李四','age':20},\n",
    "           {'name':'王五','age':21},\n",
    "           {'name':'李四','age':20}]\n",
    "\n",
    "file = open('my_list.serialize','wb')\n",
    "# 得到的数据是二进制数据,想要写入文件,文见访问模式是'wb'\n",
    "pickle.dump(my_list,file)\n",
    "\n",
    "file.close()\n",
    "\n",
    "#反序列化,把文件中的数据读取出来,获得一个python对象\n",
    "file = open('my_list.serialize','rb')\n",
    "my_list = pickle.load(file)\n",
    "print(my_list)\n",
    "file.close()"
   ],
   "metadata": {
    "collapsed": false,
    "pycharm": {
     "name": "#%%\n",
     "is_executing": false
    }
   }
  },
  {
   "cell_type": "code",
   "execution_count": null,
   "outputs": [],
   "source": [
    "#序列化\n",
    "import pickle\n",
    "\n",
    "class Student(object):\n",
    "    def __init__(self):\n",
    "        self.name = '张三'\n",
    "        self.age = 10\n",
    "   \n",
    "#实例序列化     \n",
    "file = open('stu.serialize','wb')\n",
    "stu = Student()\n",
    "\n",
    "\n",
    "pickle.dump(stu,file)\n",
    "file.close()\n",
    "\n",
    "#反序列化\n",
    "file = open('stu.serialize','rb')\n",
    "\n",
    "\n",
    "\n",
    "\n",
    "\n",
    "stu = pickle.load(file)\n",
    "\n",
    "print(stu.name,stu.age)\n",
    "file.close()"
   ],
   "metadata": {
    "collapsed": false,
    "pycharm": {
     "name": "#%%\n"
    }
   }
  },
  {
   "cell_type": "code",
   "execution_count": null,
   "outputs": [],
   "source": [
    "#json序列化\n",
    "#使用json只能支持部分数据类型,(列表,字典,int类型),自定义类型需要额外指定\n",
    "import json\n",
    "\n",
    "#序列化\n",
    "my_list =[{'name':'张三','age':10},\n",
    "          {'name':'张一','age':20},\n",
    "          {'name':'张二','age':30}]\n",
    "\n",
    "file = open('my_list.txt','w',encoding='utf-8')\n",
    "json.dump(my_list,file)\n",
    "file.close()\n",
    "\n",
    "\n",
    "#反序列化\n",
    "file = open('my_list.txt','r',encoding='utf-8')\n",
    "result = json.load(file)\n",
    "print(result)\n",
    "file.close()\n",
    "\n",
    "class Student(object):\n",
    "    def __init__(self):\n",
    "        self.name ='李四'\n",
    "        self.age = 10\n",
    "file = open('my_class.txt','w',encoding='utf-8')        \n",
    "stu = Student()\n",
    "#序列化对象,本质上是把对象的属性进行保存\n",
    "print(stu.__dict__)\n",
    "json.dump(stu.__dict__,file)\n",
    "file.close()"
   ],
   "metadata": {
    "collapsed": false,
    "pycharm": {
     "name": "#%%\n"
    }
   }
  },
  {
   "cell_type": "code",
   "execution_count": null,
   "outputs": [],
   "source": [
    "#可迭代对象:就是使用for循环遍历取值的对象就是可迭代对象\n",
    "#for循环可以直接遍历取值的对象:列表,元组,字典,字符串,集合,range\n",
    "\n",
    "from collections import Iterable\n",
    "#判断对象是否是指定类型\n",
    "result = isinstance([1,2],Iterable)\n",
    "print(result)\n",
    "\n",
    "\n",
    "result = isinstance((1,2),Iterable)\n",
    "print(result)\n",
    "\n",
    "result = isinstance('string',Iterable)\n",
    "print(result)\n",
    "\n",
    "result = isinstance({'name':'李四'},Iterable)\n",
    "print(result)\n",
    "\n",
    "result = isinstance({1,2},Iterable)\n",
    "print(result)\n",
    "\n",
    "result = isinstance(range(10),Iterable)\n",
    "print(result)\n",
    "\n",
    "#可迭代对象有一个__iter__方法\n",
    "result = dir(tuple)\n",
    "print(result)\n",
    "\n",
    "#提示:数字不是可迭代类型\n",
    "#提示:isinstance可以判断参数的类型是否是特定的类型\n",
    "result = isinstance(1,Iterable)\n",
    "print(result)"
   ],
   "metadata": {
    "collapsed": false,
    "pycharm": {
     "name": "#%%\n"
    }
   }
  },
  {
   "cell_type": "code",
   "execution_count": null,
   "outputs": [],
   "source": [
    "#迭代器:在类里面由__iter__和__next__的方法创建的对象就是迭代器\n",
    "#作用:根据位置获取下一个值\n",
    "\n",
    "class MyIterator(object):\n",
    "    def __init__(self):\n",
    "        self.my_list = [1,2,3]\n",
    "        self.current_index = 0\n",
    "    \n",
    "    def __iter__(self):\n",
    "        #返回一个迭代器对象\n",
    "        return self\n",
    "    \n",
    "    def __next__(self): \n",
    "        if self.current_index <= len(self.my_list):\n",
    "        #获取迭代器中的下一个值\n",
    "            result = self.my_list[self.current_index]\n",
    "            self.current_index += 1\n",
    "            return result\n",
    "        else:\n",
    "            #抛出异常\n",
    "            raise StopIteration()\n",
    "            \n",
    "#创建迭代器\n",
    "my_iterator = MyIterator()\n",
    "\n",
    "#使用next函数获取迭代器中的下一个值\n",
    "#result = next(my_iterator)\n",
    "#result = next(my_iterator)\n",
    "#print(result)\n",
    "#for循环内部会自动处理停止迭代异常\n",
    "for value in my_iterator:\n",
    "    print(value)\n",
    "    "
   ],
   "metadata": {
    "collapsed": false,
    "pycharm": {
     "name": "#%%\n"
    }
   }
  },
  {
   "cell_type": "code",
   "execution_count": null,
   "outputs": [],
   "source": [
    "#生成器\n",
    "#生成器是一个特殊的迭代器,也就是说它可以通过next函数和for 循环取值\n",
    "#迭代器和生成器的好处是:根据需要每次生成一个值,可以节省内存\n",
    "#值只能往后取,不能取前面的值\n",
    "\n",
    "#1.使用生成器表达式\n",
    "result = (x for x in range(4))\n",
    "print(result,type(result))\n",
    "\n",
    "#测试:使用next获取下一个值\n",
    "#value = next(result)\n",
    "#print(value)\n",
    "#\n",
    "#for value in result:\n",
    "#    print(value)\n",
    "\n",
    "#2.使用yield创建生成器\n",
    "\n",
    "#def show_num():\n",
    "#    for i in range(5):\n",
    "#        return i\n",
    "#value = show_num()\n",
    "#\n",
    "#print(value)\n",
    "\n",
    "\n",
    "def show_num2():\n",
    "    for i in range(5):\n",
    "        print('11111111111')\n",
    "#        代码遇到yield会暂停,然后把结果返回出去,下次启动生成器在暂停的位置\n",
    "#        继续往下执行\n",
    "#        yield特点:可以返回多次值,return只能返回一次\n",
    "        yield i\n",
    "        print('22222222222')\n",
    "\n",
    "g = show_num2()\n",
    "#value = next(g)\n",
    "#print(value)\n",
    "#value = next(g)\n",
    "#print(value)\n",
    "#value = next(g)\n",
    "#print(value)\n",
    "\n",
    "for value in g:\n",
    "    print(value,'\\n')\n",
    "    "
   ],
   "metadata": {
    "collapsed": false,
    "pycharm": {
     "name": "#%%\n"
    }
   }
  },
  {
   "cell_type": "code",
   "execution_count": null,
   "outputs": [],
   "source": [
    "#线程&进程\n",
    "#线程:执行代码的分支,默认程序只有一个线程\n",
    "#线程执行的时候是无序的,由CPU调度决定\n",
    "import time\n",
    "import threading\n",
    "\n",
    "def aa(count):\n",
    "    for i in range(count):\n",
    "        print('aa')\n",
    "        time.sleep(0.2)\n",
    "\n",
    "def bb(count):\n",
    "    for i in range(count):\n",
    "        print('bb')\n",
    "        time.sleep(0.2)\n",
    "        \n",
    "\n",
    "if __name__ =='__main__':\n",
    "#    创建子线程执行对应的代码\n",
    "#    target表示目标函数\n",
    "#    args表示以元组方式传参\n",
    "#    sub_thread = threading.Thread(target= aa,args=(3,))\n",
    "#    kargs表示以字典方式传参\n",
    "    sub_thread = threading.Thread(target= aa,kwargs={'count':3})\n",
    "    \n",
    "#    创建子线程2执行bb()\n",
    "    sub2_thread = threading.Thread(target=bb,args=3)\n",
    "    \n",
    "#    启动线程,只有启动才会让线程执行对应函数里面的代码\n",
    "    sub_thread.start()\n",
    "    sub2_thread.start()\n",
    " \n",
    "#    主线程执行bb\n",
    "#    bb()"
   ],
   "metadata": {
    "collapsed": false,
    "pycharm": {
     "name": "#%%\n"
    }
   }
  },
  {
   "cell_type": "code",
   "execution_count": null,
   "outputs": [],
   "source": [
    "#主线程会等待所有的子线程执行完毕后才会退出\n",
    "def aa():\n",
    "    print('aa:',threading.current_thread())\n",
    "    print('这个代码是在子线程中执行')\n",
    "    for i in range(10):\n",
    "        print('aa')\n",
    "        time.sleep(0.2)\n",
    "\n",
    "\n",
    "if __name__ =='__main__':\n",
    "#    target指定的目标函数是在子线程中执行的\n",
    "    print('main:',threading.current_thread())\n",
    "#    daemon参数也可设置守护线程\n",
    "    t1 = threading.Thread(target=aa,daemon=True)\n",
    "#    设置守护线程,主线程退出子线程直接销毁,不再执行对应的代码\n",
    "#    t1.setDaemon(True)\n",
    "    t1.start()\n",
    "    \n",
    "    time.sleep(1)\n",
    "    print('over')\n",
    "    \n",
    "    "
   ],
   "metadata": {
    "collapsed": false,
    "pycharm": {
     "name": "#%%\n"
    }
   }
  },
  {
   "cell_type": "code",
   "execution_count": null,
   "outputs": [],
   "source": [
    "#线程 互斥锁\n",
    "g_num = 0\n",
    "#创建互斥锁\n",
    "lock = threading.Lock()\n",
    "\n",
    "def aa():\n",
    "#上锁\n",
    "    lock.acquire()\n",
    "    global g_num\n",
    "    for i in range(1000000):\n",
    "        g_num += 1\n",
    "        \n",
    "    print('aa:',g_num)\n",
    "#释放锁\n",
    "    lock.release()\n",
    "    \n",
    "def bb():\n",
    "    #上锁\n",
    "    lock.acquire()\n",
    "    global g_num\n",
    "    for i in range(1000000):\n",
    "        g_num += 1\n",
    "        \n",
    "    print('bb:',g_num) \n",
    "    #释放锁\n",
    "    lock.release()\n",
    "\n",
    "\n",
    "if __name__ =='__main__':\n",
    "#    创建两个线程\n",
    "    t1 = threading.Thread(target=aa)\n",
    "    t2 = threading.Thread(target=bb)\n",
    "    \n",
    "    t1.start()\n",
    "    t2.start()\n",
    "    "
   ],
   "metadata": {
    "collapsed": false,
    "pycharm": {
     "name": "#%%\n"
    }
   }
  },
  {
   "cell_type": "code",
   "execution_count": 3,
   "outputs": [],
   "source": [
    "#进程:每次创建一个进程操作系统就会给这个进程分配对应的资源,一个进程里面\n",
    "#默认有一个线程,真正干活的是线程,进程只提供资源\n",
    "    \n",
    "#使用多进程也可以完成多任务\n",
    "import multiprocessing\n",
    "\n",
    "def show():\n",
    "    for i in range(5):\n",
    "        print('show')\n",
    "        time.sleep(0.2)\n",
    "\n",
    "def info():\n",
    "    for i in range(5):\n",
    "        print('info')\n",
    "        time.sleep(0.2)\n",
    "\n",
    "if __name__ =='__main__':\n",
    "#    创建子进程\n",
    "    first = multiprocessing.Process(target=show)\n",
    "    second = multiprocessing.Process(target=info)\n",
    "    \n",
    "#    启动进程执行任务\n",
    "    first.start()\n",
    "    second.start()\n",
    "    "
   ],
   "metadata": {
    "collapsed": false,
    "pycharm": {
     "name": "#%%\n",
     "is_executing": false
    }
   }
  },
  {
   "cell_type": "code",
   "execution_count": null,
   "outputs": [],
   "source": [
    "#主进程会等待子进程结束后才会终止\n",
    "def show(name):\n",
    "    print('show:',multiprocessing.current_process())\n",
    "    while True:\n",
    "        print('haha',name)\n",
    "        time.sleep(0.2)  \n",
    " \n",
    "if __name__ =='__main__':\n",
    "    print('main:',multiprocessing.current_process())\n",
    "    sub_process = multiprocessing.Process(target=show,\n",
    "                                          args=('li'),kwargs={})\n",
    "    sub_process.start()\n",
    "    time.sleep(2)\n",
    "#    方法1.让子进程终止,销毁子进程\n",
    "#    sub_process.terminate()\n",
    "#    方法2,创建守护进程\n",
    "    sub_process.daemon = True\n",
    "    print('over')\n",
    "    "
   ],
   "metadata": {
    "collapsed": false,
    "pycharm": {
     "name": "#%%\n"
    }
   }
  },
  {
   "cell_type": "code",
   "execution_count": 5,
   "outputs": [],
   "source": [
    "my_list =[]\n",
    "\n",
    "def add_data():\n",
    "    for i in range(10):\n",
    "        my_list.append() \n",
    "        time.sleep(0.3)\n",
    "    print('add_data:',my_list)\n",
    "\n",
    "def read_data():\n",
    "    print('read:',my_list)\n",
    "    \n",
    "if __name__ =='__main__':\n",
    "    \n",
    "    p1 = multiprocessing.Process(target=add_data)\n",
    "    p2 = multiprocessing.Process(target=read_data)\n",
    "    \n",
    "    p1.start()\n",
    "#    进程等待,主进程等待子进程执行完后再让后面的代码执行\n",
    "    p1.join()\n",
    "    p2.start()"
   ],
   "metadata": {
    "collapsed": false,
    "pycharm": {
     "name": "#%% 进程之间不共享全局变量(相互独立)\n",
     "is_executing": false
    }
   }
  },
  {
   "cell_type": "code",
   "execution_count": null,
   "outputs": [],
   "source": [
    "import multiprocessing\n",
    "\n",
    "#创建消息队列\n",
    "queue = multiprocessing.Queue(3)\n",
    "\n",
    "#往队列添加数据\n",
    "queue.put(1)\n",
    "queue.put(2)\n",
    "queue.put(3)\n",
    "\n",
    "#从队列中获取数据\n",
    "result = queue.get()\n",
    "print(result)\n",
    "result = queue.get()\n",
    "print(result)\n",
    "result = queue.get()\n",
    "print(result)\n",
    "\n"
   ],
   "metadata": {
    "collapsed": false,
    "pycharm": {
     "name": "#%%\n"
    }
   }
  },
  {
   "cell_type": "code",
   "execution_count": 4,
   "outputs": [],
   "source": [
    "#进程之间使用消息队列通信\n",
    "def add_data(queue):\n",
    "    for i in range(3):\n",
    "        queue.put(i)\n",
    "        time.sleep(0.3)\n",
    "        \n",
    "def read_data(queue):\n",
    "    while True:\n",
    "#        判断队列是否为空\n",
    "        if queue.empty():\n",
    "            value = queue.get()\n",
    "            print(value)\n",
    "    \n",
    "if __name__ =='__main__':\n",
    "#默认队列里面可以放入任意多个数据,\n",
    "#3表示队列中最多只能容纳3个数据\n",
    "    queue = multiprocessing.Queue(3)\n",
    "    p1 = multiprocessing.Process(target=add_data,args=(queue,))\n",
    "    p2 = multiprocessing.Process(target=read_data,args=(queue,))\n",
    "    \n",
    "    p1.start()\n",
    "#    进程等待,主进程等待子进程执行完后再让后面的代码执行\n",
    "    p1.join()\n",
    "    p2.start()\n",
    "\n",
    "#多任务可以选择进程和线程\n",
    "#从资源角度考虑,线程更节省资源,进程消耗的资源更多\n",
    "#从代码稳定性来说,多进程要比多线程稳定性要强,\n",
    "#因为一个进程挂掉不会影响掐进程"
   ],
   "metadata": {
    "collapsed": false,
    "pycharm": {
     "name": "#%%\n",
     "is_executing": false
    }
   }
  },
  {
   "cell_type": "code",
   "execution_count": null,
   "outputs": [],
   "source": [
    "\n"
   ],
   "metadata": {
    "collapsed": false,
    "pycharm": {
     "name": "#%%\n"
    }
   }
  }
 ],
 "metadata": {
  "language_info": {
   "codemirror_mode": {
    "name": "ipython",
    "version": 2
   },
   "file_extension": ".py",
   "mimetype": "text/x-python",
   "name": "python",
   "nbconvert_exporter": "python",
   "pygments_lexer": "ipython2",
   "version": "2.7.6"
  },
  "kernelspec": {
   "name": "python3",
   "language": "python",
   "display_name": "Python 3"
  },
  "pycharm": {
   "stem_cell": {
    "cell_type": "raw",
    "source": [],
    "metadata": {
     "collapsed": false
    }
   }
  }
 },
 "nbformat": 4,
 "nbformat_minor": 0
}